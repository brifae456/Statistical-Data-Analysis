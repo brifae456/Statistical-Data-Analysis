{
 "cells": [
  {
   "cell_type": "markdown",
   "metadata": {},
   "source": [
    "# Which one is a better plan?\n",
    "\n",
    "You work as an analyst for the telecom operator Megaline. The company offers its clients two prepaid plans, Surf and Ultimate. The commercial department wants to know which of the plans brings in more revenue in order to adjust the advertising budget.\n",
    "\n",
    "You are going to carry out a preliminary analysis of the plans based on a relatively small client selection. You'll have the data on 500 Megaline clients: who the clients are, where they're from, which plan they use, and the number of calls they made and text messages they sent in 2018. Your job is to analyze the clients' behavior and determine which prepaid plan brings in more revenue."
   ]
  },
  {
   "cell_type": "markdown",
   "metadata": {},
   "source": [
    "## Initialization"
   ]
  },
  {
   "cell_type": "markdown",
   "metadata": {},
   "source": []
  },
  {
   "cell_type": "code",
   "execution_count": 1,
   "metadata": {},
   "outputs": [],
   "source": [
    "# Loading all the libraries\n",
    "import pandas as pd\n",
    "import numpy as np\n",
    "from scipy import stats as st\n",
    "from matplotlib import pyplot as plt\n",
    "import math\n",
    "import seaborn as sns"
   ]
  },
  {
   "cell_type": "markdown",
   "metadata": {},
   "source": [
    "## Load data"
   ]
  },
  {
   "cell_type": "markdown",
   "metadata": {},
   "source": []
  },
  {
   "cell_type": "code",
   "execution_count": 2,
   "metadata": {},
   "outputs": [],
   "source": [
    "# Load the data files into different DataFrames\n",
    "calls = pd.read_csv('/datasets/megaline_calls.csv')\n",
    "internet = pd.read_csv('/datasets/megaline_internet.csv')\n",
    "messages = pd.read_csv('/datasets/megaline_messages.csv')\n",
    "plans = pd.read_csv('/datasets/megaline_plans.csv')\n",
    "users = pd.read_csv('/datasets/megaline_users.csv')"
   ]
  },
  {
   "cell_type": "markdown",
   "metadata": {},
   "source": [
    "## Investigate and Prepare Data"
   ]
  },
  {
   "cell_type": "code",
   "execution_count": 3,
   "metadata": {},
   "outputs": [
    {
     "name": "stdout",
     "output_type": "stream",
     "text": [
      "<class 'pandas.core.frame.DataFrame'>\n",
      "RangeIndex: 2 entries, 0 to 1\n",
      "Data columns (total 8 columns):\n",
      " #   Column                 Non-Null Count  Dtype  \n",
      "---  ------                 --------------  -----  \n",
      " 0   messages_included      2 non-null      int64  \n",
      " 1   mb_per_month_included  2 non-null      int64  \n",
      " 2   minutes_included       2 non-null      int64  \n",
      " 3   usd_monthly_pay        2 non-null      int64  \n",
      " 4   usd_per_gb             2 non-null      int64  \n",
      " 5   usd_per_message        2 non-null      float64\n",
      " 6   usd_per_minute         2 non-null      float64\n",
      " 7   plan_name              2 non-null      object \n",
      "dtypes: float64(2), int64(5), object(1)\n",
      "memory usage: 256.0+ bytes\n"
     ]
    }
   ],
   "source": [
    "# Print the general/summary information about the plans' DataFrame\n",
    "plans.info()"
   ]
  },
  {
   "cell_type": "code",
   "execution_count": 4,
   "metadata": {},
   "outputs": [
    {
     "data": {
      "text/html": [
       "<div>\n",
       "<style scoped>\n",
       "    .dataframe tbody tr th:only-of-type {\n",
       "        vertical-align: middle;\n",
       "    }\n",
       "\n",
       "    .dataframe tbody tr th {\n",
       "        vertical-align: top;\n",
       "    }\n",
       "\n",
       "    .dataframe thead th {\n",
       "        text-align: right;\n",
       "    }\n",
       "</style>\n",
       "<table border=\"1\" class=\"dataframe\">\n",
       "  <thead>\n",
       "    <tr style=\"text-align: right;\">\n",
       "      <th></th>\n",
       "      <th>messages_included</th>\n",
       "      <th>mb_per_month_included</th>\n",
       "      <th>minutes_included</th>\n",
       "      <th>usd_monthly_pay</th>\n",
       "      <th>usd_per_gb</th>\n",
       "      <th>usd_per_message</th>\n",
       "      <th>usd_per_minute</th>\n",
       "      <th>plan_name</th>\n",
       "    </tr>\n",
       "  </thead>\n",
       "  <tbody>\n",
       "    <tr>\n",
       "      <th>0</th>\n",
       "      <td>50</td>\n",
       "      <td>15360</td>\n",
       "      <td>500</td>\n",
       "      <td>20</td>\n",
       "      <td>10</td>\n",
       "      <td>0.03</td>\n",
       "      <td>0.03</td>\n",
       "      <td>surf</td>\n",
       "    </tr>\n",
       "    <tr>\n",
       "      <th>1</th>\n",
       "      <td>1000</td>\n",
       "      <td>30720</td>\n",
       "      <td>3000</td>\n",
       "      <td>70</td>\n",
       "      <td>7</td>\n",
       "      <td>0.01</td>\n",
       "      <td>0.01</td>\n",
       "      <td>ultimate</td>\n",
       "    </tr>\n",
       "  </tbody>\n",
       "</table>\n",
       "</div>"
      ],
      "text/plain": [
       "   messages_included  mb_per_month_included  minutes_included  \\\n",
       "0                 50                  15360               500   \n",
       "1               1000                  30720              3000   \n",
       "\n",
       "   usd_monthly_pay  usd_per_gb  usd_per_message  usd_per_minute plan_name  \n",
       "0               20          10             0.03            0.03      surf  \n",
       "1               70           7             0.01            0.01  ultimate  "
      ]
     },
     "metadata": {},
     "output_type": "display_data"
    }
   ],
   "source": [
    "# Print a sample of data for plans\n",
    "display(plans.tail())"
   ]
  },
  {
   "cell_type": "markdown",
   "metadata": {},
   "source": [
    "There is a column designated for usd_per_gb but not not the amount of gigabytes that are included in the plan. May cause confusion, I would make a seperate column designates for gb_per_month_included to help. "
   ]
  },
  {
   "cell_type": "markdown",
   "metadata": {},
   "source": [
    " "
   ]
  },
  {
   "cell_type": "markdown",
   "metadata": {},
   "source": [
    "## Fix data"
   ]
  },
  {
   "cell_type": "markdown",
   "metadata": {},
   "source": [
    "plans['gb_per_month_included'] = plans['mb_per_month_included'] / 1024\n",
    "display(plans.head())"
   ]
  },
  {
   "cell_type": "code",
   "execution_count": 5,
   "metadata": {},
   "outputs": [
    {
     "data": {
      "text/html": [
       "<div>\n",
       "<style scoped>\n",
       "    .dataframe tbody tr th:only-of-type {\n",
       "        vertical-align: middle;\n",
       "    }\n",
       "\n",
       "    .dataframe tbody tr th {\n",
       "        vertical-align: top;\n",
       "    }\n",
       "\n",
       "    .dataframe thead th {\n",
       "        text-align: right;\n",
       "    }\n",
       "</style>\n",
       "<table border=\"1\" class=\"dataframe\">\n",
       "  <thead>\n",
       "    <tr style=\"text-align: right;\">\n",
       "      <th></th>\n",
       "      <th>messages_included</th>\n",
       "      <th>mb_per_month_included</th>\n",
       "      <th>minutes_included</th>\n",
       "      <th>usd_monthly_pay</th>\n",
       "      <th>usd_per_gb</th>\n",
       "      <th>usd_per_message</th>\n",
       "      <th>usd_per_minute</th>\n",
       "      <th>plan_name</th>\n",
       "      <th>gb_per_month_included</th>\n",
       "    </tr>\n",
       "  </thead>\n",
       "  <tbody>\n",
       "    <tr>\n",
       "      <th>0</th>\n",
       "      <td>50</td>\n",
       "      <td>15360</td>\n",
       "      <td>500</td>\n",
       "      <td>20</td>\n",
       "      <td>10</td>\n",
       "      <td>0.03</td>\n",
       "      <td>0.03</td>\n",
       "      <td>surf</td>\n",
       "      <td>15.0</td>\n",
       "    </tr>\n",
       "    <tr>\n",
       "      <th>1</th>\n",
       "      <td>1000</td>\n",
       "      <td>30720</td>\n",
       "      <td>3000</td>\n",
       "      <td>70</td>\n",
       "      <td>7</td>\n",
       "      <td>0.01</td>\n",
       "      <td>0.01</td>\n",
       "      <td>ultimate</td>\n",
       "      <td>30.0</td>\n",
       "    </tr>\n",
       "  </tbody>\n",
       "</table>\n",
       "</div>"
      ],
      "text/plain": [
       "   messages_included  mb_per_month_included  minutes_included  \\\n",
       "0                 50                  15360               500   \n",
       "1               1000                  30720              3000   \n",
       "\n",
       "   usd_monthly_pay  usd_per_gb  usd_per_message  usd_per_minute plan_name  \\\n",
       "0               20          10             0.03            0.03      surf   \n",
       "1               70           7             0.01            0.01  ultimate   \n",
       "\n",
       "   gb_per_month_included  \n",
       "0                   15.0  \n",
       "1                   30.0  "
      ]
     },
     "metadata": {},
     "output_type": "display_data"
    }
   ],
   "source": [
    "plans['gb_per_month_included'] = plans['mb_per_month_included'] / 1024\n",
    "display(plans.head())"
   ]
  },
  {
   "cell_type": "markdown",
   "metadata": {},
   "source": []
  },
  {
   "cell_type": "code",
   "execution_count": 7,
   "metadata": {},
   "outputs": [
    {
     "name": "stdout",
     "output_type": "stream",
     "text": [
      "<class 'pandas.core.frame.DataFrame'>\n",
      "RangeIndex: 500 entries, 0 to 499\n",
      "Data columns (total 8 columns):\n",
      " #   Column      Non-Null Count  Dtype \n",
      "---  ------      --------------  ----- \n",
      " 0   user_id     500 non-null    int64 \n",
      " 1   first_name  500 non-null    object\n",
      " 2   last_name   500 non-null    object\n",
      " 3   age         500 non-null    int64 \n",
      " 4   city        500 non-null    object\n",
      " 5   reg_date    500 non-null    object\n",
      " 6   plan        500 non-null    object\n",
      " 7   churn_date  34 non-null     object\n",
      "dtypes: int64(2), object(6)\n",
      "memory usage: 31.4+ KB\n"
     ]
    }
   ],
   "source": [
    "# Print the general/summary information about the users' DataFrame\n",
    "users.info()"
   ]
  },
  {
   "cell_type": "code",
   "execution_count": 8,
   "metadata": {},
   "outputs": [
    {
     "data": {
      "text/html": [
       "<div>\n",
       "<style scoped>\n",
       "    .dataframe tbody tr th:only-of-type {\n",
       "        vertical-align: middle;\n",
       "    }\n",
       "\n",
       "    .dataframe tbody tr th {\n",
       "        vertical-align: top;\n",
       "    }\n",
       "\n",
       "    .dataframe thead th {\n",
       "        text-align: right;\n",
       "    }\n",
       "</style>\n",
       "<table border=\"1\" class=\"dataframe\">\n",
       "  <thead>\n",
       "    <tr style=\"text-align: right;\">\n",
       "      <th></th>\n",
       "      <th>user_id</th>\n",
       "      <th>first_name</th>\n",
       "      <th>last_name</th>\n",
       "      <th>age</th>\n",
       "      <th>city</th>\n",
       "      <th>reg_date</th>\n",
       "      <th>plan</th>\n",
       "      <th>churn_date</th>\n",
       "    </tr>\n",
       "  </thead>\n",
       "  <tbody>\n",
       "    <tr>\n",
       "      <th>0</th>\n",
       "      <td>1000</td>\n",
       "      <td>Anamaria</td>\n",
       "      <td>Bauer</td>\n",
       "      <td>45</td>\n",
       "      <td>Atlanta-Sandy Springs-Roswell, GA MSA</td>\n",
       "      <td>2018-12-24</td>\n",
       "      <td>ultimate</td>\n",
       "      <td>NaN</td>\n",
       "    </tr>\n",
       "    <tr>\n",
       "      <th>1</th>\n",
       "      <td>1001</td>\n",
       "      <td>Mickey</td>\n",
       "      <td>Wilkerson</td>\n",
       "      <td>28</td>\n",
       "      <td>Seattle-Tacoma-Bellevue, WA MSA</td>\n",
       "      <td>2018-08-13</td>\n",
       "      <td>surf</td>\n",
       "      <td>NaN</td>\n",
       "    </tr>\n",
       "    <tr>\n",
       "      <th>2</th>\n",
       "      <td>1002</td>\n",
       "      <td>Carlee</td>\n",
       "      <td>Hoffman</td>\n",
       "      <td>36</td>\n",
       "      <td>Las Vegas-Henderson-Paradise, NV MSA</td>\n",
       "      <td>2018-10-21</td>\n",
       "      <td>surf</td>\n",
       "      <td>NaN</td>\n",
       "    </tr>\n",
       "    <tr>\n",
       "      <th>3</th>\n",
       "      <td>1003</td>\n",
       "      <td>Reynaldo</td>\n",
       "      <td>Jenkins</td>\n",
       "      <td>52</td>\n",
       "      <td>Tulsa, OK MSA</td>\n",
       "      <td>2018-01-28</td>\n",
       "      <td>surf</td>\n",
       "      <td>NaN</td>\n",
       "    </tr>\n",
       "    <tr>\n",
       "      <th>4</th>\n",
       "      <td>1004</td>\n",
       "      <td>Leonila</td>\n",
       "      <td>Thompson</td>\n",
       "      <td>40</td>\n",
       "      <td>Seattle-Tacoma-Bellevue, WA MSA</td>\n",
       "      <td>2018-05-23</td>\n",
       "      <td>surf</td>\n",
       "      <td>NaN</td>\n",
       "    </tr>\n",
       "    <tr>\n",
       "      <th>...</th>\n",
       "      <td>...</td>\n",
       "      <td>...</td>\n",
       "      <td>...</td>\n",
       "      <td>...</td>\n",
       "      <td>...</td>\n",
       "      <td>...</td>\n",
       "      <td>...</td>\n",
       "      <td>...</td>\n",
       "    </tr>\n",
       "    <tr>\n",
       "      <th>495</th>\n",
       "      <td>1495</td>\n",
       "      <td>Fidel</td>\n",
       "      <td>Sharpe</td>\n",
       "      <td>67</td>\n",
       "      <td>New York-Newark-Jersey City, NY-NJ-PA MSA</td>\n",
       "      <td>2018-09-04</td>\n",
       "      <td>surf</td>\n",
       "      <td>NaN</td>\n",
       "    </tr>\n",
       "    <tr>\n",
       "      <th>496</th>\n",
       "      <td>1496</td>\n",
       "      <td>Ariel</td>\n",
       "      <td>Shepherd</td>\n",
       "      <td>49</td>\n",
       "      <td>New Orleans-Metairie, LA MSA</td>\n",
       "      <td>2018-02-20</td>\n",
       "      <td>surf</td>\n",
       "      <td>NaN</td>\n",
       "    </tr>\n",
       "    <tr>\n",
       "      <th>497</th>\n",
       "      <td>1497</td>\n",
       "      <td>Donte</td>\n",
       "      <td>Barrera</td>\n",
       "      <td>49</td>\n",
       "      <td>Los Angeles-Long Beach-Anaheim, CA MSA</td>\n",
       "      <td>2018-12-10</td>\n",
       "      <td>ultimate</td>\n",
       "      <td>NaN</td>\n",
       "    </tr>\n",
       "    <tr>\n",
       "      <th>498</th>\n",
       "      <td>1498</td>\n",
       "      <td>Scot</td>\n",
       "      <td>Williamson</td>\n",
       "      <td>51</td>\n",
       "      <td>New York-Newark-Jersey City, NY-NJ-PA MSA</td>\n",
       "      <td>2018-02-04</td>\n",
       "      <td>surf</td>\n",
       "      <td>NaN</td>\n",
       "    </tr>\n",
       "    <tr>\n",
       "      <th>499</th>\n",
       "      <td>1499</td>\n",
       "      <td>Shena</td>\n",
       "      <td>Dickson</td>\n",
       "      <td>37</td>\n",
       "      <td>Orlando-Kissimmee-Sanford, FL MSA</td>\n",
       "      <td>2018-05-06</td>\n",
       "      <td>surf</td>\n",
       "      <td>NaN</td>\n",
       "    </tr>\n",
       "  </tbody>\n",
       "</table>\n",
       "<p>500 rows × 8 columns</p>\n",
       "</div>"
      ],
      "text/plain": [
       "     user_id first_name   last_name  age  \\\n",
       "0       1000   Anamaria       Bauer   45   \n",
       "1       1001     Mickey   Wilkerson   28   \n",
       "2       1002     Carlee     Hoffman   36   \n",
       "3       1003   Reynaldo     Jenkins   52   \n",
       "4       1004    Leonila    Thompson   40   \n",
       "..       ...        ...         ...  ...   \n",
       "495     1495      Fidel      Sharpe   67   \n",
       "496     1496      Ariel    Shepherd   49   \n",
       "497     1497      Donte     Barrera   49   \n",
       "498     1498       Scot  Williamson   51   \n",
       "499     1499      Shena     Dickson   37   \n",
       "\n",
       "                                          city    reg_date      plan  \\\n",
       "0        Atlanta-Sandy Springs-Roswell, GA MSA  2018-12-24  ultimate   \n",
       "1              Seattle-Tacoma-Bellevue, WA MSA  2018-08-13      surf   \n",
       "2         Las Vegas-Henderson-Paradise, NV MSA  2018-10-21      surf   \n",
       "3                                Tulsa, OK MSA  2018-01-28      surf   \n",
       "4              Seattle-Tacoma-Bellevue, WA MSA  2018-05-23      surf   \n",
       "..                                         ...         ...       ...   \n",
       "495  New York-Newark-Jersey City, NY-NJ-PA MSA  2018-09-04      surf   \n",
       "496               New Orleans-Metairie, LA MSA  2018-02-20      surf   \n",
       "497     Los Angeles-Long Beach-Anaheim, CA MSA  2018-12-10  ultimate   \n",
       "498  New York-Newark-Jersey City, NY-NJ-PA MSA  2018-02-04      surf   \n",
       "499          Orlando-Kissimmee-Sanford, FL MSA  2018-05-06      surf   \n",
       "\n",
       "    churn_date  \n",
       "0          NaN  \n",
       "1          NaN  \n",
       "2          NaN  \n",
       "3          NaN  \n",
       "4          NaN  \n",
       "..         ...  \n",
       "495        NaN  \n",
       "496        NaN  \n",
       "497        NaN  \n",
       "498        NaN  \n",
       "499        NaN  \n",
       "\n",
       "[500 rows x 8 columns]"
      ]
     },
     "metadata": {},
     "output_type": "display_data"
    },
    {
     "data": {
      "text/plain": [
       "user_id         0\n",
       "first_name      0\n",
       "last_name       0\n",
       "age             0\n",
       "city            0\n",
       "reg_date        0\n",
       "plan            0\n",
       "churn_date    466\n",
       "dtype: int64"
      ]
     },
     "execution_count": 8,
     "metadata": {},
     "output_type": "execute_result"
    }
   ],
   "source": [
    "# Print a sample of data for users\n",
    "display(users)\n",
    "users.isna().sum()"
   ]
  },
  {
   "cell_type": "markdown",
   "metadata": {},
   "source": [
    "Looking at the data I was initially concerned about the Non-Null values but looks like there are some applicable dates, with 500 listed and there are 466 Non-Null values out of the 500 rows. This information may be important later so will not modify this at this time.\n",
    "Only other note would be the dates for the reg_date and churn_date should be changed to datetime objects from its current objects status."
   ]
  },
  {
   "cell_type": "markdown",
   "metadata": {},
   "source": [
    " "
   ]
  },
  {
   "cell_type": "markdown",
   "metadata": {},
   "source": [
    "## Fix Data"
   ]
  },
  {
   "cell_type": "markdown",
   "metadata": {},
   "source": [
    "[Fix obvious issues with the data given the initial observations.]"
   ]
  },
  {
   "cell_type": "code",
   "execution_count": 9,
   "metadata": {},
   "outputs": [
    {
     "name": "stdout",
     "output_type": "stream",
     "text": [
      "<class 'pandas.core.frame.DataFrame'>\n",
      "RangeIndex: 500 entries, 0 to 499\n",
      "Data columns (total 8 columns):\n",
      " #   Column      Non-Null Count  Dtype         \n",
      "---  ------      --------------  -----         \n",
      " 0   user_id     500 non-null    int64         \n",
      " 1   first_name  500 non-null    object        \n",
      " 2   last_name   500 non-null    object        \n",
      " 3   age         500 non-null    int64         \n",
      " 4   city        500 non-null    object        \n",
      " 5   reg_date    500 non-null    datetime64[ns]\n",
      " 6   plan        500 non-null    object        \n",
      " 7   churn_date  34 non-null     datetime64[ns]\n",
      "dtypes: datetime64[ns](2), int64(2), object(4)\n",
      "memory usage: 31.4+ KB\n"
     ]
    }
   ],
   "source": [
    "# Convert reg_date to datetime format\n",
    "users['reg_date'] = pd.to_datetime(users['reg_date'], format='%Y-%m-%d')\n",
    "users['churn_date'] = pd.to_datetime(users['churn_date'], format='%Y-%m-%d')\n",
    "users.info()"
   ]
  },
  {
   "cell_type": "markdown",
   "metadata": {},
   "source": [
    "## Enrich Data"
   ]
  },
  {
   "cell_type": "markdown",
   "metadata": {},
   "source": [
    "## Calls"
   ]
  },
  {
   "cell_type": "code",
   "execution_count": 10,
   "metadata": {},
   "outputs": [
    {
     "name": "stdout",
     "output_type": "stream",
     "text": [
      "<class 'pandas.core.frame.DataFrame'>\n",
      "RangeIndex: 137735 entries, 0 to 137734\n",
      "Data columns (total 4 columns):\n",
      " #   Column     Non-Null Count   Dtype  \n",
      "---  ------     --------------   -----  \n",
      " 0   id         137735 non-null  object \n",
      " 1   user_id    137735 non-null  int64  \n",
      " 2   call_date  137735 non-null  object \n",
      " 3   duration   137735 non-null  float64\n",
      "dtypes: float64(1), int64(1), object(2)\n",
      "memory usage: 4.2+ MB\n"
     ]
    }
   ],
   "source": [
    "# Print the general/summary information about the calls' DataFrame\n",
    "calls.info()\n"
   ]
  },
  {
   "cell_type": "code",
   "execution_count": 11,
   "metadata": {},
   "outputs": [
    {
     "data": {
      "text/html": [
       "<div>\n",
       "<style scoped>\n",
       "    .dataframe tbody tr th:only-of-type {\n",
       "        vertical-align: middle;\n",
       "    }\n",
       "\n",
       "    .dataframe tbody tr th {\n",
       "        vertical-align: top;\n",
       "    }\n",
       "\n",
       "    .dataframe thead th {\n",
       "        text-align: right;\n",
       "    }\n",
       "</style>\n",
       "<table border=\"1\" class=\"dataframe\">\n",
       "  <thead>\n",
       "    <tr style=\"text-align: right;\">\n",
       "      <th></th>\n",
       "      <th>id</th>\n",
       "      <th>user_id</th>\n",
       "      <th>call_date</th>\n",
       "      <th>duration</th>\n",
       "    </tr>\n",
       "  </thead>\n",
       "  <tbody>\n",
       "    <tr>\n",
       "      <th>21069</th>\n",
       "      <td>1077_1036</td>\n",
       "      <td>1077</td>\n",
       "      <td>2018-01-23</td>\n",
       "      <td>17.56</td>\n",
       "    </tr>\n",
       "    <tr>\n",
       "      <th>103547</th>\n",
       "      <td>1365_743</td>\n",
       "      <td>1365</td>\n",
       "      <td>2018-10-23</td>\n",
       "      <td>8.82</td>\n",
       "    </tr>\n",
       "    <tr>\n",
       "      <th>131598</th>\n",
       "      <td>1472_685</td>\n",
       "      <td>1472</td>\n",
       "      <td>2018-09-11</td>\n",
       "      <td>9.51</td>\n",
       "    </tr>\n",
       "    <tr>\n",
       "      <th>48404</th>\n",
       "      <td>1174_381</td>\n",
       "      <td>1174</td>\n",
       "      <td>2018-08-05</td>\n",
       "      <td>5.17</td>\n",
       "    </tr>\n",
       "    <tr>\n",
       "      <th>5039</th>\n",
       "      <td>1022_305</td>\n",
       "      <td>1022</td>\n",
       "      <td>2018-08-12</td>\n",
       "      <td>0.00</td>\n",
       "    </tr>\n",
       "    <tr>\n",
       "      <th>116576</th>\n",
       "      <td>1408_225</td>\n",
       "      <td>1408</td>\n",
       "      <td>2018-09-02</td>\n",
       "      <td>2.17</td>\n",
       "    </tr>\n",
       "    <tr>\n",
       "      <th>107714</th>\n",
       "      <td>1382_461</td>\n",
       "      <td>1382</td>\n",
       "      <td>2018-11-09</td>\n",
       "      <td>16.87</td>\n",
       "    </tr>\n",
       "    <tr>\n",
       "      <th>37025</th>\n",
       "      <td>1140_309</td>\n",
       "      <td>1140</td>\n",
       "      <td>2018-07-17</td>\n",
       "      <td>11.30</td>\n",
       "    </tr>\n",
       "    <tr>\n",
       "      <th>78734</th>\n",
       "      <td>1281_495</td>\n",
       "      <td>1281</td>\n",
       "      <td>2018-11-04</td>\n",
       "      <td>7.32</td>\n",
       "    </tr>\n",
       "    <tr>\n",
       "      <th>106651</th>\n",
       "      <td>1377_203</td>\n",
       "      <td>1377</td>\n",
       "      <td>2018-12-27</td>\n",
       "      <td>4.25</td>\n",
       "    </tr>\n",
       "  </tbody>\n",
       "</table>\n",
       "</div>"
      ],
      "text/plain": [
       "               id  user_id   call_date  duration\n",
       "21069   1077_1036     1077  2018-01-23     17.56\n",
       "103547   1365_743     1365  2018-10-23      8.82\n",
       "131598   1472_685     1472  2018-09-11      9.51\n",
       "48404    1174_381     1174  2018-08-05      5.17\n",
       "5039     1022_305     1022  2018-08-12      0.00\n",
       "116576   1408_225     1408  2018-09-02      2.17\n",
       "107714   1382_461     1382  2018-11-09     16.87\n",
       "37025    1140_309     1140  2018-07-17     11.30\n",
       "78734    1281_495     1281  2018-11-04      7.32\n",
       "106651   1377_203     1377  2018-12-27      4.25"
      ]
     },
     "metadata": {},
     "output_type": "display_data"
    }
   ],
   "source": [
    "# Print a sample of data for calls\n",
    "display(calls.sample(n = 10, replace = True))\n"
   ]
  },
  {
   "cell_type": "markdown",
   "metadata": {},
   "source": [
    "Did not notice any missing values. The call_date values should be modified to datetime data type. It appears that the dates are randomized and not in order, having it organized will help keep data more organized. "
   ]
  },
  {
   "cell_type": "markdown",
   "metadata": {},
   "source": [
    " "
   ]
  },
  {
   "cell_type": "markdown",
   "metadata": {},
   "source": [
    "## Fix data"
   ]
  },
  {
   "cell_type": "markdown",
   "metadata": {},
   "source": []
  },
  {
   "cell_type": "code",
   "execution_count": 12,
   "metadata": {},
   "outputs": [],
   "source": [
    "# Converting call_date to datetime format\n",
    "calls['call_date'] = pd.to_datetime(calls['call_date'], format='%Y-%m-%d')\n",
    "# Pull month of the call data to a new column\n",
    "calls['month'] = calls['call_date'].dt.month_name()"
   ]
  },
  {
   "cell_type": "markdown",
   "metadata": {},
   "source": [
    "## Enrich data"
   ]
  },
  {
   "cell_type": "markdown",
   "metadata": {},
   "source": [
    "To keep data more streamlined I would think keeping the \"duration\" column rounded to whole numbers to ensure clear visualization.\n",
    "Later on we need to look at data in a monthly time frame. By making a column for the month to help track minutes per month."
   ]
  },
  {
   "cell_type": "code",
   "execution_count": 13,
   "metadata": {},
   "outputs": [
    {
     "data": {
      "text/html": [
       "<div>\n",
       "<style scoped>\n",
       "    .dataframe tbody tr th:only-of-type {\n",
       "        vertical-align: middle;\n",
       "    }\n",
       "\n",
       "    .dataframe tbody tr th {\n",
       "        vertical-align: top;\n",
       "    }\n",
       "\n",
       "    .dataframe thead th {\n",
       "        text-align: right;\n",
       "    }\n",
       "</style>\n",
       "<table border=\"1\" class=\"dataframe\">\n",
       "  <thead>\n",
       "    <tr style=\"text-align: right;\">\n",
       "      <th></th>\n",
       "      <th>id</th>\n",
       "      <th>user_id</th>\n",
       "      <th>call_date</th>\n",
       "      <th>duration</th>\n",
       "      <th>month</th>\n",
       "    </tr>\n",
       "  </thead>\n",
       "  <tbody>\n",
       "    <tr>\n",
       "      <th>0</th>\n",
       "      <td>1000_93</td>\n",
       "      <td>1000</td>\n",
       "      <td>2018-12-27</td>\n",
       "      <td>9.0</td>\n",
       "      <td>December</td>\n",
       "    </tr>\n",
       "    <tr>\n",
       "      <th>1</th>\n",
       "      <td>1000_145</td>\n",
       "      <td>1000</td>\n",
       "      <td>2018-12-27</td>\n",
       "      <td>14.0</td>\n",
       "      <td>December</td>\n",
       "    </tr>\n",
       "    <tr>\n",
       "      <th>2</th>\n",
       "      <td>1000_247</td>\n",
       "      <td>1000</td>\n",
       "      <td>2018-12-27</td>\n",
       "      <td>15.0</td>\n",
       "      <td>December</td>\n",
       "    </tr>\n",
       "    <tr>\n",
       "      <th>3</th>\n",
       "      <td>1000_309</td>\n",
       "      <td>1000</td>\n",
       "      <td>2018-12-28</td>\n",
       "      <td>6.0</td>\n",
       "      <td>December</td>\n",
       "    </tr>\n",
       "    <tr>\n",
       "      <th>4</th>\n",
       "      <td>1000_380</td>\n",
       "      <td>1000</td>\n",
       "      <td>2018-12-30</td>\n",
       "      <td>5.0</td>\n",
       "      <td>December</td>\n",
       "    </tr>\n",
       "    <tr>\n",
       "      <th>5</th>\n",
       "      <td>1000_388</td>\n",
       "      <td>1000</td>\n",
       "      <td>2018-12-31</td>\n",
       "      <td>3.0</td>\n",
       "      <td>December</td>\n",
       "    </tr>\n",
       "    <tr>\n",
       "      <th>6</th>\n",
       "      <td>1000_510</td>\n",
       "      <td>1000</td>\n",
       "      <td>2018-12-27</td>\n",
       "      <td>6.0</td>\n",
       "      <td>December</td>\n",
       "    </tr>\n",
       "    <tr>\n",
       "      <th>7</th>\n",
       "      <td>1000_521</td>\n",
       "      <td>1000</td>\n",
       "      <td>2018-12-28</td>\n",
       "      <td>15.0</td>\n",
       "      <td>December</td>\n",
       "    </tr>\n",
       "    <tr>\n",
       "      <th>8</th>\n",
       "      <td>1000_530</td>\n",
       "      <td>1000</td>\n",
       "      <td>2018-12-28</td>\n",
       "      <td>6.0</td>\n",
       "      <td>December</td>\n",
       "    </tr>\n",
       "    <tr>\n",
       "      <th>9</th>\n",
       "      <td>1000_544</td>\n",
       "      <td>1000</td>\n",
       "      <td>2018-12-26</td>\n",
       "      <td>5.0</td>\n",
       "      <td>December</td>\n",
       "    </tr>\n",
       "  </tbody>\n",
       "</table>\n",
       "</div>"
      ],
      "text/plain": [
       "         id  user_id  call_date  duration     month\n",
       "0   1000_93     1000 2018-12-27       9.0  December\n",
       "1  1000_145     1000 2018-12-27      14.0  December\n",
       "2  1000_247     1000 2018-12-27      15.0  December\n",
       "3  1000_309     1000 2018-12-28       6.0  December\n",
       "4  1000_380     1000 2018-12-30       5.0  December\n",
       "5  1000_388     1000 2018-12-31       3.0  December\n",
       "6  1000_510     1000 2018-12-27       6.0  December\n",
       "7  1000_521     1000 2018-12-28      15.0  December\n",
       "8  1000_530     1000 2018-12-28       6.0  December\n",
       "9  1000_544     1000 2018-12-26       5.0  December"
      ]
     },
     "metadata": {},
     "output_type": "display_data"
    }
   ],
   "source": [
    "# Rounding the values in the 'duration' column to the next highest whole number.\n",
    "calls['duration'] = np.ceil(calls['duration'])\n",
    "display(calls.head(10))\n",
    "# Want to get rid of decimal place in the \"duration\" column, make the data type to integer to reduce confusion.\n",
    "calls['duration'] = calls['duration'].astype('int')\n",
    "calls.head(10)\n",
    "# Pull month of the call data to a new column\n",
    "calls['month'] = calls['call_date'].dt.month_name()"
   ]
  },
  {
   "cell_type": "markdown",
   "metadata": {},
   "source": [
    "## Messages"
   ]
  },
  {
   "cell_type": "code",
   "execution_count": 14,
   "metadata": {},
   "outputs": [
    {
     "name": "stdout",
     "output_type": "stream",
     "text": [
      "<class 'pandas.core.frame.DataFrame'>\n",
      "RangeIndex: 76051 entries, 0 to 76050\n",
      "Data columns (total 3 columns):\n",
      " #   Column        Non-Null Count  Dtype \n",
      "---  ------        --------------  ----- \n",
      " 0   id            76051 non-null  object\n",
      " 1   user_id       76051 non-null  int64 \n",
      " 2   message_date  76051 non-null  object\n",
      "dtypes: int64(1), object(2)\n",
      "memory usage: 1.7+ MB\n"
     ]
    }
   ],
   "source": [
    "# Print the general/summary information about the messages' DataFrame\n",
    "messages.info()"
   ]
  },
  {
   "cell_type": "code",
   "execution_count": 15,
   "metadata": {},
   "outputs": [
    {
     "data": {
      "text/html": [
       "<div>\n",
       "<style scoped>\n",
       "    .dataframe tbody tr th:only-of-type {\n",
       "        vertical-align: middle;\n",
       "    }\n",
       "\n",
       "    .dataframe tbody tr th {\n",
       "        vertical-align: top;\n",
       "    }\n",
       "\n",
       "    .dataframe thead th {\n",
       "        text-align: right;\n",
       "    }\n",
       "</style>\n",
       "<table border=\"1\" class=\"dataframe\">\n",
       "  <thead>\n",
       "    <tr style=\"text-align: right;\">\n",
       "      <th></th>\n",
       "      <th>id</th>\n",
       "      <th>user_id</th>\n",
       "      <th>message_date</th>\n",
       "    </tr>\n",
       "  </thead>\n",
       "  <tbody>\n",
       "    <tr>\n",
       "      <th>52481</th>\n",
       "      <td>1336_474</td>\n",
       "      <td>1336</td>\n",
       "      <td>2018-09-19</td>\n",
       "    </tr>\n",
       "    <tr>\n",
       "      <th>35826</th>\n",
       "      <td>1236_97</td>\n",
       "      <td>1236</td>\n",
       "      <td>2018-08-07</td>\n",
       "    </tr>\n",
       "    <tr>\n",
       "      <th>40519</th>\n",
       "      <td>1261_162</td>\n",
       "      <td>1261</td>\n",
       "      <td>2018-07-04</td>\n",
       "    </tr>\n",
       "    <tr>\n",
       "      <th>72944</th>\n",
       "      <td>1470_572</td>\n",
       "      <td>1470</td>\n",
       "      <td>2018-12-13</td>\n",
       "    </tr>\n",
       "    <tr>\n",
       "      <th>19901</th>\n",
       "      <td>1126_814</td>\n",
       "      <td>1126</td>\n",
       "      <td>2018-08-23</td>\n",
       "    </tr>\n",
       "  </tbody>\n",
       "</table>\n",
       "</div>"
      ],
      "text/plain": [
       "             id  user_id message_date\n",
       "52481  1336_474     1336   2018-09-19\n",
       "35826   1236_97     1236   2018-08-07\n",
       "40519  1261_162     1261   2018-07-04\n",
       "72944  1470_572     1470   2018-12-13\n",
       "19901  1126_814     1126   2018-08-23"
      ]
     },
     "metadata": {},
     "output_type": "display_data"
    }
   ],
   "source": [
    "# Print a sample of data for messages\n",
    "display(messages.sample( n =5))\n"
   ]
  },
  {
   "cell_type": "markdown",
   "metadata": {},
   "source": [
    "The message_date column values are strings and should be changed to datetime data type, to keep uniformity. "
   ]
  },
  {
   "cell_type": "markdown",
   "metadata": {},
   "source": [
    " "
   ]
  },
  {
   "cell_type": "markdown",
   "metadata": {},
   "source": [
    "## Fix data"
   ]
  },
  {
   "cell_type": "markdown",
   "metadata": {},
   "source": [
    "[Fix obvious issues with the data given the initial observations.]"
   ]
  },
  {
   "cell_type": "code",
   "execution_count": 16,
   "metadata": {},
   "outputs": [
    {
     "name": "stdout",
     "output_type": "stream",
     "text": [
      "<class 'pandas.core.frame.DataFrame'>\n",
      "RangeIndex: 76051 entries, 0 to 76050\n",
      "Data columns (total 3 columns):\n",
      " #   Column        Non-Null Count  Dtype         \n",
      "---  ------        --------------  -----         \n",
      " 0   id            76051 non-null  object        \n",
      " 1   user_id       76051 non-null  int64         \n",
      " 2   message_date  76051 non-null  datetime64[ns]\n",
      "dtypes: datetime64[ns](1), int64(1), object(1)\n",
      "memory usage: 1.7+ MB\n"
     ]
    },
    {
     "data": {
      "text/plain": [
       "None"
      ]
     },
     "metadata": {},
     "output_type": "display_data"
    }
   ],
   "source": [
    "# Change message_date to datetime format\n",
    "messages['message_date'] = pd.to_datetime(messages['message_date'], format='%Y-%m-%d')\n",
    "display(messages.info())"
   ]
  },
  {
   "cell_type": "markdown",
   "metadata": {},
   "source": [
    "## Enrich data"
   ]
  },
  {
   "cell_type": "markdown",
   "metadata": {},
   "source": [
    "Would make a column for month so that the messages can stored, to be able to look up later."
   ]
  },
  {
   "cell_type": "code",
   "execution_count": 17,
   "metadata": {},
   "outputs": [
    {
     "name": "stdout",
     "output_type": "stream",
     "text": [
      "<class 'pandas.core.frame.DataFrame'>\n",
      "RangeIndex: 76051 entries, 0 to 76050\n",
      "Data columns (total 4 columns):\n",
      " #   Column        Non-Null Count  Dtype         \n",
      "---  ------        --------------  -----         \n",
      " 0   id            76051 non-null  object        \n",
      " 1   user_id       76051 non-null  int64         \n",
      " 2   message_date  76051 non-null  datetime64[ns]\n",
      " 3   month         76051 non-null  object        \n",
      "dtypes: datetime64[ns](1), int64(1), object(2)\n",
      "memory usage: 2.3+ MB\n"
     ]
    }
   ],
   "source": [
    "# Add month column for message_date\n",
    "messages['month'] = messages['message_date'].dt.month_name()\n",
    "messages.info()"
   ]
  },
  {
   "cell_type": "markdown",
   "metadata": {},
   "source": [
    "## Internet"
   ]
  },
  {
   "cell_type": "code",
   "execution_count": 18,
   "metadata": {},
   "outputs": [
    {
     "name": "stdout",
     "output_type": "stream",
     "text": [
      "<class 'pandas.core.frame.DataFrame'>\n",
      "RangeIndex: 104825 entries, 0 to 104824\n",
      "Data columns (total 4 columns):\n",
      " #   Column        Non-Null Count   Dtype  \n",
      "---  ------        --------------   -----  \n",
      " 0   id            104825 non-null  object \n",
      " 1   user_id       104825 non-null  int64  \n",
      " 2   session_date  104825 non-null  object \n",
      " 3   mb_used       104825 non-null  float64\n",
      "dtypes: float64(1), int64(1), object(2)\n",
      "memory usage: 3.2+ MB\n"
     ]
    }
   ],
   "source": [
    "# Print the general/summary information about the internet DataFrame\n",
    "internet.info()"
   ]
  },
  {
   "cell_type": "code",
   "execution_count": 19,
   "metadata": {},
   "outputs": [
    {
     "data": {
      "text/html": [
       "<div>\n",
       "<style scoped>\n",
       "    .dataframe tbody tr th:only-of-type {\n",
       "        vertical-align: middle;\n",
       "    }\n",
       "\n",
       "    .dataframe tbody tr th {\n",
       "        vertical-align: top;\n",
       "    }\n",
       "\n",
       "    .dataframe thead th {\n",
       "        text-align: right;\n",
       "    }\n",
       "</style>\n",
       "<table border=\"1\" class=\"dataframe\">\n",
       "  <thead>\n",
       "    <tr style=\"text-align: right;\">\n",
       "      <th></th>\n",
       "      <th>id</th>\n",
       "      <th>user_id</th>\n",
       "      <th>session_date</th>\n",
       "      <th>mb_used</th>\n",
       "    </tr>\n",
       "  </thead>\n",
       "  <tbody>\n",
       "    <tr>\n",
       "      <th>84282</th>\n",
       "      <td>1392_250</td>\n",
       "      <td>1392</td>\n",
       "      <td>2018-09-17</td>\n",
       "      <td>363.50</td>\n",
       "    </tr>\n",
       "    <tr>\n",
       "      <th>44499</th>\n",
       "      <td>1196_514</td>\n",
       "      <td>1196</td>\n",
       "      <td>2018-08-30</td>\n",
       "      <td>732.54</td>\n",
       "    </tr>\n",
       "    <tr>\n",
       "      <th>36099</th>\n",
       "      <td>1163_80</td>\n",
       "      <td>1163</td>\n",
       "      <td>2018-11-30</td>\n",
       "      <td>214.83</td>\n",
       "    </tr>\n",
       "    <tr>\n",
       "      <th>43080</th>\n",
       "      <td>1191_259</td>\n",
       "      <td>1191</td>\n",
       "      <td>2018-05-16</td>\n",
       "      <td>31.08</td>\n",
       "    </tr>\n",
       "    <tr>\n",
       "      <th>90333</th>\n",
       "      <td>1416_63</td>\n",
       "      <td>1416</td>\n",
       "      <td>2018-11-08</td>\n",
       "      <td>819.59</td>\n",
       "    </tr>\n",
       "    <tr>\n",
       "      <th>98461</th>\n",
       "      <td>1465_406</td>\n",
       "      <td>1465</td>\n",
       "      <td>2018-09-15</td>\n",
       "      <td>0.00</td>\n",
       "    </tr>\n",
       "    <tr>\n",
       "      <th>47297</th>\n",
       "      <td>1211_174</td>\n",
       "      <td>1211</td>\n",
       "      <td>2018-08-24</td>\n",
       "      <td>608.58</td>\n",
       "    </tr>\n",
       "    <tr>\n",
       "      <th>31920</th>\n",
       "      <td>1145_56</td>\n",
       "      <td>1145</td>\n",
       "      <td>2018-08-27</td>\n",
       "      <td>178.63</td>\n",
       "    </tr>\n",
       "    <tr>\n",
       "      <th>64333</th>\n",
       "      <td>1295_250</td>\n",
       "      <td>1295</td>\n",
       "      <td>2018-09-30</td>\n",
       "      <td>66.42</td>\n",
       "    </tr>\n",
       "    <tr>\n",
       "      <th>28181</th>\n",
       "      <td>1128_335</td>\n",
       "      <td>1128</td>\n",
       "      <td>2018-12-24</td>\n",
       "      <td>415.25</td>\n",
       "    </tr>\n",
       "  </tbody>\n",
       "</table>\n",
       "</div>"
      ],
      "text/plain": [
       "             id  user_id session_date  mb_used\n",
       "84282  1392_250     1392   2018-09-17   363.50\n",
       "44499  1196_514     1196   2018-08-30   732.54\n",
       "36099   1163_80     1163   2018-11-30   214.83\n",
       "43080  1191_259     1191   2018-05-16    31.08\n",
       "90333   1416_63     1416   2018-11-08   819.59\n",
       "98461  1465_406     1465   2018-09-15     0.00\n",
       "47297  1211_174     1211   2018-08-24   608.58\n",
       "31920   1145_56     1145   2018-08-27   178.63\n",
       "64333  1295_250     1295   2018-09-30    66.42\n",
       "28181  1128_335     1128   2018-12-24   415.25"
      ]
     },
     "execution_count": 19,
     "metadata": {},
     "output_type": "execute_result"
    }
   ],
   "source": [
    "# Print a sample of data for the internet traffic\n",
    "internet.sample(n = 10)"
   ]
  },
  {
   "cell_type": "markdown",
   "metadata": {},
   "source": [
    "Only issue that I see is the session_date column should be changed to the datetime data type that has been previously done."
   ]
  },
  {
   "cell_type": "markdown",
   "metadata": {},
   "source": [
    " "
   ]
  },
  {
   "cell_type": "markdown",
   "metadata": {},
   "source": [
    "## Fix data"
   ]
  },
  {
   "cell_type": "code",
   "execution_count": 20,
   "metadata": {},
   "outputs": [],
   "source": [
    "# Change session_date to datetime format\n",
    "internet['session_date'] = pd.to_datetime(internet['session_date'], format='%Y-%m-%d')"
   ]
  },
  {
   "cell_type": "markdown",
   "metadata": {},
   "source": [
    "## Enrich data"
   ]
  },
  {
   "cell_type": "code",
   "execution_count": 21,
   "metadata": {},
   "outputs": [],
   "source": [
    "# Add month column for session_date\n",
    "internet['month'] = internet['session_date'].dt.month_name()"
   ]
  },
  {
   "cell_type": "markdown",
   "metadata": {},
   "source": [
    "## Study plan conditions"
   ]
  },
  {
   "cell_type": "code",
   "execution_count": 22,
   "metadata": {},
   "outputs": [
    {
     "data": {
      "text/html": [
       "<div>\n",
       "<style scoped>\n",
       "    .dataframe tbody tr th:only-of-type {\n",
       "        vertical-align: middle;\n",
       "    }\n",
       "\n",
       "    .dataframe tbody tr th {\n",
       "        vertical-align: top;\n",
       "    }\n",
       "\n",
       "    .dataframe thead th {\n",
       "        text-align: right;\n",
       "    }\n",
       "</style>\n",
       "<table border=\"1\" class=\"dataframe\">\n",
       "  <thead>\n",
       "    <tr style=\"text-align: right;\">\n",
       "      <th></th>\n",
       "      <th>messages_included</th>\n",
       "      <th>mb_per_month_included</th>\n",
       "      <th>minutes_included</th>\n",
       "      <th>usd_monthly_pay</th>\n",
       "      <th>usd_per_gb</th>\n",
       "      <th>usd_per_message</th>\n",
       "      <th>usd_per_minute</th>\n",
       "      <th>plan_name</th>\n",
       "      <th>gb_per_month_included</th>\n",
       "    </tr>\n",
       "  </thead>\n",
       "  <tbody>\n",
       "    <tr>\n",
       "      <th>0</th>\n",
       "      <td>50</td>\n",
       "      <td>15360</td>\n",
       "      <td>500</td>\n",
       "      <td>20</td>\n",
       "      <td>10</td>\n",
       "      <td>0.03</td>\n",
       "      <td>0.03</td>\n",
       "      <td>surf</td>\n",
       "      <td>15.0</td>\n",
       "    </tr>\n",
       "    <tr>\n",
       "      <th>1</th>\n",
       "      <td>1000</td>\n",
       "      <td>30720</td>\n",
       "      <td>3000</td>\n",
       "      <td>70</td>\n",
       "      <td>7</td>\n",
       "      <td>0.01</td>\n",
       "      <td>0.01</td>\n",
       "      <td>ultimate</td>\n",
       "      <td>30.0</td>\n",
       "    </tr>\n",
       "  </tbody>\n",
       "</table>\n",
       "</div>"
      ],
      "text/plain": [
       "   messages_included  mb_per_month_included  minutes_included  \\\n",
       "0                 50                  15360               500   \n",
       "1               1000                  30720              3000   \n",
       "\n",
       "   usd_monthly_pay  usd_per_gb  usd_per_message  usd_per_minute plan_name  \\\n",
       "0               20          10             0.03            0.03      surf   \n",
       "1               70           7             0.01            0.01  ultimate   \n",
       "\n",
       "   gb_per_month_included  \n",
       "0                   15.0  \n",
       "1                   30.0  "
      ]
     },
     "execution_count": 22,
     "metadata": {},
     "output_type": "execute_result"
    }
   ],
   "source": [
    "# Print out the plan conditions and make sure they are clear for you\n",
    "plans.head()"
   ]
  },
  {
   "cell_type": "markdown",
   "metadata": {},
   "source": [
    "## Aggregate data per user\n",
    "\n",
    "[Now, as the data is clean, aggregate data per user per period in order to have just one record per user per period. It should ease the further analysis a lot.]"
   ]
  },
  {
   "cell_type": "code",
   "execution_count": 23,
   "metadata": {},
   "outputs": [
    {
     "data": {
      "text/html": [
       "<div>\n",
       "<style scoped>\n",
       "    .dataframe tbody tr th:only-of-type {\n",
       "        vertical-align: middle;\n",
       "    }\n",
       "\n",
       "    .dataframe tbody tr th {\n",
       "        vertical-align: top;\n",
       "    }\n",
       "\n",
       "    .dataframe thead th {\n",
       "        text-align: right;\n",
       "    }\n",
       "</style>\n",
       "<table border=\"1\" class=\"dataframe\">\n",
       "  <thead>\n",
       "    <tr style=\"text-align: right;\">\n",
       "      <th></th>\n",
       "      <th>user_id</th>\n",
       "      <th>month</th>\n",
       "      <th>duration</th>\n",
       "    </tr>\n",
       "  </thead>\n",
       "  <tbody>\n",
       "    <tr>\n",
       "      <th>0</th>\n",
       "      <td>1000</td>\n",
       "      <td>December</td>\n",
       "      <td>16</td>\n",
       "    </tr>\n",
       "    <tr>\n",
       "      <th>1</th>\n",
       "      <td>1001</td>\n",
       "      <td>August</td>\n",
       "      <td>27</td>\n",
       "    </tr>\n",
       "    <tr>\n",
       "      <th>2</th>\n",
       "      <td>1001</td>\n",
       "      <td>December</td>\n",
       "      <td>56</td>\n",
       "    </tr>\n",
       "    <tr>\n",
       "      <th>3</th>\n",
       "      <td>1001</td>\n",
       "      <td>November</td>\n",
       "      <td>64</td>\n",
       "    </tr>\n",
       "    <tr>\n",
       "      <th>4</th>\n",
       "      <td>1001</td>\n",
       "      <td>October</td>\n",
       "      <td>65</td>\n",
       "    </tr>\n",
       "  </tbody>\n",
       "</table>\n",
       "</div>"
      ],
      "text/plain": [
       "   user_id     month  duration\n",
       "0     1000  December        16\n",
       "1     1001    August        27\n",
       "2     1001  December        56\n",
       "3     1001  November        64\n",
       "4     1001   October        65"
      ]
     },
     "metadata": {},
     "output_type": "display_data"
    }
   ],
   "source": [
    "# Calculate the number of calls made by each user per month. Save the result.\n",
    "calls_per_month = calls.groupby(['user_id', 'month'])['duration'].count().reset_index()\n",
    "display(calls_per_month.head())\n"
   ]
  },
  {
   "cell_type": "code",
   "execution_count": 24,
   "metadata": {},
   "outputs": [
    {
     "data": {
      "text/html": [
       "<div>\n",
       "<style scoped>\n",
       "    .dataframe tbody tr th:only-of-type {\n",
       "        vertical-align: middle;\n",
       "    }\n",
       "\n",
       "    .dataframe tbody tr th {\n",
       "        vertical-align: top;\n",
       "    }\n",
       "\n",
       "    .dataframe thead th {\n",
       "        text-align: right;\n",
       "    }\n",
       "</style>\n",
       "<table border=\"1\" class=\"dataframe\">\n",
       "  <thead>\n",
       "    <tr style=\"text-align: right;\">\n",
       "      <th></th>\n",
       "      <th>user_id</th>\n",
       "      <th>month</th>\n",
       "      <th>duration</th>\n",
       "    </tr>\n",
       "  </thead>\n",
       "  <tbody>\n",
       "    <tr>\n",
       "      <th>0</th>\n",
       "      <td>1000</td>\n",
       "      <td>December</td>\n",
       "      <td>124</td>\n",
       "    </tr>\n",
       "    <tr>\n",
       "      <th>1</th>\n",
       "      <td>1001</td>\n",
       "      <td>August</td>\n",
       "      <td>182</td>\n",
       "    </tr>\n",
       "    <tr>\n",
       "      <th>2</th>\n",
       "      <td>1001</td>\n",
       "      <td>December</td>\n",
       "      <td>412</td>\n",
       "    </tr>\n",
       "    <tr>\n",
       "      <th>3</th>\n",
       "      <td>1001</td>\n",
       "      <td>November</td>\n",
       "      <td>426</td>\n",
       "    </tr>\n",
       "    <tr>\n",
       "      <th>4</th>\n",
       "      <td>1001</td>\n",
       "      <td>October</td>\n",
       "      <td>393</td>\n",
       "    </tr>\n",
       "  </tbody>\n",
       "</table>\n",
       "</div>"
      ],
      "text/plain": [
       "   user_id     month  duration\n",
       "0     1000  December       124\n",
       "1     1001    August       182\n",
       "2     1001  December       412\n",
       "3     1001  November       426\n",
       "4     1001   October       393"
      ]
     },
     "metadata": {},
     "output_type": "display_data"
    }
   ],
   "source": [
    "# Calculate the amount of minutes spent by each user per month. This is made easier due to rounding up the minutes earlier. Save the result.\n",
    "# Results will be stored in minutes_per_month variable\n",
    "minutes_per_month = calls.groupby(['user_id', 'month'])['duration'].sum().reset_index()\n",
    "display(minutes_per_month.head())"
   ]
  },
  {
   "cell_type": "code",
   "execution_count": 25,
   "metadata": {},
   "outputs": [
    {
     "data": {
      "text/html": [
       "<div>\n",
       "<style scoped>\n",
       "    .dataframe tbody tr th:only-of-type {\n",
       "        vertical-align: middle;\n",
       "    }\n",
       "\n",
       "    .dataframe tbody tr th {\n",
       "        vertical-align: top;\n",
       "    }\n",
       "\n",
       "    .dataframe thead th {\n",
       "        text-align: right;\n",
       "    }\n",
       "</style>\n",
       "<table border=\"1\" class=\"dataframe\">\n",
       "  <thead>\n",
       "    <tr style=\"text-align: right;\">\n",
       "      <th></th>\n",
       "      <th>user_id</th>\n",
       "      <th>month</th>\n",
       "      <th>id</th>\n",
       "    </tr>\n",
       "  </thead>\n",
       "  <tbody>\n",
       "    <tr>\n",
       "      <th>0</th>\n",
       "      <td>1000</td>\n",
       "      <td>December</td>\n",
       "      <td>11</td>\n",
       "    </tr>\n",
       "    <tr>\n",
       "      <th>1</th>\n",
       "      <td>1001</td>\n",
       "      <td>August</td>\n",
       "      <td>30</td>\n",
       "    </tr>\n",
       "    <tr>\n",
       "      <th>2</th>\n",
       "      <td>1001</td>\n",
       "      <td>December</td>\n",
       "      <td>44</td>\n",
       "    </tr>\n",
       "    <tr>\n",
       "      <th>3</th>\n",
       "      <td>1001</td>\n",
       "      <td>November</td>\n",
       "      <td>36</td>\n",
       "    </tr>\n",
       "    <tr>\n",
       "      <th>4</th>\n",
       "      <td>1001</td>\n",
       "      <td>October</td>\n",
       "      <td>53</td>\n",
       "    </tr>\n",
       "  </tbody>\n",
       "</table>\n",
       "</div>"
      ],
      "text/plain": [
       "   user_id     month  id\n",
       "0     1000  December  11\n",
       "1     1001    August  30\n",
       "2     1001  December  44\n",
       "3     1001  November  36\n",
       "4     1001   October  53"
      ]
     },
     "metadata": {},
     "output_type": "display_data"
    }
   ],
   "source": [
    "# Calculate the number of messages sent by each user per month. Save the result.\n",
    "# Stored in message_per_month\n",
    "messages_per_month = messages.groupby(['user_id', 'month'])['id'].count().reset_index()\n",
    "display(messages_per_month.head())"
   ]
  },
  {
   "cell_type": "code",
   "execution_count": 26,
   "metadata": {},
   "outputs": [
    {
     "data": {
      "text/html": [
       "<div>\n",
       "<style scoped>\n",
       "    .dataframe tbody tr th:only-of-type {\n",
       "        vertical-align: middle;\n",
       "    }\n",
       "\n",
       "    .dataframe tbody tr th {\n",
       "        vertical-align: top;\n",
       "    }\n",
       "\n",
       "    .dataframe thead th {\n",
       "        text-align: right;\n",
       "    }\n",
       "</style>\n",
       "<table border=\"1\" class=\"dataframe\">\n",
       "  <thead>\n",
       "    <tr style=\"text-align: right;\">\n",
       "      <th></th>\n",
       "      <th>user_id</th>\n",
       "      <th>month</th>\n",
       "      <th>mb_used</th>\n",
       "    </tr>\n",
       "  </thead>\n",
       "  <tbody>\n",
       "    <tr>\n",
       "      <th>0</th>\n",
       "      <td>1000</td>\n",
       "      <td>December</td>\n",
       "      <td>1901.47</td>\n",
       "    </tr>\n",
       "    <tr>\n",
       "      <th>1</th>\n",
       "      <td>1001</td>\n",
       "      <td>August</td>\n",
       "      <td>6919.15</td>\n",
       "    </tr>\n",
       "    <tr>\n",
       "      <th>2</th>\n",
       "      <td>1001</td>\n",
       "      <td>December</td>\n",
       "      <td>19369.18</td>\n",
       "    </tr>\n",
       "    <tr>\n",
       "      <th>3</th>\n",
       "      <td>1001</td>\n",
       "      <td>November</td>\n",
       "      <td>18504.30</td>\n",
       "    </tr>\n",
       "    <tr>\n",
       "      <th>4</th>\n",
       "      <td>1001</td>\n",
       "      <td>October</td>\n",
       "      <td>22330.49</td>\n",
       "    </tr>\n",
       "    <tr>\n",
       "      <th>5</th>\n",
       "      <td>1001</td>\n",
       "      <td>September</td>\n",
       "      <td>13314.82</td>\n",
       "    </tr>\n",
       "    <tr>\n",
       "      <th>6</th>\n",
       "      <td>1002</td>\n",
       "      <td>December</td>\n",
       "      <td>14396.24</td>\n",
       "    </tr>\n",
       "    <tr>\n",
       "      <th>7</th>\n",
       "      <td>1002</td>\n",
       "      <td>November</td>\n",
       "      <td>19345.08</td>\n",
       "    </tr>\n",
       "    <tr>\n",
       "      <th>8</th>\n",
       "      <td>1002</td>\n",
       "      <td>October</td>\n",
       "      <td>6552.01</td>\n",
       "    </tr>\n",
       "    <tr>\n",
       "      <th>9</th>\n",
       "      <td>1003</td>\n",
       "      <td>December</td>\n",
       "      <td>27044.14</td>\n",
       "    </tr>\n",
       "  </tbody>\n",
       "</table>\n",
       "</div>"
      ],
      "text/plain": [
       "   user_id      month   mb_used\n",
       "0     1000   December   1901.47\n",
       "1     1001     August   6919.15\n",
       "2     1001   December  19369.18\n",
       "3     1001   November  18504.30\n",
       "4     1001    October  22330.49\n",
       "5     1001  September  13314.82\n",
       "6     1002   December  14396.24\n",
       "7     1002   November  19345.08\n",
       "8     1002    October   6552.01\n",
       "9     1003   December  27044.14"
      ]
     },
     "metadata": {},
     "output_type": "display_data"
    }
   ],
   "source": [
    "# Calculate the volume of internet traffic used by each user per month. Save the result.\n",
    "# Info saved to internet_per_month variable\n",
    "internet_per_month = internet.groupby(['user_id', 'month'])['mb_used'].sum().reset_index()\n",
    "display(internet_per_month.head(10))\n",
    "\n"
   ]
  },
  {
   "cell_type": "markdown",
   "metadata": {},
   "source": [
    "[Put the aggregate data together into one DataFrame so that one record in it would represent what an unique user consumed in a given month.]"
   ]
  },
  {
   "cell_type": "code",
   "execution_count": 27,
   "metadata": {},
   "outputs": [
    {
     "data": {
      "text/html": [
       "<div>\n",
       "<style scoped>\n",
       "    .dataframe tbody tr th:only-of-type {\n",
       "        vertical-align: middle;\n",
       "    }\n",
       "\n",
       "    .dataframe tbody tr th {\n",
       "        vertical-align: top;\n",
       "    }\n",
       "\n",
       "    .dataframe thead th {\n",
       "        text-align: right;\n",
       "    }\n",
       "</style>\n",
       "<table border=\"1\" class=\"dataframe\">\n",
       "  <thead>\n",
       "    <tr style=\"text-align: right;\">\n",
       "      <th></th>\n",
       "      <th>user_id</th>\n",
       "      <th>month</th>\n",
       "      <th>calls</th>\n",
       "      <th>minutes</th>\n",
       "      <th>messages</th>\n",
       "      <th>mb_used</th>\n",
       "    </tr>\n",
       "  </thead>\n",
       "  <tbody>\n",
       "    <tr>\n",
       "      <th>0</th>\n",
       "      <td>1000</td>\n",
       "      <td>December</td>\n",
       "      <td>16.0</td>\n",
       "      <td>124.0</td>\n",
       "      <td>11.0</td>\n",
       "      <td>1901.47</td>\n",
       "    </tr>\n",
       "    <tr>\n",
       "      <th>1</th>\n",
       "      <td>1001</td>\n",
       "      <td>August</td>\n",
       "      <td>27.0</td>\n",
       "      <td>182.0</td>\n",
       "      <td>30.0</td>\n",
       "      <td>6919.15</td>\n",
       "    </tr>\n",
       "    <tr>\n",
       "      <th>2</th>\n",
       "      <td>1001</td>\n",
       "      <td>December</td>\n",
       "      <td>56.0</td>\n",
       "      <td>412.0</td>\n",
       "      <td>44.0</td>\n",
       "      <td>19369.18</td>\n",
       "    </tr>\n",
       "    <tr>\n",
       "      <th>3</th>\n",
       "      <td>1001</td>\n",
       "      <td>November</td>\n",
       "      <td>64.0</td>\n",
       "      <td>426.0</td>\n",
       "      <td>36.0</td>\n",
       "      <td>18504.30</td>\n",
       "    </tr>\n",
       "    <tr>\n",
       "      <th>4</th>\n",
       "      <td>1001</td>\n",
       "      <td>October</td>\n",
       "      <td>65.0</td>\n",
       "      <td>393.0</td>\n",
       "      <td>53.0</td>\n",
       "      <td>22330.49</td>\n",
       "    </tr>\n",
       "    <tr>\n",
       "      <th>5</th>\n",
       "      <td>1001</td>\n",
       "      <td>September</td>\n",
       "      <td>49.0</td>\n",
       "      <td>315.0</td>\n",
       "      <td>44.0</td>\n",
       "      <td>13314.82</td>\n",
       "    </tr>\n",
       "    <tr>\n",
       "      <th>6</th>\n",
       "      <td>1002</td>\n",
       "      <td>December</td>\n",
       "      <td>47.0</td>\n",
       "      <td>384.0</td>\n",
       "      <td>41.0</td>\n",
       "      <td>14396.24</td>\n",
       "    </tr>\n",
       "    <tr>\n",
       "      <th>7</th>\n",
       "      <td>1002</td>\n",
       "      <td>November</td>\n",
       "      <td>55.0</td>\n",
       "      <td>386.0</td>\n",
       "      <td>32.0</td>\n",
       "      <td>19345.08</td>\n",
       "    </tr>\n",
       "    <tr>\n",
       "      <th>8</th>\n",
       "      <td>1002</td>\n",
       "      <td>October</td>\n",
       "      <td>11.0</td>\n",
       "      <td>59.0</td>\n",
       "      <td>15.0</td>\n",
       "      <td>6552.01</td>\n",
       "    </tr>\n",
       "    <tr>\n",
       "      <th>9</th>\n",
       "      <td>1003</td>\n",
       "      <td>December</td>\n",
       "      <td>149.0</td>\n",
       "      <td>1104.0</td>\n",
       "      <td>50.0</td>\n",
       "      <td>27044.14</td>\n",
       "    </tr>\n",
       "  </tbody>\n",
       "</table>\n",
       "</div>"
      ],
      "text/plain": [
       "   user_id      month  calls  minutes  messages   mb_used\n",
       "0     1000   December   16.0    124.0      11.0   1901.47\n",
       "1     1001     August   27.0    182.0      30.0   6919.15\n",
       "2     1001   December   56.0    412.0      44.0  19369.18\n",
       "3     1001   November   64.0    426.0      36.0  18504.30\n",
       "4     1001    October   65.0    393.0      53.0  22330.49\n",
       "5     1001  September   49.0    315.0      44.0  13314.82\n",
       "6     1002   December   47.0    384.0      41.0  14396.24\n",
       "7     1002   November   55.0    386.0      32.0  19345.08\n",
       "8     1002    October   11.0     59.0      15.0   6552.01\n",
       "9     1003   December  149.0   1104.0      50.0  27044.14"
      ]
     },
     "metadata": {},
     "output_type": "display_data"
    }
   ],
   "source": [
    "# Merge the data for calls, minutes, messages, internet based on user_id and month\n",
    "merged_data = calls_per_month.merge(right=minutes_per_month, on = ['user_id', 'month'], how = 'outer')\n",
    "merged_data = merged_data.merge(right=messages_per_month, on = ['user_id', 'month'], how = 'outer')\n",
    "merged_data = merged_data.merge(right=internet_per_month, on = ['user_id', 'month'], how = 'outer')\n",
    "\n",
    "# Fill the NaN values with 0\n",
    "merged_data = merged_data.fillna(0)\n",
    "\n",
    "# rename the columns\n",
    "merged_data.columns = ['user_id', 'month', 'calls', 'minutes', 'messages', 'mb_used']\n",
    "\n",
    "# reset the index\n",
    "merged_data = merged_data.reset_index(drop = True)\n",
    "\n",
    "# display the merged data\n",
    "display(merged_data.head(10))\n"
   ]
  },
  {
   "cell_type": "code",
   "execution_count": 28,
   "metadata": {},
   "outputs": [
    {
     "data": {
      "text/html": [
       "<div>\n",
       "<style scoped>\n",
       "    .dataframe tbody tr th:only-of-type {\n",
       "        vertical-align: middle;\n",
       "    }\n",
       "\n",
       "    .dataframe tbody tr th {\n",
       "        vertical-align: top;\n",
       "    }\n",
       "\n",
       "    .dataframe thead th {\n",
       "        text-align: right;\n",
       "    }\n",
       "</style>\n",
       "<table border=\"1\" class=\"dataframe\">\n",
       "  <thead>\n",
       "    <tr style=\"text-align: right;\">\n",
       "      <th></th>\n",
       "      <th>user_id</th>\n",
       "      <th>month</th>\n",
       "      <th>calls</th>\n",
       "      <th>minutes</th>\n",
       "      <th>messages</th>\n",
       "      <th>mb_used</th>\n",
       "      <th>plan_name</th>\n",
       "      <th>messages_included</th>\n",
       "      <th>mb_per_month_included</th>\n",
       "      <th>minutes_included</th>\n",
       "      <th>usd_monthly_pay</th>\n",
       "      <th>usd_per_gb</th>\n",
       "      <th>usd_per_message</th>\n",
       "      <th>usd_per_minute</th>\n",
       "      <th>gb_per_month_included</th>\n",
       "    </tr>\n",
       "  </thead>\n",
       "  <tbody>\n",
       "    <tr>\n",
       "      <th>0</th>\n",
       "      <td>1000</td>\n",
       "      <td>December</td>\n",
       "      <td>16.0</td>\n",
       "      <td>124.0</td>\n",
       "      <td>11.0</td>\n",
       "      <td>1901.47</td>\n",
       "      <td>ultimate</td>\n",
       "      <td>1000</td>\n",
       "      <td>30720</td>\n",
       "      <td>3000</td>\n",
       "      <td>70</td>\n",
       "      <td>7</td>\n",
       "      <td>0.01</td>\n",
       "      <td>0.01</td>\n",
       "      <td>30.0</td>\n",
       "    </tr>\n",
       "    <tr>\n",
       "      <th>1</th>\n",
       "      <td>1001</td>\n",
       "      <td>October</td>\n",
       "      <td>65.0</td>\n",
       "      <td>393.0</td>\n",
       "      <td>53.0</td>\n",
       "      <td>22330.49</td>\n",
       "      <td>surf</td>\n",
       "      <td>50</td>\n",
       "      <td>15360</td>\n",
       "      <td>500</td>\n",
       "      <td>20</td>\n",
       "      <td>10</td>\n",
       "      <td>0.03</td>\n",
       "      <td>0.03</td>\n",
       "      <td>15.0</td>\n",
       "    </tr>\n",
       "    <tr>\n",
       "      <th>2</th>\n",
       "      <td>1001</td>\n",
       "      <td>September</td>\n",
       "      <td>49.0</td>\n",
       "      <td>315.0</td>\n",
       "      <td>44.0</td>\n",
       "      <td>13314.82</td>\n",
       "      <td>surf</td>\n",
       "      <td>50</td>\n",
       "      <td>15360</td>\n",
       "      <td>500</td>\n",
       "      <td>20</td>\n",
       "      <td>10</td>\n",
       "      <td>0.03</td>\n",
       "      <td>0.03</td>\n",
       "      <td>15.0</td>\n",
       "    </tr>\n",
       "    <tr>\n",
       "      <th>3</th>\n",
       "      <td>1001</td>\n",
       "      <td>November</td>\n",
       "      <td>64.0</td>\n",
       "      <td>426.0</td>\n",
       "      <td>36.0</td>\n",
       "      <td>18504.30</td>\n",
       "      <td>surf</td>\n",
       "      <td>50</td>\n",
       "      <td>15360</td>\n",
       "      <td>500</td>\n",
       "      <td>20</td>\n",
       "      <td>10</td>\n",
       "      <td>0.03</td>\n",
       "      <td>0.03</td>\n",
       "      <td>15.0</td>\n",
       "    </tr>\n",
       "    <tr>\n",
       "      <th>4</th>\n",
       "      <td>1001</td>\n",
       "      <td>August</td>\n",
       "      <td>27.0</td>\n",
       "      <td>182.0</td>\n",
       "      <td>30.0</td>\n",
       "      <td>6919.15</td>\n",
       "      <td>surf</td>\n",
       "      <td>50</td>\n",
       "      <td>15360</td>\n",
       "      <td>500</td>\n",
       "      <td>20</td>\n",
       "      <td>10</td>\n",
       "      <td>0.03</td>\n",
       "      <td>0.03</td>\n",
       "      <td>15.0</td>\n",
       "    </tr>\n",
       "    <tr>\n",
       "      <th>5</th>\n",
       "      <td>1001</td>\n",
       "      <td>December</td>\n",
       "      <td>56.0</td>\n",
       "      <td>412.0</td>\n",
       "      <td>44.0</td>\n",
       "      <td>19369.18</td>\n",
       "      <td>surf</td>\n",
       "      <td>50</td>\n",
       "      <td>15360</td>\n",
       "      <td>500</td>\n",
       "      <td>20</td>\n",
       "      <td>10</td>\n",
       "      <td>0.03</td>\n",
       "      <td>0.03</td>\n",
       "      <td>15.0</td>\n",
       "    </tr>\n",
       "    <tr>\n",
       "      <th>6</th>\n",
       "      <td>1002</td>\n",
       "      <td>October</td>\n",
       "      <td>11.0</td>\n",
       "      <td>59.0</td>\n",
       "      <td>15.0</td>\n",
       "      <td>6552.01</td>\n",
       "      <td>surf</td>\n",
       "      <td>50</td>\n",
       "      <td>15360</td>\n",
       "      <td>500</td>\n",
       "      <td>20</td>\n",
       "      <td>10</td>\n",
       "      <td>0.03</td>\n",
       "      <td>0.03</td>\n",
       "      <td>15.0</td>\n",
       "    </tr>\n",
       "    <tr>\n",
       "      <th>7</th>\n",
       "      <td>1002</td>\n",
       "      <td>November</td>\n",
       "      <td>55.0</td>\n",
       "      <td>386.0</td>\n",
       "      <td>32.0</td>\n",
       "      <td>19345.08</td>\n",
       "      <td>surf</td>\n",
       "      <td>50</td>\n",
       "      <td>15360</td>\n",
       "      <td>500</td>\n",
       "      <td>20</td>\n",
       "      <td>10</td>\n",
       "      <td>0.03</td>\n",
       "      <td>0.03</td>\n",
       "      <td>15.0</td>\n",
       "    </tr>\n",
       "    <tr>\n",
       "      <th>8</th>\n",
       "      <td>1002</td>\n",
       "      <td>December</td>\n",
       "      <td>47.0</td>\n",
       "      <td>384.0</td>\n",
       "      <td>41.0</td>\n",
       "      <td>14396.24</td>\n",
       "      <td>surf</td>\n",
       "      <td>50</td>\n",
       "      <td>15360</td>\n",
       "      <td>500</td>\n",
       "      <td>20</td>\n",
       "      <td>10</td>\n",
       "      <td>0.03</td>\n",
       "      <td>0.03</td>\n",
       "      <td>15.0</td>\n",
       "    </tr>\n",
       "    <tr>\n",
       "      <th>9</th>\n",
       "      <td>1003</td>\n",
       "      <td>December</td>\n",
       "      <td>149.0</td>\n",
       "      <td>1104.0</td>\n",
       "      <td>50.0</td>\n",
       "      <td>27044.14</td>\n",
       "      <td>surf</td>\n",
       "      <td>50</td>\n",
       "      <td>15360</td>\n",
       "      <td>500</td>\n",
       "      <td>20</td>\n",
       "      <td>10</td>\n",
       "      <td>0.03</td>\n",
       "      <td>0.03</td>\n",
       "      <td>15.0</td>\n",
       "    </tr>\n",
       "    <tr>\n",
       "      <th>10</th>\n",
       "      <td>1004</td>\n",
       "      <td>November</td>\n",
       "      <td>54.0</td>\n",
       "      <td>476.0</td>\n",
       "      <td>25.0</td>\n",
       "      <td>21850.78</td>\n",
       "      <td>surf</td>\n",
       "      <td>50</td>\n",
       "      <td>15360</td>\n",
       "      <td>500</td>\n",
       "      <td>20</td>\n",
       "      <td>10</td>\n",
       "      <td>0.03</td>\n",
       "      <td>0.03</td>\n",
       "      <td>15.0</td>\n",
       "    </tr>\n",
       "    <tr>\n",
       "      <th>11</th>\n",
       "      <td>1004</td>\n",
       "      <td>July</td>\n",
       "      <td>49.0</td>\n",
       "      <td>381.0</td>\n",
       "      <td>26.0</td>\n",
       "      <td>24516.62</td>\n",
       "      <td>surf</td>\n",
       "      <td>50</td>\n",
       "      <td>15360</td>\n",
       "      <td>500</td>\n",
       "      <td>20</td>\n",
       "      <td>10</td>\n",
       "      <td>0.03</td>\n",
       "      <td>0.03</td>\n",
       "      <td>15.0</td>\n",
       "    </tr>\n",
       "    <tr>\n",
       "      <th>12</th>\n",
       "      <td>1004</td>\n",
       "      <td>December</td>\n",
       "      <td>50.0</td>\n",
       "      <td>427.0</td>\n",
       "      <td>31.0</td>\n",
       "      <td>21389.29</td>\n",
       "      <td>surf</td>\n",
       "      <td>50</td>\n",
       "      <td>15360</td>\n",
       "      <td>500</td>\n",
       "      <td>20</td>\n",
       "      <td>10</td>\n",
       "      <td>0.03</td>\n",
       "      <td>0.03</td>\n",
       "      <td>15.0</td>\n",
       "    </tr>\n",
       "    <tr>\n",
       "      <th>13</th>\n",
       "      <td>1004</td>\n",
       "      <td>August</td>\n",
       "      <td>49.0</td>\n",
       "      <td>354.0</td>\n",
       "      <td>25.0</td>\n",
       "      <td>27981.74</td>\n",
       "      <td>surf</td>\n",
       "      <td>50</td>\n",
       "      <td>15360</td>\n",
       "      <td>500</td>\n",
       "      <td>20</td>\n",
       "      <td>10</td>\n",
       "      <td>0.03</td>\n",
       "      <td>0.03</td>\n",
       "      <td>15.0</td>\n",
       "    </tr>\n",
       "    <tr>\n",
       "      <th>14</th>\n",
       "      <td>1004</td>\n",
       "      <td>June</td>\n",
       "      <td>44.0</td>\n",
       "      <td>275.0</td>\n",
       "      <td>18.0</td>\n",
       "      <td>20672.82</td>\n",
       "      <td>surf</td>\n",
       "      <td>50</td>\n",
       "      <td>15360</td>\n",
       "      <td>500</td>\n",
       "      <td>20</td>\n",
       "      <td>10</td>\n",
       "      <td>0.03</td>\n",
       "      <td>0.03</td>\n",
       "      <td>15.0</td>\n",
       "    </tr>\n",
       "    <tr>\n",
       "      <th>15</th>\n",
       "      <td>1004</td>\n",
       "      <td>May</td>\n",
       "      <td>21.0</td>\n",
       "      <td>193.0</td>\n",
       "      <td>7.0</td>\n",
       "      <td>6547.21</td>\n",
       "      <td>surf</td>\n",
       "      <td>50</td>\n",
       "      <td>15360</td>\n",
       "      <td>500</td>\n",
       "      <td>20</td>\n",
       "      <td>10</td>\n",
       "      <td>0.03</td>\n",
       "      <td>0.03</td>\n",
       "      <td>15.0</td>\n",
       "    </tr>\n",
       "    <tr>\n",
       "      <th>16</th>\n",
       "      <td>1004</td>\n",
       "      <td>October</td>\n",
       "      <td>61.0</td>\n",
       "      <td>365.0</td>\n",
       "      <td>24.0</td>\n",
       "      <td>14541.63</td>\n",
       "      <td>surf</td>\n",
       "      <td>50</td>\n",
       "      <td>15360</td>\n",
       "      <td>500</td>\n",
       "      <td>20</td>\n",
       "      <td>10</td>\n",
       "      <td>0.03</td>\n",
       "      <td>0.03</td>\n",
       "      <td>15.0</td>\n",
       "    </tr>\n",
       "    <tr>\n",
       "      <th>17</th>\n",
       "      <td>1004</td>\n",
       "      <td>September</td>\n",
       "      <td>42.0</td>\n",
       "      <td>301.0</td>\n",
       "      <td>21.0</td>\n",
       "      <td>18852.72</td>\n",
       "      <td>surf</td>\n",
       "      <td>50</td>\n",
       "      <td>15360</td>\n",
       "      <td>500</td>\n",
       "      <td>20</td>\n",
       "      <td>10</td>\n",
       "      <td>0.03</td>\n",
       "      <td>0.03</td>\n",
       "      <td>15.0</td>\n",
       "    </tr>\n",
       "    <tr>\n",
       "      <th>18</th>\n",
       "      <td>1005</td>\n",
       "      <td>December</td>\n",
       "      <td>59.0</td>\n",
       "      <td>496.0</td>\n",
       "      <td>11.0</td>\n",
       "      <td>17140.17</td>\n",
       "      <td>surf</td>\n",
       "      <td>50</td>\n",
       "      <td>15360</td>\n",
       "      <td>500</td>\n",
       "      <td>20</td>\n",
       "      <td>10</td>\n",
       "      <td>0.03</td>\n",
       "      <td>0.03</td>\n",
       "      <td>15.0</td>\n",
       "    </tr>\n",
       "    <tr>\n",
       "      <th>19</th>\n",
       "      <td>1006</td>\n",
       "      <td>December</td>\n",
       "      <td>9.0</td>\n",
       "      <td>59.0</td>\n",
       "      <td>139.0</td>\n",
       "      <td>32118.82</td>\n",
       "      <td>ultimate</td>\n",
       "      <td>1000</td>\n",
       "      <td>30720</td>\n",
       "      <td>3000</td>\n",
       "      <td>70</td>\n",
       "      <td>7</td>\n",
       "      <td>0.01</td>\n",
       "      <td>0.01</td>\n",
       "      <td>30.0</td>\n",
       "    </tr>\n",
       "  </tbody>\n",
       "</table>\n",
       "</div>"
      ],
      "text/plain": [
       "    user_id      month  calls  minutes  messages   mb_used plan_name  \\\n",
       "0      1000   December   16.0    124.0      11.0   1901.47  ultimate   \n",
       "1      1001    October   65.0    393.0      53.0  22330.49      surf   \n",
       "2      1001  September   49.0    315.0      44.0  13314.82      surf   \n",
       "3      1001   November   64.0    426.0      36.0  18504.30      surf   \n",
       "4      1001     August   27.0    182.0      30.0   6919.15      surf   \n",
       "5      1001   December   56.0    412.0      44.0  19369.18      surf   \n",
       "6      1002    October   11.0     59.0      15.0   6552.01      surf   \n",
       "7      1002   November   55.0    386.0      32.0  19345.08      surf   \n",
       "8      1002   December   47.0    384.0      41.0  14396.24      surf   \n",
       "9      1003   December  149.0   1104.0      50.0  27044.14      surf   \n",
       "10     1004   November   54.0    476.0      25.0  21850.78      surf   \n",
       "11     1004       July   49.0    381.0      26.0  24516.62      surf   \n",
       "12     1004   December   50.0    427.0      31.0  21389.29      surf   \n",
       "13     1004     August   49.0    354.0      25.0  27981.74      surf   \n",
       "14     1004       June   44.0    275.0      18.0  20672.82      surf   \n",
       "15     1004        May   21.0    193.0       7.0   6547.21      surf   \n",
       "16     1004    October   61.0    365.0      24.0  14541.63      surf   \n",
       "17     1004  September   42.0    301.0      21.0  18852.72      surf   \n",
       "18     1005   December   59.0    496.0      11.0  17140.17      surf   \n",
       "19     1006   December    9.0     59.0     139.0  32118.82  ultimate   \n",
       "\n",
       "    messages_included  mb_per_month_included  minutes_included  \\\n",
       "0                1000                  30720              3000   \n",
       "1                  50                  15360               500   \n",
       "2                  50                  15360               500   \n",
       "3                  50                  15360               500   \n",
       "4                  50                  15360               500   \n",
       "5                  50                  15360               500   \n",
       "6                  50                  15360               500   \n",
       "7                  50                  15360               500   \n",
       "8                  50                  15360               500   \n",
       "9                  50                  15360               500   \n",
       "10                 50                  15360               500   \n",
       "11                 50                  15360               500   \n",
       "12                 50                  15360               500   \n",
       "13                 50                  15360               500   \n",
       "14                 50                  15360               500   \n",
       "15                 50                  15360               500   \n",
       "16                 50                  15360               500   \n",
       "17                 50                  15360               500   \n",
       "18                 50                  15360               500   \n",
       "19               1000                  30720              3000   \n",
       "\n",
       "    usd_monthly_pay  usd_per_gb  usd_per_message  usd_per_minute  \\\n",
       "0                70           7             0.01            0.01   \n",
       "1                20          10             0.03            0.03   \n",
       "2                20          10             0.03            0.03   \n",
       "3                20          10             0.03            0.03   \n",
       "4                20          10             0.03            0.03   \n",
       "5                20          10             0.03            0.03   \n",
       "6                20          10             0.03            0.03   \n",
       "7                20          10             0.03            0.03   \n",
       "8                20          10             0.03            0.03   \n",
       "9                20          10             0.03            0.03   \n",
       "10               20          10             0.03            0.03   \n",
       "11               20          10             0.03            0.03   \n",
       "12               20          10             0.03            0.03   \n",
       "13               20          10             0.03            0.03   \n",
       "14               20          10             0.03            0.03   \n",
       "15               20          10             0.03            0.03   \n",
       "16               20          10             0.03            0.03   \n",
       "17               20          10             0.03            0.03   \n",
       "18               20          10             0.03            0.03   \n",
       "19               70           7             0.01            0.01   \n",
       "\n",
       "    gb_per_month_included  \n",
       "0                    30.0  \n",
       "1                    15.0  \n",
       "2                    15.0  \n",
       "3                    15.0  \n",
       "4                    15.0  \n",
       "5                    15.0  \n",
       "6                    15.0  \n",
       "7                    15.0  \n",
       "8                    15.0  \n",
       "9                    15.0  \n",
       "10                   15.0  \n",
       "11                   15.0  \n",
       "12                   15.0  \n",
       "13                   15.0  \n",
       "14                   15.0  \n",
       "15                   15.0  \n",
       "16                   15.0  \n",
       "17                   15.0  \n",
       "18                   15.0  \n",
       "19                   30.0  "
      ]
     },
     "metadata": {},
     "output_type": "display_data"
    }
   ],
   "source": [
    "# Add the plan information\n",
    "plan_info = users[['user_id', 'plan']]\n",
    "plan_info.columns = ['user_id', 'plan_name']\n",
    "\n",
    "merged_data = merged_data.merge(right=plan_info, on = 'user_id')\n",
    "\n",
    "# Merge the plan data to the merged data\n",
    "merged_data = merged_data.merge(right=plans, on = 'plan_name')\n",
    "\n",
    "# sort the data by user_id\n",
    "merged_data = merged_data.sort_values(by='user_id').reset_index(drop = True)\n",
    "\n",
    "# display the merged data\n",
    "display(merged_data.head(20))"
   ]
  },
  {
   "cell_type": "markdown",
   "metadata": {},
   "source": [
    "[Calculate the monthly revenue from each user (subtract the free package limit from the total number of calls, text messages, and data; multiply the result by the calling plan value; add the monthly charge depending on the calling plan). N.B. This might not be as trivial as just a couple of lines given the plan conditions! So, it's okay to spend some time on it.]"
   ]
  },
  {
   "cell_type": "code",
   "execution_count": 29,
   "metadata": {},
   "outputs": [],
   "source": [
    "# Calculate the monthly revenue for each user\n",
    "def calc_revenue(row):\n",
    "    \"\"\"Function to calculate the monthly revenue for each user\"\"\"\n",
    "    # User's usage\n",
    "    minutes = row['minutes']\n",
    "    messages = row['messages']\n",
    "    # for internet usage, change from megabytes to gigabytes and round up to the next highest whole gigabyte\n",
    "    internet = math.ceil(row['mb_used'] * (2**(-10)))\n",
    "    \n",
    "    # Plan limits\n",
    "    minutes_limit = row['minutes_included']\n",
    "    messages_limit = row['messages_included']\n",
    "    # for internet usage, change from megabytes to gigabytes\n",
    "    internet_limit = row['mb_per_month_included'] * (2**(-10))\n",
    "    \n",
    "    # Fee rates\n",
    "    monthly_rate = row['usd_monthly_pay']\n",
    "    minute_rate = row['usd_per_minute']\n",
    "    message_rate = row['usd_per_message']\n",
    "    internet_rate = row['usd_per_gb']\n",
    "    \n",
    "    # Initialize the revenue values and assign them to 0\n",
    "    minutes_revenue = 0\n",
    "    messages_revenue = 0\n",
    "    internet_revenue = 0\n",
    "    \n",
    "    # Calculating overuse and total revenue\n",
    "    if minutes > minutes_limit:\n",
    "        minutes_revenue = (minutes - minutes_limit) * minute_rate\n",
    "    if messages > messages_limit:\n",
    "        messages_revenue = (messages - messages_limit) * message_rate\n",
    "    if internet > internet_limit:\n",
    "        internet_revenue = (internet - internet_limit) * internet_rate\n",
    "        \n",
    "    revenue = monthly_rate + minutes_revenue + messages_revenue + internet_revenue\n",
    "    \n",
    "    return revenue\n"
   ]
  },
  {
   "cell_type": "code",
   "execution_count": 30,
   "metadata": {},
   "outputs": [
    {
     "data": {
      "text/plain": [
       "0      70.00\n",
       "1      90.09\n",
       "2      20.00\n",
       "3      60.00\n",
       "4      20.00\n",
       "5      60.00\n",
       "6      20.00\n",
       "7      60.00\n",
       "8      20.00\n",
       "9     158.12\n",
       "10     90.00\n",
       "dtype: float64"
      ]
     },
     "metadata": {},
     "output_type": "display_data"
    }
   ],
   "source": [
    "# Test For Calc_Revenue\n",
    "test_rows = merged_data.loc[:10]\n",
    "display(test_rows.apply(calc_revenue, axis = 1))"
   ]
  },
  {
   "cell_type": "code",
   "execution_count": 31,
   "metadata": {},
   "outputs": [
    {
     "data": {
      "text/html": [
       "<div>\n",
       "<style scoped>\n",
       "    .dataframe tbody tr th:only-of-type {\n",
       "        vertical-align: middle;\n",
       "    }\n",
       "\n",
       "    .dataframe tbody tr th {\n",
       "        vertical-align: top;\n",
       "    }\n",
       "\n",
       "    .dataframe thead th {\n",
       "        text-align: right;\n",
       "    }\n",
       "</style>\n",
       "<table border=\"1\" class=\"dataframe\">\n",
       "  <thead>\n",
       "    <tr style=\"text-align: right;\">\n",
       "      <th></th>\n",
       "      <th>user_id</th>\n",
       "      <th>month</th>\n",
       "      <th>calls</th>\n",
       "      <th>minutes</th>\n",
       "      <th>messages</th>\n",
       "      <th>mb_used</th>\n",
       "      <th>plan_name</th>\n",
       "      <th>messages_included</th>\n",
       "      <th>mb_per_month_included</th>\n",
       "      <th>minutes_included</th>\n",
       "      <th>usd_monthly_pay</th>\n",
       "      <th>usd_per_gb</th>\n",
       "      <th>usd_per_message</th>\n",
       "      <th>usd_per_minute</th>\n",
       "      <th>gb_per_month_included</th>\n",
       "      <th>revenue</th>\n",
       "    </tr>\n",
       "  </thead>\n",
       "  <tbody>\n",
       "    <tr>\n",
       "      <th>0</th>\n",
       "      <td>1000</td>\n",
       "      <td>December</td>\n",
       "      <td>16.0</td>\n",
       "      <td>124.0</td>\n",
       "      <td>11.0</td>\n",
       "      <td>1901.47</td>\n",
       "      <td>ultimate</td>\n",
       "      <td>1000</td>\n",
       "      <td>30720</td>\n",
       "      <td>3000</td>\n",
       "      <td>70</td>\n",
       "      <td>7</td>\n",
       "      <td>0.01</td>\n",
       "      <td>0.01</td>\n",
       "      <td>30.0</td>\n",
       "      <td>70.00</td>\n",
       "    </tr>\n",
       "    <tr>\n",
       "      <th>1</th>\n",
       "      <td>1001</td>\n",
       "      <td>October</td>\n",
       "      <td>65.0</td>\n",
       "      <td>393.0</td>\n",
       "      <td>53.0</td>\n",
       "      <td>22330.49</td>\n",
       "      <td>surf</td>\n",
       "      <td>50</td>\n",
       "      <td>15360</td>\n",
       "      <td>500</td>\n",
       "      <td>20</td>\n",
       "      <td>10</td>\n",
       "      <td>0.03</td>\n",
       "      <td>0.03</td>\n",
       "      <td>15.0</td>\n",
       "      <td>90.09</td>\n",
       "    </tr>\n",
       "    <tr>\n",
       "      <th>2</th>\n",
       "      <td>1001</td>\n",
       "      <td>September</td>\n",
       "      <td>49.0</td>\n",
       "      <td>315.0</td>\n",
       "      <td>44.0</td>\n",
       "      <td>13314.82</td>\n",
       "      <td>surf</td>\n",
       "      <td>50</td>\n",
       "      <td>15360</td>\n",
       "      <td>500</td>\n",
       "      <td>20</td>\n",
       "      <td>10</td>\n",
       "      <td>0.03</td>\n",
       "      <td>0.03</td>\n",
       "      <td>15.0</td>\n",
       "      <td>20.00</td>\n",
       "    </tr>\n",
       "    <tr>\n",
       "      <th>3</th>\n",
       "      <td>1001</td>\n",
       "      <td>November</td>\n",
       "      <td>64.0</td>\n",
       "      <td>426.0</td>\n",
       "      <td>36.0</td>\n",
       "      <td>18504.30</td>\n",
       "      <td>surf</td>\n",
       "      <td>50</td>\n",
       "      <td>15360</td>\n",
       "      <td>500</td>\n",
       "      <td>20</td>\n",
       "      <td>10</td>\n",
       "      <td>0.03</td>\n",
       "      <td>0.03</td>\n",
       "      <td>15.0</td>\n",
       "      <td>60.00</td>\n",
       "    </tr>\n",
       "    <tr>\n",
       "      <th>4</th>\n",
       "      <td>1001</td>\n",
       "      <td>August</td>\n",
       "      <td>27.0</td>\n",
       "      <td>182.0</td>\n",
       "      <td>30.0</td>\n",
       "      <td>6919.15</td>\n",
       "      <td>surf</td>\n",
       "      <td>50</td>\n",
       "      <td>15360</td>\n",
       "      <td>500</td>\n",
       "      <td>20</td>\n",
       "      <td>10</td>\n",
       "      <td>0.03</td>\n",
       "      <td>0.03</td>\n",
       "      <td>15.0</td>\n",
       "      <td>20.00</td>\n",
       "    </tr>\n",
       "    <tr>\n",
       "      <th>5</th>\n",
       "      <td>1001</td>\n",
       "      <td>December</td>\n",
       "      <td>56.0</td>\n",
       "      <td>412.0</td>\n",
       "      <td>44.0</td>\n",
       "      <td>19369.18</td>\n",
       "      <td>surf</td>\n",
       "      <td>50</td>\n",
       "      <td>15360</td>\n",
       "      <td>500</td>\n",
       "      <td>20</td>\n",
       "      <td>10</td>\n",
       "      <td>0.03</td>\n",
       "      <td>0.03</td>\n",
       "      <td>15.0</td>\n",
       "      <td>60.00</td>\n",
       "    </tr>\n",
       "    <tr>\n",
       "      <th>6</th>\n",
       "      <td>1002</td>\n",
       "      <td>October</td>\n",
       "      <td>11.0</td>\n",
       "      <td>59.0</td>\n",
       "      <td>15.0</td>\n",
       "      <td>6552.01</td>\n",
       "      <td>surf</td>\n",
       "      <td>50</td>\n",
       "      <td>15360</td>\n",
       "      <td>500</td>\n",
       "      <td>20</td>\n",
       "      <td>10</td>\n",
       "      <td>0.03</td>\n",
       "      <td>0.03</td>\n",
       "      <td>15.0</td>\n",
       "      <td>20.00</td>\n",
       "    </tr>\n",
       "    <tr>\n",
       "      <th>7</th>\n",
       "      <td>1002</td>\n",
       "      <td>November</td>\n",
       "      <td>55.0</td>\n",
       "      <td>386.0</td>\n",
       "      <td>32.0</td>\n",
       "      <td>19345.08</td>\n",
       "      <td>surf</td>\n",
       "      <td>50</td>\n",
       "      <td>15360</td>\n",
       "      <td>500</td>\n",
       "      <td>20</td>\n",
       "      <td>10</td>\n",
       "      <td>0.03</td>\n",
       "      <td>0.03</td>\n",
       "      <td>15.0</td>\n",
       "      <td>60.00</td>\n",
       "    </tr>\n",
       "    <tr>\n",
       "      <th>8</th>\n",
       "      <td>1002</td>\n",
       "      <td>December</td>\n",
       "      <td>47.0</td>\n",
       "      <td>384.0</td>\n",
       "      <td>41.0</td>\n",
       "      <td>14396.24</td>\n",
       "      <td>surf</td>\n",
       "      <td>50</td>\n",
       "      <td>15360</td>\n",
       "      <td>500</td>\n",
       "      <td>20</td>\n",
       "      <td>10</td>\n",
       "      <td>0.03</td>\n",
       "      <td>0.03</td>\n",
       "      <td>15.0</td>\n",
       "      <td>20.00</td>\n",
       "    </tr>\n",
       "    <tr>\n",
       "      <th>9</th>\n",
       "      <td>1003</td>\n",
       "      <td>December</td>\n",
       "      <td>149.0</td>\n",
       "      <td>1104.0</td>\n",
       "      <td>50.0</td>\n",
       "      <td>27044.14</td>\n",
       "      <td>surf</td>\n",
       "      <td>50</td>\n",
       "      <td>15360</td>\n",
       "      <td>500</td>\n",
       "      <td>20</td>\n",
       "      <td>10</td>\n",
       "      <td>0.03</td>\n",
       "      <td>0.03</td>\n",
       "      <td>15.0</td>\n",
       "      <td>158.12</td>\n",
       "    </tr>\n",
       "  </tbody>\n",
       "</table>\n",
       "</div>"
      ],
      "text/plain": [
       "   user_id      month  calls  minutes  messages   mb_used plan_name  \\\n",
       "0     1000   December   16.0    124.0      11.0   1901.47  ultimate   \n",
       "1     1001    October   65.0    393.0      53.0  22330.49      surf   \n",
       "2     1001  September   49.0    315.0      44.0  13314.82      surf   \n",
       "3     1001   November   64.0    426.0      36.0  18504.30      surf   \n",
       "4     1001     August   27.0    182.0      30.0   6919.15      surf   \n",
       "5     1001   December   56.0    412.0      44.0  19369.18      surf   \n",
       "6     1002    October   11.0     59.0      15.0   6552.01      surf   \n",
       "7     1002   November   55.0    386.0      32.0  19345.08      surf   \n",
       "8     1002   December   47.0    384.0      41.0  14396.24      surf   \n",
       "9     1003   December  149.0   1104.0      50.0  27044.14      surf   \n",
       "\n",
       "   messages_included  mb_per_month_included  minutes_included  \\\n",
       "0               1000                  30720              3000   \n",
       "1                 50                  15360               500   \n",
       "2                 50                  15360               500   \n",
       "3                 50                  15360               500   \n",
       "4                 50                  15360               500   \n",
       "5                 50                  15360               500   \n",
       "6                 50                  15360               500   \n",
       "7                 50                  15360               500   \n",
       "8                 50                  15360               500   \n",
       "9                 50                  15360               500   \n",
       "\n",
       "   usd_monthly_pay  usd_per_gb  usd_per_message  usd_per_minute  \\\n",
       "0               70           7             0.01            0.01   \n",
       "1               20          10             0.03            0.03   \n",
       "2               20          10             0.03            0.03   \n",
       "3               20          10             0.03            0.03   \n",
       "4               20          10             0.03            0.03   \n",
       "5               20          10             0.03            0.03   \n",
       "6               20          10             0.03            0.03   \n",
       "7               20          10             0.03            0.03   \n",
       "8               20          10             0.03            0.03   \n",
       "9               20          10             0.03            0.03   \n",
       "\n",
       "   gb_per_month_included  revenue  \n",
       "0                   30.0    70.00  \n",
       "1                   15.0    90.09  \n",
       "2                   15.0    20.00  \n",
       "3                   15.0    60.00  \n",
       "4                   15.0    20.00  \n",
       "5                   15.0    60.00  \n",
       "6                   15.0    20.00  \n",
       "7                   15.0    60.00  \n",
       "8                   15.0    20.00  \n",
       "9                   15.0   158.12  "
      ]
     },
     "metadata": {},
     "output_type": "display_data"
    }
   ],
   "source": [
    "# Add the Revenue function to merged data\n",
    "merged_data['revenue'] = merged_data.apply(calc_revenue, axis = 1)\n",
    "display(merged_data.head(10))"
   ]
  },
  {
   "cell_type": "markdown",
   "metadata": {},
   "source": [
    "## Study user behaviour"
   ]
  },
  {
   "cell_type": "markdown",
   "metadata": {},
   "source": [
    "[Calculate some useful descriptive statistics for the aggregated and merged data, which typically reveal an overall picture captured by the data. Draw useful plots to help the understanding. Given that the main task is to compare the plans and decide on which one is more profitable, the statistics and the plots should be calculated on a per-plan basis.]\n",
    "\n",
    "[There are relevant hints in the comments for Calls but they are not provided for Messages and Internet though the principle of statistical study is the same for them as for Calls.]"
   ]
  },
  {
   "cell_type": "markdown",
   "metadata": {},
   "source": [
    "### Calls"
   ]
  },
  {
   "cell_type": "code",
   "execution_count": 32,
   "metadata": {},
   "outputs": [
    {
     "data": {
      "image/png": "[encoded data removed]",
      "text/plain": [
       "<Figure size 1500x1000 with 1 Axes>"
      ]
     },
     "metadata": {},
     "output_type": "display_data"
    }
   ],
   "source": [
    "# Compare average duration of calls per each plan per each distinct month. Plot a bar plat to visualize it.\n",
    "\n",
    "# Get the data for the surf plan and plot the bar plot\n",
    "surf_data = merged_data[merged_data['plan_name'] == 'surf']\n",
    "surf_data = surf_data.groupby('month')['minutes'].mean().reset_index()\n",
    "surf_data.columns = ['month', 'surf_minutes']\n",
    "\n",
    "# Get the data for the ultimate plan and plot the bar plot\n",
    "ultimate_data = merged_data[merged_data['plan_name'] == 'ultimate']\n",
    "ultimate_data = ultimate_data.groupby('month')['minutes'].mean().reset_index()\n",
    "ultimate_data.columns = ['month', 'ultimate_minutes']\n",
    "\n",
    "# Merge data\n",
    "merged_calls = surf_data.merge(right=ultimate_data, on = 'month', how = 'outer')\n",
    "\n",
    "# sorting the index by the chronologically order of months\n",
    "merged_calls.index = pd.CategoricalIndex(merged_calls['month'], categories=['January', 'February', 'March', 'April', 'May', 'June', 'July', 'August', 'September', 'October', 'November', 'December'], ordered=True)\n",
    "merged_calls = merged_calls.sort_index()\n",
    "\n",
    "\n",
    "\n",
    "# Plot the bar plot\n",
    "merged_calls.plot(x = 'month', y = ['surf_minutes', 'ultimate_minutes'], kind = 'bar', figsize = (15, 10))\n",
    "plt.title('Average minutes per month for each plan')\n",
    "plt.xlabel('Month')\n",
    "plt.ylabel('Minutes')\n",
    "plt.show()\n"
   ]
  },
  {
   "cell_type": "code",
   "execution_count": 33,
   "metadata": {},
   "outputs": [
    {
     "data": {
      "image/png": "[encoded data removed]",
      "text/plain": [
       "<Figure size 1500x1000 with 1 Axes>"
      ]
     },
     "metadata": {},
     "output_type": "display_data"
    }
   ],
   "source": [
    "# Compare the number of minutes users of each plan require each month. Plot a histogram.\n",
    "\n",
    "# Acquire the data for the surf plan and plot the histogram\n",
    "surf_data = merged_data[merged_data['plan_name'] == 'surf']['minutes'].hist(bins=50, figsize = (15, 10), label = 'surf')\n",
    "\n",
    "# Acquire the data for the ultimate plan and plot the histogram\n",
    "ultimate_data = merged_data[merged_data['plan_name'] == 'ultimate']['minutes'].hist(bins=50, figsize = (15, 10), label = 'ultimate')\n",
    "\n",
    "# Setting the title and labels\n",
    "plt.title('Minutes per month for each plan')\n",
    "plt.xlabel('Minutes')\n",
    "plt.ylabel('Frequency')\n",
    "plt.legend()\n",
    "plt.show()\n"
   ]
  },
  {
   "cell_type": "markdown",
   "metadata": {},
   "source": [
    "[Calculate the mean and the variable of the call duration to reason on whether users on the different plans have different behaviours for their calls.]"
   ]
  },
  {
   "cell_type": "code",
   "execution_count": 34,
   "metadata": {},
   "outputs": [
    {
     "name": "stdout",
     "output_type": "stream",
     "text": [
      "Mean for the surf plan: 408.74\n",
      "Variance for the surf plan: 39748.06\n",
      "Standard deviation for the surf plan: 199.07\n",
      "Mean for the ultimate plan: 407.96\n",
      "Variance for the ultimate plan: 40142.98\n",
      "Standard deviation for the ultimate plan: 199.72\n"
     ]
    }
   ],
   "source": [
    "# Calculate the mean and the variance of the monthly call duration\n",
    "\n",
    "# Get the data for the surf plan\n",
    "surf_data_calls = merged_data[merged_data['plan_name'] == 'surf'].groupby('user_id')['minutes'].mean()\n",
    "\n",
    "# Get the data for the ultimate plan\n",
    "ultimate_data_calls = merged_data[merged_data['plan_name'] == 'ultimate'].groupby('user_id')['minutes'].mean()\n",
    "\n",
    "# Calculate the mean, variance, and standard deviation for the surf plan\n",
    "surf_mean_calls = surf_data_calls.mean()\n",
    "surf_var_calls = surf_data_calls.var()\n",
    "surf_std_calls = np.std(surf_data_calls)\n",
    "\n",
    "# Calculate the mean, variance, and standard deviation for the ultimate plan\n",
    "ultimate_mean_calls = ultimate_data_calls.mean()\n",
    "ultimate_var_calls = ultimate_data_calls.var()\n",
    "ultimate_std_calls = np.std(ultimate_data_calls)\n",
    "\n",
    "# Print the results\n",
    "print(f'Mean for the surf plan: {round(surf_mean_calls,2)}')\n",
    "print(f'Variance for the surf plan: {round(surf_var_calls,2)}')\n",
    "print(f'Standard deviation for the surf plan: {round(surf_std_calls,2)}')\n",
    "print(f'Mean for the ultimate plan: {round(ultimate_mean_calls,2)}')\n",
    "print(f'Variance for the ultimate plan: {round(ultimate_var_calls,2)}')\n",
    "print(f'Standard deviation for the ultimate plan: {round(ultimate_std_calls,2)}')\n"
   ]
  },
  {
   "cell_type": "code",
   "execution_count": 35,
   "metadata": {},
   "outputs": [
    {
     "data": {
      "image/png": "[encoded data removed]",
      "text/plain": [
       "<Figure size 640x480 with 1 Axes>"
      ]
     },
     "metadata": {},
     "output_type": "display_data"
    }
   ],
   "source": [
    "# Plot a boxplot to visualize the distribution of the monthly call duration\n",
    "sns.boxplot(x = 'plan_name', y = 'minutes', data = merged_data, palette = 'Set2',)\n",
    "plt.title('Distribution of the monthly call duration')\n",
    "plt.xlabel('Plan')\n",
    "plt.ylabel('Minutes')\n",
    "plt.show()\n"
   ]
  },
  {
   "cell_type": "markdown",
   "metadata": {},
   "source": [
    "The boxplots look very similiar. this helps to back up the calculations for the mean and standard deviations earlier. Clients from both plans seem to average 420 minutes call usage."
   ]
  },
  {
   "cell_type": "markdown",
   "metadata": {},
   "source": [
    " "
   ]
  },
  {
   "cell_type": "markdown",
   "metadata": {},
   "source": [
    "### Messages"
   ]
  },
  {
   "cell_type": "code",
   "execution_count": 36,
   "metadata": {},
   "outputs": [
    {
     "data": {
      "image/png": "[encoded data removed]",
      "text/plain": [
       "<Figure size 1500x1000 with 1 Axes>"
      ]
     },
     "metadata": {},
     "output_type": "display_data"
    }
   ],
   "source": [
    "# Compare the number of messages users of each plan tend to send each month\n",
    "\n",
    "# Get the data for the surf plan \n",
    "surf_messages = round(merged_data[merged_data['plan_name'] == 'surf'].groupby('month')['messages'].mean(), 2)\n",
    "\n",
    "# Get the data for the ultimate plan\n",
    "ultimate_messages = round(merged_data[merged_data['plan_name'] == 'ultimate'].groupby('month')['messages'].mean(), 2)\n",
    "\n",
    "# Merge the data \n",
    "merged_messages = surf_messages.to_frame().merge(right=ultimate_messages.to_frame(), on = 'month', how = 'outer')\n",
    "\n",
    "# rename messages_x and messages_y to surf_messages and ultimate_messages\n",
    "merged_messages.columns = ['surf_messages', 'ultimate_messages']\n",
    "\n",
    "# sort the index by the chronologically order of months\n",
    "merged_messages.index = pd.CategoricalIndex(merged_messages.index, categories=['January', 'February', 'March', 'April', 'May', 'June', 'July', 'August', 'September', 'October', 'November', 'December'], ordered=True)\n",
    "merged_messages.sort_index(inplace=True)\n",
    "\n",
    "\n",
    "\n",
    "# Plot the bar plot\n",
    "merged_messages.plot(kind = 'bar', figsize = (15, 10))\n",
    "plt.title('Average messages per month for each plan')\n",
    "plt.xlabel('Month')\n",
    "plt.ylabel('Messages')\n",
    "plt.show()\n"
   ]
  },
  {
   "cell_type": "code",
   "execution_count": 37,
   "metadata": {},
   "outputs": [
    {
     "data": {
      "image/png": "[encoded data removed]",
      "text/plain": [
       "<Figure size 1500x1000 with 1 Axes>"
      ]
     },
     "metadata": {},
     "output_type": "display_data"
    }
   ],
   "source": [
    "# Compare the amount of messages sent by users per plan\n",
    "\n",
    "# Get the data for the surf plan and plot the histogram\n",
    "surf_data = merged_data[merged_data['plan_name'] == 'surf']['messages'].hist(bins=50, figsize = (15, 10), label = 'surf')\n",
    "\n",
    "# Get the data for the ultimate plan and plot the histogram\n",
    "\n",
    "ultimate_data = merged_data[merged_data['plan_name'] == 'ultimate']['messages'].hist(bins=50, figsize = (15, 10), label = 'ultimate')\n",
    "\n",
    "# Set the title and labels\n",
    "plt.title('Messages per month for each plan')\n",
    "plt.xlabel('Messages')\n",
    "plt.ylabel('Frequency')\n",
    "plt.legend()\n",
    "plt.show()"
   ]
  },
  {
   "cell_type": "code",
   "execution_count": 38,
   "metadata": {},
   "outputs": [
    {
     "name": "stdout",
     "output_type": "stream",
     "text": [
      "Mean for the surf plan: 32.41\n",
      "Variance for the surf plan: 962.1\n",
      "Standard deviation for the surf plan: 30.97\n",
      "Mean for the ultimate plan: 38.47\n",
      "Variance for the ultimate plan: 1084.21\n",
      "Standard deviation for the ultimate plan: 32.82\n"
     ]
    }
   ],
   "source": [
    "# Find the mean and the variance of the monthly messages sent\n",
    "\n",
    "# Get the data for the surf plan\n",
    "surf_data_messages = merged_data[merged_data['plan_name'] == 'surf'].groupby('user_id')['messages'].mean()\n",
    "\n",
    "# Get the data for the ultimate plan\n",
    "ultimate_data_messages = merged_data[merged_data['plan_name'] == 'ultimate'].groupby('user_id')['messages'].mean()\n",
    "\n",
    "# Calculate the mean, variance, and standard deviation for the surf plan\n",
    "surf_mean_messages = surf_data_messages.mean()\n",
    "surf_var_messages = surf_data_messages.var()\n",
    "surf_std_messages = np.std(surf_data_messages)\n",
    "\n",
    "# Calculate the mean, variance, and standard deviation for the ultimate plan\n",
    "ultimate_mean_messages = ultimate_data_messages.mean()\n",
    "ultimate_var_messages = ultimate_data_messages.var()\n",
    "ultimate_std_messages = np.std(ultimate_data_messages)\n",
    "\n",
    "# Print the results\n",
    "print(f'Mean for the surf plan: {round(surf_mean_messages,2)}')\n",
    "print(f'Variance for the surf plan: {round(surf_var_messages,2)}')\n",
    "print(f'Standard deviation for the surf plan: {round(surf_std_messages,2)}')\n",
    "print(f'Mean for the ultimate plan: {round(ultimate_mean_messages,2)}')\n",
    "print(f'Variance for the ultimate plan: {round(ultimate_var_messages,2)}')\n",
    "print(f'Standard deviation for the ultimate plan: {round(ultimate_std_messages,2)}')"
   ]
  },
  {
   "cell_type": "markdown",
   "metadata": {},
   "source": [
    "The average number of messages are about 33 for the clients with the Surf plan and those under the Ultimate plan is 39 messages. Standard deviation are relatively the same with 31 or 32. We do see that there are a decent amount of clients in the Surf group that exceed 50 messages a month that are prepaid, This leads to extra revenue from those clients that exceed those 50 prepaid messages."
   ]
  },
  {
   "cell_type": "markdown",
   "metadata": {},
   "source": [
    " "
   ]
  },
  {
   "cell_type": "markdown",
   "metadata": {},
   "source": [
    "### Internet"
   ]
  },
  {
   "cell_type": "code",
   "execution_count": 39,
   "metadata": {},
   "outputs": [
    {
     "data": {
      "image/png": "[encoded data removed]",
      "text/plain": [
       "<Figure size 1500x1000 with 1 Axes>"
      ]
     },
     "metadata": {},
     "output_type": "display_data"
    }
   ],
   "source": [
    "# Compare the amount of internet traffic consumed by users per plan\n",
    "\n",
    "# Get the data for the surf plan and plot the histogram\n",
    "surf_data = merged_data[merged_data['plan_name'] == 'surf']['mb_used'].hist(bins=50, figsize = (15, 10), label = 'surf')\n",
    "\n",
    "# Get the data for the ultimate plan and plot the histogram\n",
    "ultimate_data = merged_data[merged_data['plan_name'] == 'ultimate']['mb_used'].hist(bins=50, figsize = (15, 10), label = 'ultimate')\n",
    "\n",
    "# Set the title and labels\n",
    "plt.title('Internet usage per month for each plan')\n",
    "plt.xlabel('Internet Usage (MB)')\n",
    "plt.ylabel('Frequency')\n",
    "plt.legend()\n",
    "plt.show()"
   ]
  },
  {
   "cell_type": "code",
   "execution_count": 40,
   "metadata": {},
   "outputs": [
    {
     "name": "stdout",
     "output_type": "stream",
     "text": [
      "Mean for the surf plan: 15.87 gb\n",
      "Variance for the surf plan: 38.76 gb\n",
      "Standard deviation for the surf plan: 6.22 gb\n",
      "Mean for the ultimate plan: 16.04 gb\n",
      "Variance for the ultimate plan: 34.94 gb\n",
      "Standard deviation for the ultimate plan: 5.89 gb\n"
     ]
    }
   ],
   "source": [
    "# Calculate the mean and the variance of the monthly internet usage\n",
    "# Get the data for the surf plan\n",
    "surf_data_internet = merged_data[merged_data['plan_name'] == 'surf'].groupby('user_id')['mb_used'].mean()\n",
    "\n",
    "# Get the data for the ultimate plan\n",
    "ultimate_data_internet = merged_data[merged_data['plan_name'] == 'ultimate'].groupby('user_id')['mb_used'].mean()\n",
    "\n",
    "# Calculate the mean, variance, and standard deviation for the surf plan\n",
    "surf_mean_internet = surf_data_internet.mean()/1000\n",
    "surf_var_internet = surf_data_internet.var()/(1000**2)\n",
    "surf_std_internet = np.std(surf_data_internet)/1000\n",
    "\n",
    "# Calculate the mean, variance, and standard deviation for the ultimate plan\n",
    "ultimate_mean_internet = ultimate_data_internet.mean()/1000\n",
    "ultimate_var_internet = ultimate_data_internet.var()/(1000**2)\n",
    "ultimate_std_internet = np.std(ultimate_data_internet)/1000\n",
    "\n",
    "\n",
    "# Print the results\n",
    "print(f'Mean for the surf plan: {round(surf_mean_internet,2)} gb')\n",
    "print(f'Variance for the surf plan: {round(surf_var_internet,2)} gb')\n",
    "print(f'Standard deviation for the surf plan: {round(surf_std_internet,2)} gb')\n",
    "print(f'Mean for the ultimate plan: {round(ultimate_mean_internet,2)} gb')\n",
    "print(f'Variance for the ultimate plan: {round(ultimate_var_internet,2)} gb')\n",
    "print(f'Standard deviation for the ultimate plan: {round(ultimate_std_internet,2)} gb')"
   ]
  },
  {
   "cell_type": "code",
   "execution_count": 41,
   "metadata": {},
   "outputs": [
    {
     "data": {
      "image/png": "[encoded data removed]",
      "text/plain": [
       "<Figure size 640x480 with 1 Axes>"
      ]
     },
     "metadata": {},
     "output_type": "display_data"
    }
   ],
   "source": [
    "# Plot a boxplot to show the distribution of the monthly internet usage\n",
    "sns.boxplot(x = 'plan_name', y = 'mb_used', data = merged_data, palette = 'Set2')\n",
    "plt.title('Distribution of the monthly internet usage')\n",
    "plt.xlabel('Plan')\n",
    "plt.ylabel('Internet Usage (MB)')\n",
    "plt.show()"
   ]
  },
  {
   "cell_type": "markdown",
   "metadata": {},
   "source": [
    "Looking at the information, it looks like the average monthly internet usage for clients in the Surf plan exceed the plan's limit of 15GB, which leads to additional fee to monthly usage. Those in the Ultimate plan mostly stay within their 30GB range in internet data."
   ]
  },
  {
   "cell_type": "markdown",
   "metadata": {},
   "source": [
    " "
   ]
  },
  {
   "cell_type": "markdown",
   "metadata": {},
   "source": [
    "## Revenue"
   ]
  },
  {
   "cell_type": "markdown",
   "metadata": {},
   "source": [
    "[Likewise you have studied the user behaviour, statistically describe the revenue between the plans.]"
   ]
  },
  {
   "cell_type": "code",
   "execution_count": 42,
   "metadata": {},
   "outputs": [
    {
     "data": {
      "image/png": "[encoded data removed]",
      "text/plain": [
       "<Figure size 1500x1000 with 1 Axes>"
      ]
     },
     "metadata": {},
     "output_type": "display_data"
    }
   ],
   "source": [
    "# Compare the revenue from users of each plan\n",
    "\n",
    "# Get the data for the surf plan\n",
    "surf_revenue = round(merged_data[merged_data['plan_name'] == 'surf'].groupby('month')['revenue'].mean(), 2)\n",
    "\n",
    "# Get the data for the ultimate plan\n",
    "ultimate_revenue = round(merged_data[merged_data['plan_name'] == 'ultimate'].groupby('month')['revenue'].mean(), 2)\n",
    "\n",
    "# Merge the data\n",
    "merged_revenue = surf_revenue.to_frame().merge(right=ultimate_revenue.to_frame(), on = 'month', how = 'outer')\n",
    "\n",
    "# rename revenue_x and revenue_y to surf_revenue and ultimate_revenue\n",
    "merged_revenue.columns = ['surf_revenue', 'ultimate_revenue']\n",
    "\n",
    "# sort the index by the chronologically order of months\n",
    "merged_revenue.index = pd.CategoricalIndex(merged_revenue.index, categories=['January', 'February', 'March', 'April', 'May', 'June', 'July', 'August', 'September', 'October', 'November', 'December'], ordered=True)\n",
    "merged_revenue.sort_index(inplace=True)\n",
    "\n",
    "# Plot the bar plot\n",
    "merged_revenue.plot(kind = 'bar', figsize = (15, 10))\n",
    "plt.title('Average revenue per month for each plan')\n",
    "plt.xlabel('Month')\n",
    "plt.ylabel('Revenue')\n",
    "plt.show()"
   ]
  },
  {
   "cell_type": "code",
   "execution_count": 43,
   "metadata": {},
   "outputs": [
    {
     "data": {
      "image/png": "[encoded data removed]",
      "text/plain": [
       "<Figure size 1500x1000 with 1 Axes>"
      ]
     },
     "metadata": {},
     "output_type": "display_data"
    }
   ],
   "source": [
    "# Compare the amount of messages sent by users per plan\n",
    "\n",
    "# Get the data for the surf plan and plot the histogram\n",
    "surf_data = merged_data[merged_data['plan_name'] == 'surf']['revenue'].hist(bins=50, figsize = (15, 10), label = 'surf')\n",
    "\n",
    "# Get the data for the ultimate plan and plot the histogram\n",
    "\n",
    "ultimate_data = merged_data[merged_data['plan_name'] == 'ultimate']['revenue'].hist(bins=50, figsize = (15, 10), label = 'ultimate')\n",
    "\n",
    "# Set the title and labels\n",
    "plt.title('Average Revenue Brought in for Both Plan')\n",
    "plt.xlabel('Revenue')\n",
    "plt.ylabel('Frequency')\n",
    "plt.legend()\n",
    "plt.show()"
   ]
  },
  {
   "cell_type": "code",
   "execution_count": 44,
   "metadata": {},
   "outputs": [
    {
     "name": "stdout",
     "output_type": "stream",
     "text": [
      "Mean for the surf plan: 58.19\n",
      "Variance for the surf plan: 1897.91\n",
      "Standard deviation for the surf plan: 43.57\n",
      "Mean for the ultimate plan: 71.82\n",
      "Variance for the ultimate plan: 55.13\n",
      "Standard deviation for the ultimate plan: 7.42\n"
     ]
    }
   ],
   "source": [
    "# Calculate the mean and the variance of the monthly revenue\n",
    "\n",
    "# Get the data for the surf plan\n",
    "surf_data_revenue = merged_data[merged_data['plan_name'] == 'surf'].groupby('user_id')['revenue'].mean()\n",
    "\n",
    "# Get the data for the ultimate plan\n",
    "ultimate_data_revenue = merged_data[merged_data['plan_name'] == 'ultimate'].groupby('user_id')['revenue'].mean()\n",
    "\n",
    "# Calculate the mean, variance, and standard deviation for the surf plan\n",
    "surf_mean_revenue = surf_data_revenue.mean()\n",
    "surf_var_revenue = surf_data_revenue.var()\n",
    "surf_std_revenue = surf_data_revenue.std()\n",
    "\n",
    "\n",
    "# Calculate the mean, variance, and standard deviation for the ultimate plan\n",
    "ultimate_mean_revenue = ultimate_data_revenue.mean()\n",
    "ultimate_var_revenue = ultimate_data_revenue.var()\n",
    "ultimate_std_revenue = ultimate_data_revenue.std()\n",
    "\n",
    "\n",
    "# Print the results\n",
    "print(f'Mean for the surf plan: {round(surf_mean_revenue,2)}')\n",
    "print(f'Variance for the surf plan: {round(surf_var_revenue,2)}')\n",
    "print(f'Standard deviation for the surf plan: {round(surf_std_revenue,2)}')\n",
    "print(f'Mean for the ultimate plan: {round(ultimate_mean_revenue,2)}')\n",
    "print(f'Variance for the ultimate plan: {round(ultimate_var_revenue,2)}')\n",
    "print(f'Standard deviation for the ultimate plan: {round(ultimate_std_revenue,2)}')"
   ]
  },
  {
   "cell_type": "code",
   "execution_count": 45,
   "metadata": {},
   "outputs": [
    {
     "data": {
      "image/png": "[encoded data removed]",
      "text/plain": [
       "<Figure size 640x480 with 1 Axes>"
      ]
     },
     "metadata": {},
     "output_type": "display_data"
    }
   ],
   "source": [
    "# Plot a boxplot to visualize the distribution of the monthly revenue\n",
    "sns.boxplot(x = 'plan_name', y = 'revenue', data = merged_data, palette = 'Set2')\n",
    "plt.title('Boxplot of Average Monthly Revenue')\n",
    "plt.show()"
   ]
  },
  {
   "cell_type": "markdown",
   "metadata": {},
   "source": [
    "Looking at the above boxplot, the Ultimate plan brings in more revenue with its higher monthly fee and mainly stay at 70 USD. There are a good portion of clients that are in the Surf plan that pay more than the standard 20 USD monthly fee. The data on the Surf plan may indicate room for Megaline to capitalize on this to bring in more revenue."
   ]
  },
  {
   "cell_type": "markdown",
   "metadata": {},
   "source": [
    " "
   ]
  },
  {
   "cell_type": "markdown",
   "metadata": {},
   "source": [
    "## Test statistical hypotheses"
   ]
  },
  {
   "cell_type": "markdown",
   "metadata": {},
   "source": [
    "[Test the hypothesis that the average revenue from users of the Ultimate and Surf calling plans differs.]"
   ]
  },
  {
   "cell_type": "markdown",
   "metadata": {},
   "source": [
    "[Formulate the null and the alternative hypotheses, choose the statistical test, decide on the alpha value.]"
   ]
  },
  {
   "cell_type": "code",
   "execution_count": 46,
   "metadata": {},
   "outputs": [
    {
     "name": "stdout",
     "output_type": "stream",
     "text": [
      "p-value 1e-07\n",
      "We reject the null hypothesis\n"
     ]
    }
   ],
   "source": [
    "# Test the hypotheses\n",
    "\n",
    "# Obtain the desired data slices\n",
    "surf_data = merged_data[merged_data['plan_name'] == 'surf'].groupby('user_id')['revenue'].mean()\n",
    "ultimate_data = merged_data[merged_data['plan_name'] == 'ultimate'].groupby('user_id')['revenue'].mean()\n",
    "\n",
    "# The alpha value, or statistical significance, will be 5%\n",
    "alpha = 0.05\n",
    "\n",
    "# Calculate the result using the t-test\n",
    "# equal_var will be set to false since we know that the variance is not equal\n",
    "results = st.ttest_ind(surf_data, ultimate_data, equal_var=False)\n",
    "\n",
    "# Print the results\n",
    "print('p-value', round(results.pvalue,7))\n",
    "\n",
    "# Determine if we can or cannot reject the null hypothesis and print the result\n",
    "if results.pvalue < alpha:\n",
    "    print(\"We reject the null hypothesis\")\n",
    "else:\n",
    "    print(\"We can't reject the null hypothesis\")"
   ]
  },
  {
   "cell_type": "markdown",
   "metadata": {},
   "source": [
    "[Test the hypothesis that the average revenue from users in the NY-NJ area is different from that of the users from the other regions.]"
   ]
  },
  {
   "cell_type": "markdown",
   "metadata": {},
   "source": [
    "[Formulate the null and the alternative hypotheses, choose the statistical test, decide on the alpha value.]"
   ]
  },
  {
   "cell_type": "code",
   "execution_count": 47,
   "metadata": {},
   "outputs": [
    {
     "name": "stdout",
     "output_type": "stream",
     "text": [
      "p-value 0.48043818838129104\n",
      "We can't reject the null hypothesis\n"
     ]
    }
   ],
   "source": [
    "# Test the hypotheses\n",
    "\n",
    "# Obtain the desired data slics\n",
    "df_with_location = merged_data.merge(right=users, on='user_id')\n",
    "df_NY_NJ = df_with_location.query('city == \"New York-Newark-Jersey City, NY-NJ-PA MSA\"')\n",
    "df_other_regions = df_with_location.query('city != \"New York-Newark-Jersey City, NY-NJ-PA MSA\"')\n",
    "\n",
    "# Calculate the average monthly revenue collected from each user in each data slice\n",
    "df_NY_NJ = df_NY_NJ.groupby('user_id')['revenue'].mean()\n",
    "df_other_regions = df_other_regions.groupby('user_id')['revenue'].mean()\n",
    "\n",
    "# Set the alpha value to 0.05\n",
    "alpha = 0.05\n",
    "\n",
    "# Run the t-test, pass equal_var=True\n",
    "results = st.ttest_ind(df_NY_NJ, df_other_regions, equal_var=True)\n",
    "\n",
    "# Print the p-value results\n",
    "print('p-value', results.pvalue)\n",
    "\n",
    "# Determine if we can or cannot reject the null hypothesis and print the result\n",
    "if results.pvalue < alpha:\n",
    "    print(\"We reject the null hypothesis\")\n",
    "else:\n",
    "    print(\"We can't reject the null hypothesis\")"
   ]
  },
  {
   "cell_type": "markdown",
   "metadata": {},
   "source": [
    "## General conclusion\n",
    "\n",
    "The tests that were constructed pointed out the hypothesis that the average monthly revenue for clients plan were equal to each other. However, we were not able reject the hypothesis that the average monthly revenue for clintes that were in the NY-NJ-PA areas were different than the average monthly revenue for the clients for other regions. \n",
    "Looking at the data and my own previous obervations, it looks like the Surf plan has a much greater number of clients and the average amount of monthly revenue that comes from the Surf plan is very significant and shows opportunity to increase revenue that can be brought in through increased monthly fees or penalty fees. In the Ultimate plan those clients mainly stayed within their internet usage and there are fewer clients in that plan versus the amount of clients in the Surf plan. Would advise focusing bringing clients into Surf plan more in order to produce more revenue in the future."
   ]
  },
  {
   "cell_type": "markdown",
   "metadata": {},
   "source": [
    " "
   ]
  }
 ],
 "metadata": {
  "ExecuteTimeLog": [
   {
    "duration": 828,
    "start_time": "2021-11-16T09:21:11.304Z"
   },
   {
    "duration": 893,
    "start_time": "2021-11-16T09:21:17.728Z"
   },
   {
    "duration": 1150,
    "start_time": "2021-11-16T09:21:29.568Z"
   },
   {
    "duration": 3,
    "start_time": "2021-11-16T09:24:14.495Z"
   },
   {
    "duration": 120,
    "start_time": "2021-11-16T09:24:46.630Z"
   },
   {
    "duration": 3,
    "start_time": "2021-11-16T09:28:27.882Z"
   },
   {
    "duration": 4,
    "start_time": "2021-11-16T09:29:54.281Z"
   },
   {
    "duration": 3,
    "start_time": "2021-11-16T09:30:45.936Z"
   },
   {
    "duration": 4,
    "start_time": "2021-11-16T09:31:06.300Z"
   },
   {
    "duration": 113,
    "start_time": "2021-11-16T09:31:37.208Z"
   },
   {
    "duration": 143,
    "start_time": "2021-11-16T09:31:48.656Z"
   },
   {
    "duration": 98,
    "start_time": "2021-11-16T09:31:55.678Z"
   },
   {
    "duration": 3,
    "start_time": "2021-11-16T09:32:08.535Z"
   },
   {
    "duration": 111,
    "start_time": "2021-11-16T09:32:10.120Z"
   },
   {
    "duration": 3,
    "start_time": "2021-11-16T09:32:15.732Z"
   },
   {
    "duration": 4,
    "start_time": "2021-11-16T09:32:29.423Z"
   },
   {
    "duration": 3,
    "start_time": "2021-11-16T10:03:03.074Z"
   },
   {
    "duration": 3,
    "start_time": "2021-11-16T10:10:01.288Z"
   },
   {
    "duration": 3,
    "start_time": "2021-11-16T10:10:46.923Z"
   },
   {
    "duration": 121,
    "start_time": "2021-11-16T10:37:46.494Z"
   },
   {
    "duration": 125,
    "start_time": "2021-11-16T10:38:20.632Z"
   },
   {
    "duration": 112,
    "start_time": "2021-11-16T10:46:53.001Z"
   },
   {
    "duration": 110,
    "start_time": "2021-11-16T10:48:25.775Z"
   },
   {
    "duration": 3,
    "start_time": "2021-11-16T10:50:18.720Z"
   },
   {
    "duration": 4,
    "start_time": "2021-11-16T10:50:37.649Z"
   },
   {
    "duration": 2,
    "start_time": "2021-11-16T10:50:51.884Z"
   },
   {
    "duration": 3,
    "start_time": "2021-11-16T10:51:56.237Z"
   },
   {
    "duration": 101,
    "start_time": "2021-11-16T10:53:13.791Z"
   },
   {
    "duration": 3,
    "start_time": "2021-11-16T10:55:59.186Z"
   },
   {
    "duration": 3,
    "start_time": "2021-11-16T10:56:10.751Z"
   },
   {
    "duration": 3,
    "start_time": "2021-11-16T10:56:49.038Z"
   },
   {
    "duration": 3,
    "start_time": "2021-11-16T10:56:49.174Z"
   },
   {
    "duration": 4,
    "start_time": "2021-11-16T10:56:49.414Z"
   },
   {
    "duration": 3,
    "start_time": "2021-11-16T10:56:49.680Z"
   },
   {
    "duration": 3,
    "start_time": "2021-11-16T10:56:50.370Z"
   },
   {
    "duration": 114,
    "start_time": "2021-11-16T10:59:34.518Z"
   },
   {
    "duration": 3,
    "start_time": "2021-11-16T11:01:41.201Z"
   },
   {
    "duration": 116,
    "start_time": "2021-11-16T11:01:48.754Z"
   },
   {
    "duration": 3,
    "start_time": "2021-11-16T11:02:16.685Z"
   },
   {
    "duration": 3,
    "start_time": "2021-11-16T11:02:19.479Z"
   },
   {
    "duration": 3,
    "start_time": "2021-11-16T11:02:47.067Z"
   },
   {
    "duration": 3,
    "start_time": "2021-11-16T11:02:49.353Z"
   },
   {
    "duration": 3,
    "start_time": "2021-11-16T11:03:07.835Z"
   },
   {
    "duration": 3,
    "start_time": "2021-11-16T11:03:07.953Z"
   },
   {
    "duration": 112,
    "start_time": "2021-11-16T11:07:52.072Z"
   },
   {
    "duration": 187,
    "start_time": "2021-11-16T11:09:23.468Z"
   },
   {
    "duration": 4,
    "start_time": "2021-11-16T11:10:01.455Z"
   },
   {
    "duration": 3,
    "start_time": "2021-11-16T11:10:05.069Z"
   },
   {
    "duration": 4,
    "start_time": "2021-11-16T11:10:13.376Z"
   },
   {
    "duration": 3,
    "start_time": "2021-11-16T11:10:14.434Z"
   },
   {
    "duration": 3,
    "start_time": "2021-11-16T11:10:22.853Z"
   },
   {
    "duration": 4,
    "start_time": "2021-11-16T11:27:29.279Z"
   },
   {
    "duration": 4,
    "start_time": "2021-11-16T11:29:08.919Z"
   },
   {
    "duration": 118,
    "start_time": "2021-11-16T11:29:46.703Z"
   },
   {
    "duration": 437,
    "start_time": "2021-11-16T11:36:02.181Z"
   },
   {
    "duration": 157,
    "start_time": "2021-11-16T11:36:14.388Z"
   },
   {
    "duration": 207,
    "start_time": "2021-11-16T11:47:15.898Z"
   },
   {
    "duration": 3,
    "start_time": "2021-11-16T11:53:52.092Z"
   },
   {
    "duration": 3,
    "start_time": "2021-11-16T11:53:52.236Z"
   },
   {
    "duration": 3,
    "start_time": "2021-11-16T11:59:12.005Z"
   },
   {
    "duration": 112,
    "start_time": "2021-11-16T12:00:33.446Z"
   },
   {
    "duration": 3,
    "start_time": "2021-11-16T12:02:14.453Z"
   },
   {
    "duration": 3,
    "start_time": "2021-11-16T12:02:39.512Z"
   },
   {
    "duration": 106,
    "start_time": "2021-11-16T12:03:03.460Z"
   },
   {
    "duration": 3,
    "start_time": "2021-11-17T20:37:21.139Z"
   },
   {
    "duration": 3,
    "start_time": "2021-11-17T20:37:22.229Z"
   },
   {
    "duration": 3,
    "start_time": "2021-11-17T20:38:38.806Z"
   },
   {
    "duration": 3,
    "start_time": "2021-11-17T20:38:41.958Z"
   },
   {
    "duration": 3,
    "start_time": "2021-11-17T20:43:46.551Z"
   },
   {
    "duration": 4,
    "start_time": "2021-11-17T20:58:21.835Z"
   },
   {
    "duration": 3,
    "start_time": "2021-11-17T20:59:21.872Z"
   },
   {
    "duration": 4,
    "start_time": "2021-11-17T20:59:45.352Z"
   },
   {
    "duration": 4,
    "start_time": "2021-11-17T20:59:49.646Z"
   },
   {
    "duration": 159,
    "start_time": "2021-11-17T21:02:26.949Z"
   },
   {
    "duration": 3,
    "start_time": "2021-11-17T21:03:53.461Z"
   },
   {
    "duration": 3,
    "start_time": "2021-11-17T21:03:53.694Z"
   },
   {
    "duration": 3,
    "start_time": "2021-11-17T21:05:28.145Z"
   },
   {
    "duration": 116,
    "start_time": "2021-11-17T21:05:57.787Z"
   },
   {
    "duration": 3,
    "start_time": "2021-11-17T21:06:37.993Z"
   },
   {
    "duration": 3,
    "start_time": "2021-11-17T21:06:38.261Z"
   },
   {
    "duration": 3,
    "start_time": "2021-11-17T21:11:54.358Z"
   },
   {
    "duration": 3,
    "start_time": "2021-11-17T21:12:43.846Z"
   },
   {
    "duration": 4,
    "start_time": "2021-11-17T21:13:08.773Z"
   },
   {
    "duration": 3,
    "start_time": "2021-11-17T21:14:44.441Z"
   },
   {
    "duration": 3,
    "start_time": "2021-11-17T21:15:42.059Z"
   },
   {
    "duration": 4,
    "start_time": "2021-11-17T21:15:51.995Z"
   },
   {
    "duration": 3,
    "start_time": "2021-11-17T21:15:53.923Z"
   },
   {
    "duration": 3,
    "start_time": "2021-11-17T21:15:55.282Z"
   },
   {
    "duration": 3,
    "start_time": "2021-11-17T21:16:28.492Z"
   },
   {
    "duration": 3,
    "start_time": "2021-11-17T21:16:32.603Z"
   },
   {
    "duration": 3,
    "start_time": "2021-11-17T21:17:06.941Z"
   },
   {
    "duration": 98,
    "start_time": "2021-11-17T21:18:05.733Z"
   },
   {
    "duration": 4,
    "start_time": "2021-11-17T21:21:35.255Z"
   },
   {
    "duration": 3,
    "start_time": "2021-11-17T21:21:37.804Z"
   },
   {
    "duration": 4,
    "start_time": "2021-11-17T21:23:06.071Z"
   },
   {
    "duration": 3,
    "start_time": "2021-11-17T21:23:24.799Z"
   },
   {
    "duration": 3,
    "start_time": "2021-11-17T21:23:32.591Z"
   },
   {
    "duration": 98,
    "start_time": "2021-11-17T21:28:31.559Z"
   },
   {
    "duration": 3,
    "start_time": "2021-11-17T21:28:45.448Z"
   },
   {
    "duration": 3,
    "start_time": "2021-11-17T21:29:17.303Z"
   },
   {
    "duration": 3,
    "start_time": "2021-11-17T21:29:29.617Z"
   },
   {
    "duration": 3,
    "start_time": "2021-11-17T21:29:32.681Z"
   },
   {
    "duration": 3,
    "start_time": "2021-11-17T21:36:11.474Z"
   },
   {
    "duration": 3,
    "start_time": "2021-11-17T21:36:14.791Z"
   },
   {
    "duration": 3,
    "start_time": "2021-11-17T21:36:53.943Z"
   },
   {
    "duration": 3,
    "start_time": "2021-11-17T21:36:56.165Z"
   },
   {
    "duration": 4,
    "start_time": "2021-11-17T21:37:16.590Z"
   },
   {
    "duration": 3,
    "start_time": "2021-11-17T21:37:22.702Z"
   },
   {
    "duration": 4,
    "start_time": "2021-11-17T21:38:03.479Z"
   },
   {
    "duration": 3,
    "start_time": "2021-11-17T21:38:08.601Z"
   },
   {
    "duration": 3,
    "start_time": "2021-11-17T21:38:12.928Z"
   },
   {
    "duration": 3,
    "start_time": "2021-11-17T21:38:48.896Z"
   },
   {
    "duration": 2,
    "start_time": "2021-11-17T21:38:49.171Z"
   },
   {
    "duration": 4,
    "start_time": "2021-11-17T21:39:57.889Z"
   },
   {
    "duration": 3,
    "start_time": "2021-11-17T21:39:58.057Z"
   },
   {
    "duration": 3,
    "start_time": "2021-11-17T21:41:20.108Z"
   },
   {
    "duration": 3,
    "start_time": "2021-11-17T21:41:20.629Z"
   },
   {
    "duration": 3,
    "start_time": "2021-11-17T21:42:49.136Z"
   },
   {
    "duration": 3,
    "start_time": "2021-11-17T21:43:15.137Z"
   },
   {
    "duration": 4,
    "start_time": "2021-11-17T21:43:16.766Z"
   },
   {
    "duration": 4,
    "start_time": "2021-11-17T21:43:31.711Z"
   },
   {
    "duration": 3,
    "start_time": "2021-11-17T21:43:36.312Z"
   },
   {
    "duration": 4,
    "start_time": "2021-11-17T21:45:08.825Z"
   },
   {
    "duration": 4,
    "start_time": "2021-11-17T21:45:10.119Z"
   },
   {
    "duration": 4,
    "start_time": "2021-11-17T21:45:13.748Z"
   },
   {
    "duration": 3,
    "start_time": "2021-11-17T21:45:22.219Z"
   },
   {
    "duration": 3,
    "start_time": "2021-11-17T21:45:33.412Z"
   },
   {
    "duration": 2,
    "start_time": "2021-11-17T21:46:01.885Z"
   },
   {
    "duration": 3,
    "start_time": "2021-11-17T21:46:03.628Z"
   },
   {
    "duration": 107,
    "start_time": "2021-11-17T21:47:32.512Z"
   },
   {
    "duration": 103,
    "start_time": "2021-11-17T21:50:36.243Z"
   },
   {
    "duration": 3,
    "start_time": "2021-11-18T06:28:31.440Z"
   },
   {
    "duration": 3,
    "start_time": "2021-11-18T06:29:00.168Z"
   },
   {
    "duration": 3,
    "start_time": "2021-11-18T06:31:27.008Z"
   },
   {
    "duration": 2,
    "start_time": "2021-11-18T06:35:34.288Z"
   },
   {
    "duration": 2,
    "start_time": "2021-11-18T06:38:04.527Z"
   },
   {
    "duration": 615,
    "start_time": "2024-09-26T17:53:22.216Z"
   },
   {
    "duration": 167,
    "start_time": "2024-09-27T00:05:57.032Z"
   },
   {
    "duration": 2421,
    "start_time": "2024-09-27T00:06:18.917Z"
   },
   {
    "duration": 247,
    "start_time": "2024-09-27T00:06:21.341Z"
   },
   {
    "duration": 12,
    "start_time": "2024-09-27T00:06:21.590Z"
   },
   {
    "duration": 2,
    "start_time": "2024-09-27T00:06:21.604Z"
   },
   {
    "duration": 2,
    "start_time": "2024-09-27T00:06:21.609Z"
   },
   {
    "duration": 2,
    "start_time": "2024-09-27T00:06:21.613Z"
   },
   {
    "duration": 2,
    "start_time": "2024-09-27T00:06:21.617Z"
   },
   {
    "duration": 2,
    "start_time": "2024-09-27T00:06:21.621Z"
   },
   {
    "duration": 3,
    "start_time": "2024-09-27T00:06:21.624Z"
   },
   {
    "duration": 2,
    "start_time": "2024-09-27T00:06:21.628Z"
   },
   {
    "duration": 3,
    "start_time": "2024-09-27T00:06:21.631Z"
   },
   {
    "duration": 3,
    "start_time": "2024-09-27T00:06:21.635Z"
   },
   {
    "duration": 2,
    "start_time": "2024-09-27T00:06:21.642Z"
   },
   {
    "duration": 2,
    "start_time": "2024-09-27T00:06:21.671Z"
   },
   {
    "duration": 2,
    "start_time": "2024-09-27T00:06:21.675Z"
   },
   {
    "duration": 2,
    "start_time": "2024-09-27T00:06:21.679Z"
   },
   {
    "duration": 3,
    "start_time": "2024-09-27T00:06:21.683Z"
   },
   {
    "duration": 2,
    "start_time": "2024-09-27T00:06:21.688Z"
   },
   {
    "duration": 3,
    "start_time": "2024-09-27T00:06:21.692Z"
   },
   {
    "duration": 3,
    "start_time": "2024-09-27T00:06:21.696Z"
   },
   {
    "duration": 2,
    "start_time": "2024-09-27T00:06:21.701Z"
   },
   {
    "duration": 2,
    "start_time": "2024-09-27T00:06:21.705Z"
   },
   {
    "duration": 2,
    "start_time": "2024-09-27T00:06:21.709Z"
   },
   {
    "duration": 2,
    "start_time": "2024-09-27T00:06:21.713Z"
   },
   {
    "duration": 54,
    "start_time": "2024-09-27T00:06:21.717Z"
   },
   {
    "duration": 2,
    "start_time": "2024-09-27T00:06:21.773Z"
   },
   {
    "duration": 2,
    "start_time": "2024-09-27T00:06:21.777Z"
   },
   {
    "duration": 2,
    "start_time": "2024-09-27T00:06:21.781Z"
   },
   {
    "duration": 717,
    "start_time": "2024-09-27T00:06:34.967Z"
   },
   {
    "duration": 158,
    "start_time": "2024-09-27T00:06:35.686Z"
   },
   {
    "duration": 9,
    "start_time": "2024-09-27T00:06:35.846Z"
   },
   {
    "duration": 3,
    "start_time": "2024-09-27T00:06:35.858Z"
   },
   {
    "duration": 9,
    "start_time": "2024-09-27T00:06:35.862Z"
   },
   {
    "duration": 3,
    "start_time": "2024-09-27T00:06:35.872Z"
   },
   {
    "duration": 2,
    "start_time": "2024-09-27T00:06:35.877Z"
   },
   {
    "duration": 2,
    "start_time": "2024-09-27T00:06:35.881Z"
   },
   {
    "duration": 2,
    "start_time": "2024-09-27T00:06:35.885Z"
   },
   {
    "duration": 2,
    "start_time": "2024-09-27T00:06:35.890Z"
   },
   {
    "duration": 2,
    "start_time": "2024-09-27T00:06:35.894Z"
   },
   {
    "duration": 2,
    "start_time": "2024-09-27T00:06:35.898Z"
   },
   {
    "duration": 2,
    "start_time": "2024-09-27T00:06:35.902Z"
   },
   {
    "duration": 3,
    "start_time": "2024-09-27T00:06:35.906Z"
   },
   {
    "duration": 3,
    "start_time": "2024-09-27T00:06:35.910Z"
   },
   {
    "duration": 55,
    "start_time": "2024-09-27T00:06:35.915Z"
   },
   {
    "duration": 3,
    "start_time": "2024-09-27T00:06:35.972Z"
   },
   {
    "duration": 2,
    "start_time": "2024-09-27T00:06:35.976Z"
   },
   {
    "duration": 3,
    "start_time": "2024-09-27T00:06:35.980Z"
   },
   {
    "duration": 3,
    "start_time": "2024-09-27T00:06:35.984Z"
   },
   {
    "duration": 2,
    "start_time": "2024-09-27T00:06:35.988Z"
   },
   {
    "duration": 3,
    "start_time": "2024-09-27T00:06:35.992Z"
   },
   {
    "duration": 2,
    "start_time": "2024-09-27T00:06:35.997Z"
   },
   {
    "duration": 2,
    "start_time": "2024-09-27T00:06:36.001Z"
   },
   {
    "duration": 3,
    "start_time": "2024-09-27T00:06:36.004Z"
   },
   {
    "duration": 3,
    "start_time": "2024-09-27T00:06:36.008Z"
   },
   {
    "duration": 3,
    "start_time": "2024-09-27T00:06:36.012Z"
   },
   {
    "duration": 2,
    "start_time": "2024-09-27T00:06:36.018Z"
   },
   {
    "duration": 162,
    "start_time": "2024-09-27T03:38:29.911Z"
   },
   {
    "duration": 12,
    "start_time": "2024-09-27T03:38:47.447Z"
   },
   {
    "duration": 2538,
    "start_time": "2024-09-27T03:38:57.516Z"
   },
   {
    "duration": 276,
    "start_time": "2024-09-27T03:39:00.056Z"
   },
   {
    "duration": 10,
    "start_time": "2024-09-27T03:39:00.334Z"
   },
   {
    "duration": 10,
    "start_time": "2024-09-27T03:39:00.347Z"
   },
   {
    "duration": 3,
    "start_time": "2024-09-27T03:39:00.358Z"
   },
   {
    "duration": 3,
    "start_time": "2024-09-27T03:39:00.362Z"
   },
   {
    "duration": 2,
    "start_time": "2024-09-27T03:39:00.367Z"
   },
   {
    "duration": 3,
    "start_time": "2024-09-27T03:39:00.371Z"
   },
   {
    "duration": 3,
    "start_time": "2024-09-27T03:39:00.375Z"
   },
   {
    "duration": 2,
    "start_time": "2024-09-27T03:39:00.410Z"
   },
   {
    "duration": 2,
    "start_time": "2024-09-27T03:39:00.414Z"
   },
   {
    "duration": 3,
    "start_time": "2024-09-27T03:39:00.417Z"
   },
   {
    "duration": 3,
    "start_time": "2024-09-27T03:39:00.421Z"
   },
   {
    "duration": 2,
    "start_time": "2024-09-27T03:39:00.425Z"
   },
   {
    "duration": 2,
    "start_time": "2024-09-27T03:39:00.429Z"
   },
   {
    "duration": 1,
    "start_time": "2024-09-27T03:39:00.433Z"
   },
   {
    "duration": 2,
    "start_time": "2024-09-27T03:39:00.436Z"
   },
   {
    "duration": 2,
    "start_time": "2024-09-27T03:39:00.440Z"
   },
   {
    "duration": 2,
    "start_time": "2024-09-27T03:39:00.444Z"
   },
   {
    "duration": 3,
    "start_time": "2024-09-27T03:39:00.447Z"
   },
   {
    "duration": 2,
    "start_time": "2024-09-27T03:39:00.452Z"
   },
   {
    "duration": 4,
    "start_time": "2024-09-27T03:39:00.455Z"
   },
   {
    "duration": 2,
    "start_time": "2024-09-27T03:39:00.509Z"
   },
   {
    "duration": 2,
    "start_time": "2024-09-27T03:39:00.513Z"
   },
   {
    "duration": 2,
    "start_time": "2024-09-27T03:39:00.517Z"
   },
   {
    "duration": 2,
    "start_time": "2024-09-27T03:39:00.520Z"
   },
   {
    "duration": 2,
    "start_time": "2024-09-27T03:39:00.524Z"
   },
   {
    "duration": 2,
    "start_time": "2024-09-27T03:39:00.530Z"
   },
   {
    "duration": 122,
    "start_time": "2024-09-27T03:39:19.405Z"
   },
   {
    "duration": 8,
    "start_time": "2024-09-27T03:39:30.122Z"
   },
   {
    "duration": 2454,
    "start_time": "2024-09-28T03:06:35.619Z"
   },
   {
    "duration": 205,
    "start_time": "2024-09-28T03:06:38.075Z"
   },
   {
    "duration": 9,
    "start_time": "2024-09-28T03:06:38.282Z"
   },
   {
    "duration": 9,
    "start_time": "2024-09-28T03:06:38.293Z"
   },
   {
    "duration": 2,
    "start_time": "2024-09-28T03:06:38.304Z"
   },
   {
    "duration": 2,
    "start_time": "2024-09-28T03:06:38.308Z"
   },
   {
    "duration": 2,
    "start_time": "2024-09-28T03:06:38.312Z"
   },
   {
    "duration": 3,
    "start_time": "2024-09-28T03:06:38.316Z"
   },
   {
    "duration": 2,
    "start_time": "2024-09-28T03:06:38.320Z"
   },
   {
    "duration": 3,
    "start_time": "2024-09-28T03:06:38.324Z"
   },
   {
    "duration": 2,
    "start_time": "2024-09-28T03:06:38.328Z"
   },
   {
    "duration": 2,
    "start_time": "2024-09-28T03:06:38.332Z"
   },
   {
    "duration": 3,
    "start_time": "2024-09-28T03:06:38.336Z"
   },
   {
    "duration": 2,
    "start_time": "2024-09-28T03:06:38.342Z"
   },
   {
    "duration": 3,
    "start_time": "2024-09-28T03:06:38.345Z"
   },
   {
    "duration": 2,
    "start_time": "2024-09-28T03:06:38.349Z"
   },
   {
    "duration": 3,
    "start_time": "2024-09-28T03:06:38.353Z"
   },
   {
    "duration": 3,
    "start_time": "2024-09-28T03:06:38.405Z"
   },
   {
    "duration": 3,
    "start_time": "2024-09-28T03:06:38.409Z"
   },
   {
    "duration": 2,
    "start_time": "2024-09-28T03:06:38.413Z"
   },
   {
    "duration": 2,
    "start_time": "2024-09-28T03:06:38.418Z"
   },
   {
    "duration": 1,
    "start_time": "2024-09-28T03:06:38.422Z"
   },
   {
    "duration": 2,
    "start_time": "2024-09-28T03:06:38.425Z"
   },
   {
    "duration": 3,
    "start_time": "2024-09-28T03:06:38.429Z"
   },
   {
    "duration": 3,
    "start_time": "2024-09-28T03:06:38.433Z"
   },
   {
    "duration": 3,
    "start_time": "2024-09-28T03:06:38.438Z"
   },
   {
    "duration": 3,
    "start_time": "2024-09-28T03:06:38.442Z"
   },
   {
    "duration": 3,
    "start_time": "2024-09-28T03:06:38.446Z"
   },
   {
    "duration": 14,
    "start_time": "2024-09-28T03:08:39.833Z"
   },
   {
    "duration": 9,
    "start_time": "2024-09-28T03:10:42.033Z"
   },
   {
    "duration": 8,
    "start_time": "2024-09-28T03:12:12.456Z"
   },
   {
    "duration": 10,
    "start_time": "2024-09-28T03:12:30.082Z"
   },
   {
    "duration": 8,
    "start_time": "2024-09-28T03:12:45.449Z"
   },
   {
    "duration": 12,
    "start_time": "2024-09-28T03:22:38.733Z"
   },
   {
    "duration": 8,
    "start_time": "2024-09-28T03:22:59.053Z"
   },
   {
    "duration": 12,
    "start_time": "2024-09-28T03:30:20.941Z"
   },
   {
    "duration": 16,
    "start_time": "2024-09-28T03:31:13.565Z"
   },
   {
    "duration": 5,
    "start_time": "2024-09-28T03:44:32.745Z"
   },
   {
    "duration": 738,
    "start_time": "2024-09-28T03:44:45.155Z"
   },
   {
    "duration": 155,
    "start_time": "2024-09-28T03:44:45.895Z"
   },
   {
    "duration": 10,
    "start_time": "2024-09-28T03:44:46.052Z"
   },
   {
    "duration": 9,
    "start_time": "2024-09-28T03:44:46.064Z"
   },
   {
    "duration": 9,
    "start_time": "2024-09-28T03:44:46.075Z"
   },
   {
    "duration": 3,
    "start_time": "2024-09-28T03:44:46.085Z"
   },
   {
    "duration": 23,
    "start_time": "2024-09-28T03:44:46.089Z"
   },
   {
    "duration": 14,
    "start_time": "2024-09-28T03:44:46.114Z"
   },
   {
    "duration": 4,
    "start_time": "2024-09-28T03:44:46.130Z"
   },
   {
    "duration": 2,
    "start_time": "2024-09-28T03:44:46.139Z"
   },
   {
    "duration": 2,
    "start_time": "2024-09-28T03:44:46.143Z"
   },
   {
    "duration": 2,
    "start_time": "2024-09-28T03:44:46.146Z"
   },
   {
    "duration": 2,
    "start_time": "2024-09-28T03:44:46.150Z"
   },
   {
    "duration": 2,
    "start_time": "2024-09-28T03:44:46.154Z"
   },
   {
    "duration": 2,
    "start_time": "2024-09-28T03:44:46.206Z"
   },
   {
    "duration": 3,
    "start_time": "2024-09-28T03:44:46.209Z"
   },
   {
    "duration": 2,
    "start_time": "2024-09-28T03:44:46.213Z"
   },
   {
    "duration": 2,
    "start_time": "2024-09-28T03:44:46.217Z"
   },
   {
    "duration": 2,
    "start_time": "2024-09-28T03:44:46.221Z"
   },
   {
    "duration": 2,
    "start_time": "2024-09-28T03:44:46.225Z"
   },
   {
    "duration": 3,
    "start_time": "2024-09-28T03:44:46.229Z"
   },
   {
    "duration": 2,
    "start_time": "2024-09-28T03:44:46.233Z"
   },
   {
    "duration": 2,
    "start_time": "2024-09-28T03:44:46.237Z"
   },
   {
    "duration": 3,
    "start_time": "2024-09-28T03:44:46.240Z"
   },
   {
    "duration": 2,
    "start_time": "2024-09-28T03:44:46.245Z"
   },
   {
    "duration": 2,
    "start_time": "2024-09-28T03:44:46.249Z"
   },
   {
    "duration": 54,
    "start_time": "2024-09-28T03:44:46.252Z"
   },
   {
    "duration": 1,
    "start_time": "2024-09-28T03:44:46.310Z"
   },
   {
    "duration": 2,
    "start_time": "2024-09-28T03:44:46.313Z"
   },
   {
    "duration": 2,
    "start_time": "2024-09-28T03:44:46.317Z"
   },
   {
    "duration": 2,
    "start_time": "2024-09-28T03:44:46.321Z"
   },
   {
    "duration": 12,
    "start_time": "2024-09-28T03:45:09.645Z"
   },
   {
    "duration": 16,
    "start_time": "2024-09-28T03:45:59.720Z"
   },
   {
    "duration": 8,
    "start_time": "2024-09-28T03:46:48.987Z"
   },
   {
    "duration": 2709,
    "start_time": "2024-09-28T18:56:42.436Z"
   },
   {
    "duration": 219,
    "start_time": "2024-09-28T18:56:45.148Z"
   },
   {
    "duration": 12,
    "start_time": "2024-09-28T18:56:45.368Z"
   },
   {
    "duration": 11,
    "start_time": "2024-09-28T18:56:45.382Z"
   },
   {
    "duration": 10,
    "start_time": "2024-09-28T18:56:45.396Z"
   },
   {
    "duration": 2,
    "start_time": "2024-09-28T18:56:45.407Z"
   },
   {
    "duration": 7,
    "start_time": "2024-09-28T18:56:45.411Z"
   },
   {
    "duration": 34,
    "start_time": "2024-09-28T18:56:45.420Z"
   },
   {
    "duration": 10,
    "start_time": "2024-09-28T18:56:45.456Z"
   },
   {
    "duration": 15,
    "start_time": "2024-09-28T18:56:45.468Z"
   },
   {
    "duration": 8,
    "start_time": "2024-09-28T18:56:45.484Z"
   },
   {
    "duration": 70,
    "start_time": "2024-09-28T18:56:45.493Z"
   },
   {
    "duration": 9,
    "start_time": "2024-09-28T18:56:45.564Z"
   },
   {
    "duration": 2,
    "start_time": "2024-09-28T18:56:45.576Z"
   },
   {
    "duration": 2,
    "start_time": "2024-09-28T18:56:45.580Z"
   },
   {
    "duration": 2,
    "start_time": "2024-09-28T18:56:45.584Z"
   },
   {
    "duration": 2,
    "start_time": "2024-09-28T18:56:45.588Z"
   },
   {
    "duration": 2,
    "start_time": "2024-09-28T18:56:45.592Z"
   },
   {
    "duration": 3,
    "start_time": "2024-09-28T18:56:45.595Z"
   },
   {
    "duration": 3,
    "start_time": "2024-09-28T18:56:45.599Z"
   },
   {
    "duration": 2,
    "start_time": "2024-09-28T18:56:45.642Z"
   },
   {
    "duration": 2,
    "start_time": "2024-09-28T18:56:45.646Z"
   },
   {
    "duration": 1,
    "start_time": "2024-09-28T18:56:45.651Z"
   },
   {
    "duration": 2,
    "start_time": "2024-09-28T18:56:45.654Z"
   },
   {
    "duration": 2,
    "start_time": "2024-09-28T18:56:45.660Z"
   },
   {
    "duration": 2,
    "start_time": "2024-09-28T18:56:45.664Z"
   },
   {
    "duration": 3,
    "start_time": "2024-09-28T18:56:45.667Z"
   },
   {
    "duration": 2,
    "start_time": "2024-09-28T18:56:45.671Z"
   },
   {
    "duration": 2,
    "start_time": "2024-09-28T18:56:45.675Z"
   },
   {
    "duration": 2,
    "start_time": "2024-09-28T18:56:45.679Z"
   },
   {
    "duration": 2,
    "start_time": "2024-09-28T18:56:45.683Z"
   },
   {
    "duration": 1,
    "start_time": "2024-09-28T18:56:45.687Z"
   },
   {
    "duration": 54,
    "start_time": "2024-09-28T18:56:45.690Z"
   },
   {
    "duration": 14,
    "start_time": "2024-09-28T19:01:25.778Z"
   },
   {
    "duration": 12,
    "start_time": "2024-09-28T19:02:22.042Z"
   },
   {
    "duration": 7,
    "start_time": "2024-09-28T19:02:52.557Z"
   },
   {
    "duration": 11,
    "start_time": "2024-09-28T19:06:01.821Z"
   },
   {
    "duration": 27,
    "start_time": "2024-09-28T19:06:40.491Z"
   },
   {
    "duration": 35,
    "start_time": "2024-09-28T19:11:56.200Z"
   },
   {
    "duration": 17,
    "start_time": "2024-09-28T19:13:38.567Z"
   },
   {
    "duration": 26,
    "start_time": "2024-09-28T19:14:21.640Z"
   },
   {
    "duration": 14,
    "start_time": "2024-09-28T19:14:58.733Z"
   },
   {
    "duration": 10,
    "start_time": "2024-09-28T19:15:27.981Z"
   },
   {
    "duration": 10,
    "start_time": "2024-09-28T19:26:58.564Z"
   },
   {
    "duration": 8,
    "start_time": "2024-09-28T19:27:46.412Z"
   },
   {
    "duration": 22,
    "start_time": "2024-09-28T19:30:22.702Z"
   },
   {
    "duration": 22,
    "start_time": "2024-09-28T20:22:16.842Z"
   },
   {
    "duration": 16,
    "start_time": "2024-09-28T20:23:39.121Z"
   },
   {
    "duration": 536,
    "start_time": "2024-09-28T20:46:32.857Z"
   },
   {
    "duration": 740,
    "start_time": "2024-09-28T20:51:01.690Z"
   },
   {
    "duration": 160,
    "start_time": "2024-09-28T20:51:02.432Z"
   },
   {
    "duration": 9,
    "start_time": "2024-09-28T20:51:02.594Z"
   },
   {
    "duration": 10,
    "start_time": "2024-09-28T20:51:02.605Z"
   },
   {
    "duration": 8,
    "start_time": "2024-09-28T20:51:02.618Z"
   },
   {
    "duration": 2,
    "start_time": "2024-09-28T20:51:02.628Z"
   },
   {
    "duration": 8,
    "start_time": "2024-09-28T20:51:02.643Z"
   },
   {
    "duration": 17,
    "start_time": "2024-09-28T20:51:02.652Z"
   },
   {
    "duration": 11,
    "start_time": "2024-09-28T20:51:02.671Z"
   },
   {
    "duration": 14,
    "start_time": "2024-09-28T20:51:02.684Z"
   },
   {
    "duration": 43,
    "start_time": "2024-09-28T20:51:02.700Z"
   },
   {
    "duration": 40,
    "start_time": "2024-09-28T20:51:02.745Z"
   },
   {
    "duration": 34,
    "start_time": "2024-09-28T20:51:02.787Z"
   },
   {
    "duration": 27,
    "start_time": "2024-09-28T20:51:02.824Z"
   },
   {
    "duration": 8,
    "start_time": "2024-09-28T20:51:02.853Z"
   },
   {
    "duration": 18,
    "start_time": "2024-09-28T20:51:02.862Z"
   },
   {
    "duration": 25,
    "start_time": "2024-09-28T20:51:02.881Z"
   },
   {
    "duration": 40,
    "start_time": "2024-09-28T20:51:02.907Z"
   },
   {
    "duration": 10,
    "start_time": "2024-09-28T20:51:02.948Z"
   },
   {
    "duration": 18,
    "start_time": "2024-09-28T20:51:02.960Z"
   },
   {
    "duration": 22,
    "start_time": "2024-09-28T20:51:02.980Z"
   },
   {
    "duration": 7,
    "start_time": "2024-09-28T20:51:03.004Z"
   },
   {
    "duration": 47,
    "start_time": "2024-09-28T20:51:03.013Z"
   },
   {
    "duration": 22,
    "start_time": "2024-09-28T20:51:03.061Z"
   },
   {
    "duration": 16,
    "start_time": "2024-09-28T20:51:03.084Z"
   },
   {
    "duration": 15,
    "start_time": "2024-09-28T20:51:03.101Z"
   },
   {
    "duration": 3,
    "start_time": "2024-09-28T20:51:03.142Z"
   },
   {
    "duration": 2,
    "start_time": "2024-09-28T20:51:03.147Z"
   },
   {
    "duration": 3,
    "start_time": "2024-09-28T20:51:03.150Z"
   },
   {
    "duration": 2,
    "start_time": "2024-09-28T20:51:03.155Z"
   },
   {
    "duration": 2,
    "start_time": "2024-09-28T20:51:03.159Z"
   },
   {
    "duration": 2,
    "start_time": "2024-09-28T20:51:03.163Z"
   },
   {
    "duration": 2,
    "start_time": "2024-09-28T20:51:03.167Z"
   },
   {
    "duration": 2,
    "start_time": "2024-09-28T20:51:03.171Z"
   },
   {
    "duration": 2,
    "start_time": "2024-09-28T20:51:03.175Z"
   },
   {
    "duration": 2,
    "start_time": "2024-09-28T20:51:03.179Z"
   },
   {
    "duration": 3,
    "start_time": "2024-09-28T20:51:03.182Z"
   },
   {
    "duration": 159,
    "start_time": "2024-09-28T21:53:00.917Z"
   },
   {
    "duration": 2515,
    "start_time": "2024-09-28T21:53:11.655Z"
   },
   {
    "duration": 220,
    "start_time": "2024-09-28T21:53:14.172Z"
   },
   {
    "duration": 10,
    "start_time": "2024-09-28T21:53:14.394Z"
   },
   {
    "duration": 9,
    "start_time": "2024-09-28T21:53:14.406Z"
   },
   {
    "duration": 9,
    "start_time": "2024-09-28T21:53:14.418Z"
   },
   {
    "duration": 3,
    "start_time": "2024-09-28T21:53:14.428Z"
   },
   {
    "duration": 9,
    "start_time": "2024-09-28T21:53:14.432Z"
   },
   {
    "duration": 15,
    "start_time": "2024-09-28T21:53:14.444Z"
   },
   {
    "duration": 11,
    "start_time": "2024-09-28T21:53:14.460Z"
   },
   {
    "duration": 15,
    "start_time": "2024-09-28T21:53:14.474Z"
   },
   {
    "duration": 8,
    "start_time": "2024-09-28T21:53:14.490Z"
   },
   {
    "duration": 72,
    "start_time": "2024-09-28T21:53:14.499Z"
   },
   {
    "duration": 34,
    "start_time": "2024-09-28T21:53:14.573Z"
   },
   {
    "duration": 29,
    "start_time": "2024-09-28T21:53:14.611Z"
   },
   {
    "duration": 8,
    "start_time": "2024-09-28T21:53:14.641Z"
   },
   {
    "duration": 18,
    "start_time": "2024-09-28T21:53:14.651Z"
   },
   {
    "duration": 25,
    "start_time": "2024-09-28T21:53:14.670Z"
   },
   {
    "duration": 42,
    "start_time": "2024-09-28T21:53:14.698Z"
   },
   {
    "duration": 8,
    "start_time": "2024-09-28T21:53:14.742Z"
   },
   {
    "duration": 14,
    "start_time": "2024-09-28T21:53:14.753Z"
   },
   {
    "duration": 21,
    "start_time": "2024-09-28T21:53:14.768Z"
   },
   {
    "duration": 9,
    "start_time": "2024-09-28T21:53:14.791Z"
   },
   {
    "duration": 47,
    "start_time": "2024-09-28T21:53:14.802Z"
   },
   {
    "duration": 22,
    "start_time": "2024-09-28T21:53:14.850Z"
   },
   {
    "duration": 15,
    "start_time": "2024-09-28T21:53:14.874Z"
   },
   {
    "duration": 16,
    "start_time": "2024-09-28T21:53:14.890Z"
   },
   {
    "duration": 20,
    "start_time": "2024-09-28T21:53:14.932Z"
   },
   {
    "duration": 2,
    "start_time": "2024-09-28T21:53:14.954Z"
   },
   {
    "duration": 2,
    "start_time": "2024-09-28T21:53:14.957Z"
   },
   {
    "duration": 3,
    "start_time": "2024-09-28T21:53:14.961Z"
   },
   {
    "duration": 3,
    "start_time": "2024-09-28T21:53:14.965Z"
   },
   {
    "duration": 3,
    "start_time": "2024-09-28T21:53:14.969Z"
   },
   {
    "duration": 3,
    "start_time": "2024-09-28T21:53:14.973Z"
   },
   {
    "duration": 2,
    "start_time": "2024-09-28T21:53:14.978Z"
   },
   {
    "duration": 3,
    "start_time": "2024-09-28T21:53:14.982Z"
   },
   {
    "duration": 4,
    "start_time": "2024-09-28T21:53:14.986Z"
   },
   {
    "duration": 2,
    "start_time": "2024-09-28T21:53:15.032Z"
   },
   {
    "duration": 23,
    "start_time": "2024-09-28T21:54:29.518Z"
   },
   {
    "duration": 141,
    "start_time": "2024-09-28T21:54:40.289Z"
   },
   {
    "duration": 28,
    "start_time": "2024-09-28T21:54:50.781Z"
   },
   {
    "duration": 4,
    "start_time": "2024-09-28T22:06:35.057Z"
   },
   {
    "duration": 107,
    "start_time": "2024-09-28T22:08:08.050Z"
   },
   {
    "duration": 17,
    "start_time": "2024-09-28T22:08:16.779Z"
   },
   {
    "duration": 279,
    "start_time": "2024-09-28T22:08:32.022Z"
   },
   {
    "duration": 788,
    "start_time": "2024-09-28T22:09:18.136Z"
   },
   {
    "duration": 161,
    "start_time": "2024-09-28T22:09:18.926Z"
   },
   {
    "duration": 9,
    "start_time": "2024-09-28T22:09:19.089Z"
   },
   {
    "duration": 9,
    "start_time": "2024-09-28T22:09:19.101Z"
   },
   {
    "duration": 9,
    "start_time": "2024-09-28T22:09:19.111Z"
   },
   {
    "duration": 11,
    "start_time": "2024-09-28T22:09:19.121Z"
   },
   {
    "duration": 8,
    "start_time": "2024-09-28T22:09:19.134Z"
   },
   {
    "duration": 14,
    "start_time": "2024-09-28T22:09:19.143Z"
   },
   {
    "duration": 11,
    "start_time": "2024-09-28T22:09:19.158Z"
   },
   {
    "duration": 14,
    "start_time": "2024-09-28T22:09:19.172Z"
   },
   {
    "duration": 44,
    "start_time": "2024-09-28T22:09:19.188Z"
   },
   {
    "duration": 41,
    "start_time": "2024-09-28T22:09:19.233Z"
   },
   {
    "duration": 33,
    "start_time": "2024-09-28T22:09:19.276Z"
   },
   {
    "duration": 35,
    "start_time": "2024-09-28T22:09:19.311Z"
   },
   {
    "duration": 8,
    "start_time": "2024-09-28T22:09:19.348Z"
   },
   {
    "duration": 18,
    "start_time": "2024-09-28T22:09:19.358Z"
   },
   {
    "duration": 24,
    "start_time": "2024-09-28T22:09:19.378Z"
   },
   {
    "duration": 34,
    "start_time": "2024-09-28T22:09:19.403Z"
   },
   {
    "duration": 9,
    "start_time": "2024-09-28T22:09:19.439Z"
   },
   {
    "duration": 13,
    "start_time": "2024-09-28T22:09:19.450Z"
   },
   {
    "duration": 22,
    "start_time": "2024-09-28T22:09:19.464Z"
   },
   {
    "duration": 7,
    "start_time": "2024-09-28T22:09:19.487Z"
   },
   {
    "duration": 50,
    "start_time": "2024-09-28T22:09:19.496Z"
   },
   {
    "duration": 22,
    "start_time": "2024-09-28T22:09:19.548Z"
   },
   {
    "duration": 15,
    "start_time": "2024-09-28T22:09:19.571Z"
   },
   {
    "duration": 15,
    "start_time": "2024-09-28T22:09:19.588Z"
   },
   {
    "duration": 43,
    "start_time": "2024-09-28T22:09:19.605Z"
   },
   {
    "duration": 21,
    "start_time": "2024-09-28T22:09:19.652Z"
   },
   {
    "duration": 5,
    "start_time": "2024-09-28T22:09:19.674Z"
   },
   {
    "duration": 1090,
    "start_time": "2024-09-28T22:09:19.681Z"
   },
   {
    "duration": 0,
    "start_time": "2024-09-28T22:09:20.773Z"
   },
   {
    "duration": 0,
    "start_time": "2024-09-28T22:09:20.774Z"
   },
   {
    "duration": 0,
    "start_time": "2024-09-28T22:09:20.775Z"
   },
   {
    "duration": 0,
    "start_time": "2024-09-28T22:09:20.777Z"
   },
   {
    "duration": 0,
    "start_time": "2024-09-28T22:09:20.779Z"
   },
   {
    "duration": 0,
    "start_time": "2024-09-28T22:09:20.780Z"
   },
   {
    "duration": 0,
    "start_time": "2024-09-28T22:09:20.781Z"
   },
   {
    "duration": 0,
    "start_time": "2024-09-28T22:09:20.783Z"
   },
   {
    "duration": 790,
    "start_time": "2024-09-28T23:14:23.935Z"
   },
   {
    "duration": 165,
    "start_time": "2024-09-28T23:14:24.727Z"
   },
   {
    "duration": 9,
    "start_time": "2024-09-28T23:14:24.893Z"
   },
   {
    "duration": 11,
    "start_time": "2024-09-28T23:14:24.904Z"
   },
   {
    "duration": 18,
    "start_time": "2024-09-28T23:14:24.917Z"
   },
   {
    "duration": 3,
    "start_time": "2024-09-28T23:14:24.936Z"
   },
   {
    "duration": 9,
    "start_time": "2024-09-28T23:14:24.940Z"
   },
   {
    "duration": 13,
    "start_time": "2024-09-28T23:14:24.951Z"
   },
   {
    "duration": 11,
    "start_time": "2024-09-28T23:14:24.966Z"
   },
   {
    "duration": 15,
    "start_time": "2024-09-28T23:14:24.979Z"
   },
   {
    "duration": 36,
    "start_time": "2024-09-28T23:14:24.996Z"
   },
   {
    "duration": 41,
    "start_time": "2024-09-28T23:14:25.034Z"
   },
   {
    "duration": 56,
    "start_time": "2024-09-28T23:14:25.077Z"
   },
   {
    "duration": 12,
    "start_time": "2024-09-28T23:14:25.138Z"
   },
   {
    "duration": 8,
    "start_time": "2024-09-28T23:14:25.151Z"
   },
   {
    "duration": 19,
    "start_time": "2024-09-28T23:14:25.160Z"
   },
   {
    "duration": 24,
    "start_time": "2024-09-28T23:14:25.181Z"
   },
   {
    "duration": 14,
    "start_time": "2024-09-28T23:14:25.231Z"
   },
   {
    "duration": 9,
    "start_time": "2024-09-28T23:14:25.247Z"
   },
   {
    "duration": 13,
    "start_time": "2024-09-28T23:14:25.258Z"
   },
   {
    "duration": 21,
    "start_time": "2024-09-28T23:14:25.272Z"
   },
   {
    "duration": 7,
    "start_time": "2024-09-28T23:14:25.295Z"
   },
   {
    "duration": 22,
    "start_time": "2024-09-28T23:14:25.332Z"
   },
   {
    "duration": 23,
    "start_time": "2024-09-28T23:14:25.356Z"
   },
   {
    "duration": 16,
    "start_time": "2024-09-28T23:14:25.381Z"
   },
   {
    "duration": 36,
    "start_time": "2024-09-28T23:14:25.399Z"
   },
   {
    "duration": 20,
    "start_time": "2024-09-28T23:14:25.436Z"
   },
   {
    "duration": 23,
    "start_time": "2024-09-28T23:14:25.457Z"
   },
   {
    "duration": 5,
    "start_time": "2024-09-28T23:14:25.482Z"
   },
   {
    "duration": 7,
    "start_time": "2024-09-28T23:14:25.489Z"
   },
   {
    "duration": 34,
    "start_time": "2024-09-28T23:14:25.498Z"
   },
   {
    "duration": 2,
    "start_time": "2024-09-28T23:14:25.535Z"
   },
   {
    "duration": 2,
    "start_time": "2024-09-28T23:14:25.539Z"
   },
   {
    "duration": 2,
    "start_time": "2024-09-28T23:14:25.543Z"
   },
   {
    "duration": 3,
    "start_time": "2024-09-28T23:14:25.547Z"
   },
   {
    "duration": 2,
    "start_time": "2024-09-28T23:14:25.553Z"
   },
   {
    "duration": 3,
    "start_time": "2024-09-28T23:14:25.557Z"
   },
   {
    "duration": 2,
    "start_time": "2024-09-28T23:14:25.562Z"
   },
   {
    "duration": 237,
    "start_time": "2024-09-28T23:44:20.935Z"
   },
   {
    "duration": 272,
    "start_time": "2024-09-28T23:53:34.258Z"
   },
   {
    "duration": 10,
    "start_time": "2024-09-28T23:54:17.784Z"
   },
   {
    "duration": 268,
    "start_time": "2024-09-28T23:54:45.106Z"
   },
   {
    "duration": 14,
    "start_time": "2024-09-28T23:56:28.294Z"
   },
   {
    "duration": 15,
    "start_time": "2024-09-29T00:19:01.538Z"
   },
   {
    "duration": 844,
    "start_time": "2024-09-29T00:19:17.164Z"
   },
   {
    "duration": 165,
    "start_time": "2024-09-29T00:19:18.010Z"
   },
   {
    "duration": 9,
    "start_time": "2024-09-29T00:19:18.177Z"
   },
   {
    "duration": 9,
    "start_time": "2024-09-29T00:19:18.188Z"
   },
   {
    "duration": 9,
    "start_time": "2024-09-29T00:19:18.200Z"
   },
   {
    "duration": 2,
    "start_time": "2024-09-29T00:19:18.210Z"
   },
   {
    "duration": 9,
    "start_time": "2024-09-29T00:19:18.231Z"
   },
   {
    "duration": 14,
    "start_time": "2024-09-29T00:19:18.242Z"
   },
   {
    "duration": 10,
    "start_time": "2024-09-29T00:19:18.258Z"
   },
   {
    "duration": 14,
    "start_time": "2024-09-29T00:19:18.270Z"
   },
   {
    "duration": 8,
    "start_time": "2024-09-29T00:19:18.286Z"
   },
   {
    "duration": 73,
    "start_time": "2024-09-29T00:19:18.296Z"
   },
   {
    "duration": 36,
    "start_time": "2024-09-29T00:19:18.370Z"
   },
   {
    "duration": 29,
    "start_time": "2024-09-29T00:19:18.410Z"
   },
   {
    "duration": 7,
    "start_time": "2024-09-29T00:19:18.440Z"
   },
   {
    "duration": 18,
    "start_time": "2024-09-29T00:19:18.449Z"
   },
   {
    "duration": 72,
    "start_time": "2024-09-29T00:19:18.469Z"
   },
   {
    "duration": 13,
    "start_time": "2024-09-29T00:19:18.543Z"
   },
   {
    "duration": 9,
    "start_time": "2024-09-29T00:19:18.558Z"
   },
   {
    "duration": 67,
    "start_time": "2024-09-29T00:19:18.568Z"
   },
   {
    "duration": 23,
    "start_time": "2024-09-29T00:19:18.637Z"
   },
   {
    "duration": 11,
    "start_time": "2024-09-29T00:19:18.662Z"
   },
   {
    "duration": 73,
    "start_time": "2024-09-29T00:19:18.675Z"
   },
   {
    "duration": 23,
    "start_time": "2024-09-29T00:19:18.749Z"
   },
   {
    "duration": 70,
    "start_time": "2024-09-29T00:19:18.774Z"
   },
   {
    "duration": 23,
    "start_time": "2024-09-29T00:19:18.846Z"
   },
   {
    "duration": 74,
    "start_time": "2024-09-29T00:19:18.871Z"
   },
   {
    "duration": 90,
    "start_time": "2024-09-29T00:19:18.949Z"
   },
   {
    "duration": 4,
    "start_time": "2024-09-29T00:19:19.041Z"
   },
   {
    "duration": 9,
    "start_time": "2024-09-29T00:19:19.047Z"
   },
   {
    "duration": 403,
    "start_time": "2024-09-29T00:19:19.057Z"
   },
   {
    "duration": 346,
    "start_time": "2024-09-29T00:19:19.463Z"
   },
   {
    "duration": 10,
    "start_time": "2024-09-29T00:19:19.811Z"
   },
   {
    "duration": 509,
    "start_time": "2024-09-29T00:19:19.831Z"
   },
   {
    "duration": 0,
    "start_time": "2024-09-29T00:19:20.342Z"
   },
   {
    "duration": 0,
    "start_time": "2024-09-29T00:19:20.343Z"
   },
   {
    "duration": 0,
    "start_time": "2024-09-29T00:19:20.344Z"
   },
   {
    "duration": 0,
    "start_time": "2024-09-29T00:19:20.345Z"
   },
   {
    "duration": 163,
    "start_time": "2024-09-29T00:20:09.687Z"
   },
   {
    "duration": 226,
    "start_time": "2024-09-29T00:24:50.205Z"
   },
   {
    "duration": 272,
    "start_time": "2024-09-29T00:26:33.118Z"
   },
   {
    "duration": 296,
    "start_time": "2024-09-29T00:29:23.013Z"
   },
   {
    "duration": 286,
    "start_time": "2024-09-29T00:39:11.367Z"
   },
   {
    "duration": 11,
    "start_time": "2024-09-29T00:39:50.662Z"
   },
   {
    "duration": 101,
    "start_time": "2024-09-29T00:40:30.669Z"
   },
   {
    "duration": 230,
    "start_time": "2024-09-29T00:41:17.574Z"
   },
   {
    "duration": 759,
    "start_time": "2024-09-29T00:47:48.816Z"
   },
   {
    "duration": 159,
    "start_time": "2024-09-29T00:47:49.577Z"
   },
   {
    "duration": 9,
    "start_time": "2024-09-29T00:47:49.738Z"
   },
   {
    "duration": 13,
    "start_time": "2024-09-29T00:47:49.749Z"
   },
   {
    "duration": 10,
    "start_time": "2024-09-29T00:47:49.765Z"
   },
   {
    "duration": 3,
    "start_time": "2024-09-29T00:47:49.777Z"
   },
   {
    "duration": 12,
    "start_time": "2024-09-29T00:47:49.782Z"
   },
   {
    "duration": 43,
    "start_time": "2024-09-29T00:47:49.796Z"
   },
   {
    "duration": 10,
    "start_time": "2024-09-29T00:47:49.841Z"
   },
   {
    "duration": 14,
    "start_time": "2024-09-29T00:47:49.856Z"
   },
   {
    "duration": 8,
    "start_time": "2024-09-29T00:47:49.871Z"
   },
   {
    "duration": 67,
    "start_time": "2024-09-29T00:47:49.880Z"
   },
   {
    "duration": 37,
    "start_time": "2024-09-29T00:47:49.948Z"
   },
   {
    "duration": 12,
    "start_time": "2024-09-29T00:47:49.986Z"
   },
   {
    "duration": 8,
    "start_time": "2024-09-29T00:47:50.000Z"
   },
   {
    "duration": 17,
    "start_time": "2024-09-29T00:47:50.032Z"
   },
   {
    "duration": 25,
    "start_time": "2024-09-29T00:47:50.051Z"
   },
   {
    "duration": 14,
    "start_time": "2024-09-29T00:47:50.078Z"
   },
   {
    "duration": 9,
    "start_time": "2024-09-29T00:47:50.093Z"
   },
   {
    "duration": 18,
    "start_time": "2024-09-29T00:47:50.131Z"
   },
   {
    "duration": 19,
    "start_time": "2024-09-29T00:47:50.151Z"
   },
   {
    "duration": 11,
    "start_time": "2024-09-29T00:47:50.172Z"
   },
   {
    "duration": 23,
    "start_time": "2024-09-29T00:47:50.184Z"
   },
   {
    "duration": 43,
    "start_time": "2024-09-29T00:47:50.209Z"
   },
   {
    "duration": 15,
    "start_time": "2024-09-29T00:47:50.253Z"
   },
   {
    "duration": 16,
    "start_time": "2024-09-29T00:47:50.270Z"
   },
   {
    "duration": 19,
    "start_time": "2024-09-29T00:47:50.287Z"
   },
   {
    "duration": 24,
    "start_time": "2024-09-29T00:47:50.333Z"
   },
   {
    "duration": 5,
    "start_time": "2024-09-29T00:47:50.358Z"
   },
   {
    "duration": 5,
    "start_time": "2024-09-29T00:47:50.365Z"
   },
   {
    "duration": 258,
    "start_time": "2024-09-29T00:47:50.373Z"
   },
   {
    "duration": 338,
    "start_time": "2024-09-29T00:47:50.633Z"
   },
   {
    "duration": 9,
    "start_time": "2024-09-29T00:47:50.973Z"
   },
   {
    "duration": 115,
    "start_time": "2024-09-29T00:47:50.984Z"
   },
   {
    "duration": 226,
    "start_time": "2024-09-29T00:47:51.101Z"
   },
   {
    "duration": 291,
    "start_time": "2024-09-29T00:47:51.328Z"
   },
   {
    "duration": 284,
    "start_time": "2024-09-29T00:47:51.631Z"
   },
   {
    "duration": 18,
    "start_time": "2024-09-29T00:47:51.917Z"
   },
   {
    "duration": 117,
    "start_time": "2024-09-29T00:47:51.937Z"
   },
   {
    "duration": 397,
    "start_time": "2024-09-29T00:47:52.056Z"
   },
   {
    "duration": 0,
    "start_time": "2024-09-29T00:47:52.455Z"
   },
   {
    "duration": 0,
    "start_time": "2024-09-29T00:47:52.457Z"
   },
   {
    "duration": 817,
    "start_time": "2024-09-29T00:51:43.852Z"
   },
   {
    "duration": 160,
    "start_time": "2024-09-29T00:51:44.671Z"
   },
   {
    "duration": 9,
    "start_time": "2024-09-29T00:51:44.833Z"
   },
   {
    "duration": 9,
    "start_time": "2024-09-29T00:51:44.845Z"
   },
   {
    "duration": 9,
    "start_time": "2024-09-29T00:51:44.855Z"
   },
   {
    "duration": 3,
    "start_time": "2024-09-29T00:51:44.865Z"
   },
   {
    "duration": 9,
    "start_time": "2024-09-29T00:51:44.869Z"
   },
   {
    "duration": 15,
    "start_time": "2024-09-29T00:51:44.879Z"
   },
   {
    "duration": 45,
    "start_time": "2024-09-29T00:51:44.895Z"
   },
   {
    "duration": 14,
    "start_time": "2024-09-29T00:51:44.943Z"
   },
   {
    "duration": 7,
    "start_time": "2024-09-29T00:51:44.958Z"
   },
   {
    "duration": 65,
    "start_time": "2024-09-29T00:51:44.967Z"
   },
   {
    "duration": 34,
    "start_time": "2024-09-29T00:51:45.034Z"
   },
   {
    "duration": 12,
    "start_time": "2024-09-29T00:51:45.069Z"
   },
   {
    "duration": 7,
    "start_time": "2024-09-29T00:51:45.083Z"
   },
   {
    "duration": 42,
    "start_time": "2024-09-29T00:51:45.091Z"
   },
   {
    "duration": 25,
    "start_time": "2024-09-29T00:51:45.136Z"
   },
   {
    "duration": 13,
    "start_time": "2024-09-29T00:51:45.163Z"
   },
   {
    "duration": 10,
    "start_time": "2024-09-29T00:51:45.179Z"
   },
   {
    "duration": 13,
    "start_time": "2024-09-29T00:51:45.190Z"
   },
   {
    "duration": 21,
    "start_time": "2024-09-29T00:51:45.230Z"
   },
   {
    "duration": 9,
    "start_time": "2024-09-29T00:51:45.253Z"
   },
   {
    "duration": 22,
    "start_time": "2024-09-29T00:51:45.263Z"
   },
   {
    "duration": 44,
    "start_time": "2024-09-29T00:51:45.287Z"
   },
   {
    "duration": 17,
    "start_time": "2024-09-29T00:51:45.333Z"
   },
   {
    "duration": 16,
    "start_time": "2024-09-29T00:51:45.351Z"
   },
   {
    "duration": 21,
    "start_time": "2024-09-29T00:51:45.369Z"
   },
   {
    "duration": 47,
    "start_time": "2024-09-29T00:51:45.393Z"
   },
   {
    "duration": 5,
    "start_time": "2024-09-29T00:51:45.441Z"
   },
   {
    "duration": 7,
    "start_time": "2024-09-29T00:51:45.448Z"
   },
   {
    "duration": 276,
    "start_time": "2024-09-29T00:51:45.456Z"
   },
   {
    "duration": 0,
    "start_time": "2024-09-29T00:51:45.734Z"
   },
   {
    "duration": 0,
    "start_time": "2024-09-29T00:51:45.735Z"
   },
   {
    "duration": 0,
    "start_time": "2024-09-29T00:51:45.736Z"
   },
   {
    "duration": 0,
    "start_time": "2024-09-29T00:51:45.737Z"
   },
   {
    "duration": 0,
    "start_time": "2024-09-29T00:51:45.739Z"
   },
   {
    "duration": 0,
    "start_time": "2024-09-29T00:51:45.740Z"
   },
   {
    "duration": 0,
    "start_time": "2024-09-29T00:51:45.741Z"
   },
   {
    "duration": 0,
    "start_time": "2024-09-29T00:51:45.742Z"
   },
   {
    "duration": 0,
    "start_time": "2024-09-29T00:51:45.744Z"
   },
   {
    "duration": 0,
    "start_time": "2024-09-29T00:51:45.745Z"
   },
   {
    "duration": 0,
    "start_time": "2024-09-29T00:51:45.746Z"
   },
   {
    "duration": 0,
    "start_time": "2024-09-29T00:51:45.747Z"
   },
   {
    "duration": 119,
    "start_time": "2024-09-29T00:51:58.292Z"
   },
   {
    "duration": 2618,
    "start_time": "2024-09-29T01:57:37.015Z"
   },
   {
    "duration": 228,
    "start_time": "2024-09-29T01:57:39.636Z"
   },
   {
    "duration": 11,
    "start_time": "2024-09-29T01:57:39.867Z"
   },
   {
    "duration": 11,
    "start_time": "2024-09-29T01:57:39.881Z"
   },
   {
    "duration": 10,
    "start_time": "2024-09-29T01:57:39.895Z"
   },
   {
    "duration": 2,
    "start_time": "2024-09-29T01:57:39.907Z"
   },
   {
    "duration": 8,
    "start_time": "2024-09-29T01:57:39.912Z"
   },
   {
    "duration": 35,
    "start_time": "2024-09-29T01:57:39.922Z"
   },
   {
    "duration": 15,
    "start_time": "2024-09-29T01:57:39.959Z"
   },
   {
    "duration": 21,
    "start_time": "2024-09-29T01:57:39.976Z"
   },
   {
    "duration": 9,
    "start_time": "2024-09-29T01:57:40.000Z"
   },
   {
    "duration": 69,
    "start_time": "2024-09-29T01:57:40.011Z"
   },
   {
    "duration": 35,
    "start_time": "2024-09-29T01:57:40.082Z"
   },
   {
    "duration": 27,
    "start_time": "2024-09-29T01:57:40.121Z"
   },
   {
    "duration": 9,
    "start_time": "2024-09-29T01:57:40.151Z"
   },
   {
    "duration": 19,
    "start_time": "2024-09-29T01:57:40.162Z"
   },
   {
    "duration": 26,
    "start_time": "2024-09-29T01:57:40.183Z"
   },
   {
    "duration": 46,
    "start_time": "2024-09-29T01:57:40.211Z"
   },
   {
    "duration": 11,
    "start_time": "2024-09-29T01:57:40.259Z"
   },
   {
    "duration": 19,
    "start_time": "2024-09-29T01:57:40.272Z"
   },
   {
    "duration": 22,
    "start_time": "2024-09-29T01:57:40.294Z"
   },
   {
    "duration": 35,
    "start_time": "2024-09-29T01:57:40.318Z"
   },
   {
    "duration": 22,
    "start_time": "2024-09-29T01:57:40.355Z"
   },
   {
    "duration": 23,
    "start_time": "2024-09-29T01:57:40.379Z"
   },
   {
    "duration": 41,
    "start_time": "2024-09-29T01:57:40.404Z"
   },
   {
    "duration": 23,
    "start_time": "2024-09-29T01:57:40.447Z"
   },
   {
    "duration": 31,
    "start_time": "2024-09-29T01:57:40.473Z"
   },
   {
    "duration": 48,
    "start_time": "2024-09-29T01:57:40.506Z"
   },
   {
    "duration": 5,
    "start_time": "2024-09-29T01:57:40.557Z"
   },
   {
    "duration": 10,
    "start_time": "2024-09-29T01:57:40.564Z"
   },
   {
    "duration": 237,
    "start_time": "2024-09-29T01:57:40.576Z"
   },
   {
    "duration": 0,
    "start_time": "2024-09-29T01:57:40.816Z"
   },
   {
    "duration": 0,
    "start_time": "2024-09-29T01:57:40.817Z"
   },
   {
    "duration": 0,
    "start_time": "2024-09-29T01:57:40.819Z"
   },
   {
    "duration": 0,
    "start_time": "2024-09-29T01:57:40.820Z"
   },
   {
    "duration": 0,
    "start_time": "2024-09-29T01:57:40.821Z"
   },
   {
    "duration": 0,
    "start_time": "2024-09-29T01:57:40.823Z"
   },
   {
    "duration": 0,
    "start_time": "2024-09-29T01:57:40.843Z"
   },
   {
    "duration": 0,
    "start_time": "2024-09-29T01:57:40.844Z"
   },
   {
    "duration": 0,
    "start_time": "2024-09-29T01:57:40.845Z"
   },
   {
    "duration": 0,
    "start_time": "2024-09-29T01:57:40.846Z"
   },
   {
    "duration": 0,
    "start_time": "2024-09-29T01:57:40.847Z"
   },
   {
    "duration": 0,
    "start_time": "2024-09-29T01:57:40.848Z"
   },
   {
    "duration": 182,
    "start_time": "2024-09-29T01:57:51.261Z"
   },
   {
    "duration": 110,
    "start_time": "2024-09-29T01:58:15.683Z"
   },
   {
    "duration": 329,
    "start_time": "2024-09-29T01:58:26.316Z"
   },
   {
    "duration": 980,
    "start_time": "2024-09-29T01:58:34.420Z"
   },
   {
    "duration": 233,
    "start_time": "2024-09-29T01:58:35.405Z"
   },
   {
    "duration": 10,
    "start_time": "2024-09-29T01:58:35.640Z"
   },
   {
    "duration": 9,
    "start_time": "2024-09-29T01:58:35.652Z"
   },
   {
    "duration": 9,
    "start_time": "2024-09-29T01:58:35.664Z"
   },
   {
    "duration": 3,
    "start_time": "2024-09-29T01:58:35.675Z"
   },
   {
    "duration": 10,
    "start_time": "2024-09-29T01:58:35.679Z"
   },
   {
    "duration": 16,
    "start_time": "2024-09-29T01:58:35.691Z"
   },
   {
    "duration": 11,
    "start_time": "2024-09-29T01:58:35.743Z"
   },
   {
    "duration": 17,
    "start_time": "2024-09-29T01:58:35.757Z"
   },
   {
    "duration": 9,
    "start_time": "2024-09-29T01:58:35.776Z"
   },
   {
    "duration": 65,
    "start_time": "2024-09-29T01:58:35.787Z"
   },
   {
    "duration": 50,
    "start_time": "2024-09-29T01:58:35.854Z"
   },
   {
    "duration": 15,
    "start_time": "2024-09-29T01:58:35.909Z"
   },
   {
    "duration": 19,
    "start_time": "2024-09-29T01:58:35.926Z"
   },
   {
    "duration": 19,
    "start_time": "2024-09-29T01:58:35.947Z"
   },
   {
    "duration": 26,
    "start_time": "2024-09-29T01:58:35.967Z"
   },
   {
    "duration": 17,
    "start_time": "2024-09-29T01:58:35.995Z"
   },
   {
    "duration": 9,
    "start_time": "2024-09-29T01:58:36.044Z"
   },
   {
    "duration": 16,
    "start_time": "2024-09-29T01:58:36.054Z"
   },
   {
    "duration": 22,
    "start_time": "2024-09-29T01:58:36.072Z"
   },
   {
    "duration": 10,
    "start_time": "2024-09-29T01:58:36.096Z"
   },
   {
    "duration": 52,
    "start_time": "2024-09-29T01:58:36.108Z"
   },
   {
    "duration": 24,
    "start_time": "2024-09-29T01:58:36.163Z"
   },
   {
    "duration": 16,
    "start_time": "2024-09-29T01:58:36.188Z"
   },
   {
    "duration": 16,
    "start_time": "2024-09-29T01:58:36.206Z"
   },
   {
    "duration": 36,
    "start_time": "2024-09-29T01:58:36.224Z"
   },
   {
    "duration": 25,
    "start_time": "2024-09-29T01:58:36.262Z"
   },
   {
    "duration": 5,
    "start_time": "2024-09-29T01:58:36.289Z"
   },
   {
    "duration": 7,
    "start_time": "2024-09-29T01:58:36.296Z"
   },
   {
    "duration": 322,
    "start_time": "2024-09-29T01:58:36.305Z"
   },
   {
    "duration": 0,
    "start_time": "2024-09-29T01:58:36.629Z"
   },
   {
    "duration": 0,
    "start_time": "2024-09-29T01:58:36.631Z"
   },
   {
    "duration": 0,
    "start_time": "2024-09-29T01:58:36.633Z"
   },
   {
    "duration": 0,
    "start_time": "2024-09-29T01:58:36.634Z"
   },
   {
    "duration": 0,
    "start_time": "2024-09-29T01:58:36.635Z"
   },
   {
    "duration": 0,
    "start_time": "2024-09-29T01:58:36.646Z"
   },
   {
    "duration": 0,
    "start_time": "2024-09-29T01:58:36.648Z"
   },
   {
    "duration": 0,
    "start_time": "2024-09-29T01:58:36.649Z"
   },
   {
    "duration": 0,
    "start_time": "2024-09-29T01:58:36.651Z"
   },
   {
    "duration": 0,
    "start_time": "2024-09-29T01:58:36.652Z"
   },
   {
    "duration": 0,
    "start_time": "2024-09-29T01:58:36.653Z"
   },
   {
    "duration": 0,
    "start_time": "2024-09-29T01:58:36.655Z"
   },
   {
    "duration": 832,
    "start_time": "2024-09-29T01:59:39.706Z"
   },
   {
    "duration": 181,
    "start_time": "2024-09-29T01:59:40.540Z"
   },
   {
    "duration": 11,
    "start_time": "2024-09-29T01:59:40.723Z"
   },
   {
    "duration": 16,
    "start_time": "2024-09-29T01:59:40.737Z"
   },
   {
    "duration": 10,
    "start_time": "2024-09-29T01:59:40.757Z"
   },
   {
    "duration": 3,
    "start_time": "2024-09-29T01:59:40.768Z"
   },
   {
    "duration": 9,
    "start_time": "2024-09-29T01:59:40.773Z"
   },
   {
    "duration": 17,
    "start_time": "2024-09-29T01:59:40.783Z"
   },
   {
    "duration": 45,
    "start_time": "2024-09-29T01:59:40.802Z"
   },
   {
    "duration": 20,
    "start_time": "2024-09-29T01:59:40.849Z"
   },
   {
    "duration": 9,
    "start_time": "2024-09-29T01:59:40.871Z"
   },
   {
    "duration": 61,
    "start_time": "2024-09-29T01:59:40.882Z"
   },
   {
    "duration": 41,
    "start_time": "2024-09-29T01:59:40.944Z"
   },
   {
    "duration": 14,
    "start_time": "2024-09-29T01:59:40.990Z"
   },
   {
    "duration": 9,
    "start_time": "2024-09-29T01:59:41.006Z"
   },
   {
    "duration": 44,
    "start_time": "2024-09-29T01:59:41.019Z"
   },
   {
    "duration": 30,
    "start_time": "2024-09-29T01:59:41.066Z"
   },
   {
    "duration": 18,
    "start_time": "2024-09-29T01:59:41.098Z"
   },
   {
    "duration": 34,
    "start_time": "2024-09-29T01:59:41.118Z"
   },
   {
    "duration": 14,
    "start_time": "2024-09-29T01:59:41.153Z"
   },
   {
    "duration": 21,
    "start_time": "2024-09-29T01:59:41.169Z"
   },
   {
    "duration": 8,
    "start_time": "2024-09-29T01:59:41.192Z"
   },
   {
    "duration": 51,
    "start_time": "2024-09-29T01:59:41.202Z"
   },
   {
    "duration": 28,
    "start_time": "2024-09-29T01:59:41.256Z"
   },
   {
    "duration": 21,
    "start_time": "2024-09-29T01:59:41.286Z"
   },
   {
    "duration": 35,
    "start_time": "2024-09-29T01:59:41.309Z"
   },
   {
    "duration": 28,
    "start_time": "2024-09-29T01:59:41.346Z"
   },
   {
    "duration": 23,
    "start_time": "2024-09-29T01:59:41.376Z"
   },
   {
    "duration": 5,
    "start_time": "2024-09-29T01:59:41.400Z"
   },
   {
    "duration": 6,
    "start_time": "2024-09-29T01:59:41.407Z"
   },
   {
    "duration": 66,
    "start_time": "2024-09-29T01:59:41.442Z"
   },
   {
    "duration": 269,
    "start_time": "2024-09-29T01:59:41.510Z"
   },
   {
    "duration": 365,
    "start_time": "2024-09-29T01:59:41.781Z"
   },
   {
    "duration": 10,
    "start_time": "2024-09-29T01:59:42.148Z"
   },
   {
    "duration": 115,
    "start_time": "2024-09-29T01:59:42.160Z"
   },
   {
    "duration": 237,
    "start_time": "2024-09-29T01:59:42.277Z"
   },
   {
    "duration": 321,
    "start_time": "2024-09-29T01:59:42.516Z"
   },
   {
    "duration": 325,
    "start_time": "2024-09-29T01:59:42.839Z"
   },
   {
    "duration": 13,
    "start_time": "2024-09-29T01:59:43.167Z"
   },
   {
    "duration": 147,
    "start_time": "2024-09-29T01:59:43.182Z"
   },
   {
    "duration": 240,
    "start_time": "2024-09-29T01:59:43.335Z"
   },
   {
    "duration": 4,
    "start_time": "2024-09-29T01:59:43.577Z"
   },
   {
    "duration": 4,
    "start_time": "2024-09-29T01:59:43.585Z"
   },
   {
    "duration": 328,
    "start_time": "2024-09-29T02:08:17.714Z"
   },
   {
    "duration": 349,
    "start_time": "2024-09-29T02:50:17.886Z"
   },
   {
    "duration": 9,
    "start_time": "2024-09-29T02:51:02.762Z"
   },
   {
    "duration": 591,
    "start_time": "2024-09-29T02:56:08.245Z"
   },
   {
    "duration": 96,
    "start_time": "2024-09-29T02:56:37.717Z"
   },
   {
    "duration": 102,
    "start_time": "2024-09-29T02:57:08.727Z"
   },
   {
    "duration": 10,
    "start_time": "2024-09-29T02:58:27.999Z"
   },
   {
    "duration": 15,
    "start_time": "2024-09-29T04:50:17.500Z"
   },
   {
    "duration": 285,
    "start_time": "2024-09-29T04:56:48.838Z"
   },
   {
    "duration": 9,
    "start_time": "2024-09-29T04:58:01.162Z"
   },
   {
    "duration": 756,
    "start_time": "2024-09-29T05:37:09.333Z"
   },
   {
    "duration": 162,
    "start_time": "2024-09-29T05:37:10.091Z"
   },
   {
    "duration": 9,
    "start_time": "2024-09-29T05:37:10.255Z"
   },
   {
    "duration": 9,
    "start_time": "2024-09-29T05:37:10.267Z"
   },
   {
    "duration": 9,
    "start_time": "2024-09-29T05:37:10.278Z"
   },
   {
    "duration": 2,
    "start_time": "2024-09-29T05:37:10.288Z"
   },
   {
    "duration": 8,
    "start_time": "2024-09-29T05:37:10.292Z"
   },
   {
    "duration": 47,
    "start_time": "2024-09-29T05:37:10.302Z"
   },
   {
    "duration": 11,
    "start_time": "2024-09-29T05:37:10.350Z"
   },
   {
    "duration": 15,
    "start_time": "2024-09-29T05:37:10.365Z"
   },
   {
    "duration": 7,
    "start_time": "2024-09-29T05:37:10.381Z"
   },
   {
    "duration": 65,
    "start_time": "2024-09-29T05:37:10.389Z"
   },
   {
    "duration": 43,
    "start_time": "2024-09-29T05:37:10.457Z"
   },
   {
    "duration": 14,
    "start_time": "2024-09-29T05:37:10.503Z"
   },
   {
    "duration": 7,
    "start_time": "2024-09-29T05:37:10.518Z"
   },
   {
    "duration": 20,
    "start_time": "2024-09-29T05:37:10.543Z"
   },
   {
    "duration": 25,
    "start_time": "2024-09-29T05:37:10.565Z"
   },
   {
    "duration": 13,
    "start_time": "2024-09-29T05:37:10.591Z"
   },
   {
    "duration": 8,
    "start_time": "2024-09-29T05:37:10.606Z"
   },
   {
    "duration": 44,
    "start_time": "2024-09-29T05:37:10.615Z"
   },
   {
    "duration": 21,
    "start_time": "2024-09-29T05:37:10.661Z"
   },
   {
    "duration": 9,
    "start_time": "2024-09-29T05:37:10.683Z"
   },
   {
    "duration": 22,
    "start_time": "2024-09-29T05:37:10.694Z"
   },
   {
    "duration": 50,
    "start_time": "2024-09-29T05:37:10.718Z"
   },
   {
    "duration": 16,
    "start_time": "2024-09-29T05:37:10.770Z"
   },
   {
    "duration": 16,
    "start_time": "2024-09-29T05:37:10.787Z"
   },
   {
    "duration": 46,
    "start_time": "2024-09-29T05:37:10.804Z"
   },
   {
    "duration": 23,
    "start_time": "2024-09-29T05:37:10.856Z"
   },
   {
    "duration": 4,
    "start_time": "2024-09-29T05:37:10.881Z"
   },
   {
    "duration": 6,
    "start_time": "2024-09-29T05:37:10.887Z"
   },
   {
    "duration": 88,
    "start_time": "2024-09-29T05:37:10.894Z"
   },
   {
    "duration": 258,
    "start_time": "2024-09-29T05:37:10.984Z"
   },
   {
    "duration": 320,
    "start_time": "2024-09-29T05:37:11.244Z"
   },
   {
    "duration": 8,
    "start_time": "2024-09-29T05:37:11.566Z"
   },
   {
    "duration": 115,
    "start_time": "2024-09-29T05:37:11.576Z"
   },
   {
    "duration": 221,
    "start_time": "2024-09-29T05:37:11.693Z"
   },
   {
    "duration": 273,
    "start_time": "2024-09-29T05:37:11.915Z"
   },
   {
    "duration": 9,
    "start_time": "2024-09-29T05:37:12.189Z"
   },
   {
    "duration": 303,
    "start_time": "2024-09-29T05:37:12.200Z"
   },
   {
    "duration": 9,
    "start_time": "2024-09-29T05:37:12.505Z"
   },
   {
    "duration": 114,
    "start_time": "2024-09-29T05:37:12.517Z"
   },
   {
    "duration": 232,
    "start_time": "2024-09-29T05:37:12.632Z"
   },
   {
    "duration": 297,
    "start_time": "2024-09-29T05:37:12.866Z"
   },
   {
    "duration": 9,
    "start_time": "2024-09-29T05:37:13.165Z"
   },
   {
    "duration": 180,
    "start_time": "2024-09-29T05:37:13.175Z"
   },
   {
    "duration": 7,
    "start_time": "2024-09-29T05:37:13.356Z"
   },
   {
    "duration": 15,
    "start_time": "2024-09-29T05:37:13.365Z"
   },
   {
    "duration": 2695,
    "start_time": "2024-09-29T06:38:06.171Z"
   },
   {
    "duration": 211,
    "start_time": "2024-09-29T06:38:08.868Z"
   },
   {
    "duration": 11,
    "start_time": "2024-09-29T06:38:09.081Z"
   },
   {
    "duration": 10,
    "start_time": "2024-09-29T06:38:09.095Z"
   },
   {
    "duration": 10,
    "start_time": "2024-09-29T06:38:09.106Z"
   },
   {
    "duration": 3,
    "start_time": "2024-09-29T06:38:09.117Z"
   },
   {
    "duration": 27,
    "start_time": "2024-09-29T06:38:09.122Z"
   },
   {
    "duration": 15,
    "start_time": "2024-09-29T06:38:09.151Z"
   },
   {
    "duration": 11,
    "start_time": "2024-09-29T06:38:09.168Z"
   },
   {
    "duration": 15,
    "start_time": "2024-09-29T06:38:09.183Z"
   },
   {
    "duration": 44,
    "start_time": "2024-09-29T06:38:09.200Z"
   },
   {
    "duration": 44,
    "start_time": "2024-09-29T06:38:09.246Z"
   },
   {
    "duration": 35,
    "start_time": "2024-09-29T06:38:09.291Z"
   },
   {
    "duration": 13,
    "start_time": "2024-09-29T06:38:09.343Z"
   },
   {
    "duration": 9,
    "start_time": "2024-09-29T06:38:09.357Z"
   },
   {
    "duration": 19,
    "start_time": "2024-09-29T06:38:09.367Z"
   },
   {
    "duration": 26,
    "start_time": "2024-09-29T06:38:09.388Z"
   },
   {
    "duration": 17,
    "start_time": "2024-09-29T06:38:09.444Z"
   },
   {
    "duration": 11,
    "start_time": "2024-09-29T06:38:09.464Z"
   },
   {
    "duration": 14,
    "start_time": "2024-09-29T06:38:09.477Z"
   },
   {
    "duration": 24,
    "start_time": "2024-09-29T06:38:09.492Z"
   },
   {
    "duration": 9,
    "start_time": "2024-09-29T06:38:09.544Z"
   },
   {
    "duration": 22,
    "start_time": "2024-09-29T06:38:09.555Z"
   },
   {
    "duration": 24,
    "start_time": "2024-09-29T06:38:09.579Z"
   },
   {
    "duration": 40,
    "start_time": "2024-09-29T06:38:09.605Z"
   },
   {
    "duration": 18,
    "start_time": "2024-09-29T06:38:09.646Z"
   },
   {
    "duration": 20,
    "start_time": "2024-09-29T06:38:09.666Z"
   },
   {
    "duration": 23,
    "start_time": "2024-09-29T06:38:09.691Z"
   },
   {
    "duration": 30,
    "start_time": "2024-09-29T06:38:09.716Z"
   },
   {
    "duration": 8,
    "start_time": "2024-09-29T06:38:09.748Z"
   },
   {
    "duration": 66,
    "start_time": "2024-09-29T06:38:09.758Z"
   },
   {
    "duration": 251,
    "start_time": "2024-09-29T06:38:09.842Z"
   },
   {
    "duration": 305,
    "start_time": "2024-09-29T06:38:10.095Z"
   },
   {
    "duration": 10,
    "start_time": "2024-09-29T06:38:10.403Z"
   },
   {
    "duration": 140,
    "start_time": "2024-09-29T06:38:10.415Z"
   },
   {
    "duration": 238,
    "start_time": "2024-09-29T06:38:10.557Z"
   },
   {
    "duration": 295,
    "start_time": "2024-09-29T06:38:10.796Z"
   },
   {
    "duration": 8,
    "start_time": "2024-09-29T06:38:11.094Z"
   },
   {
    "duration": 389,
    "start_time": "2024-09-29T06:38:11.104Z"
   },
   {
    "duration": 12,
    "start_time": "2024-09-29T06:38:11.495Z"
   },
   {
    "duration": 127,
    "start_time": "2024-09-29T06:38:11.509Z"
   },
   {
    "duration": 244,
    "start_time": "2024-09-29T06:38:11.639Z"
   },
   {
    "duration": 292,
    "start_time": "2024-09-29T06:38:11.885Z"
   },
   {
    "duration": 10,
    "start_time": "2024-09-29T06:38:12.179Z"
   },
   {
    "duration": 117,
    "start_time": "2024-09-29T06:38:12.191Z"
   },
   {
    "duration": 8,
    "start_time": "2024-09-29T06:38:12.310Z"
   },
   {
    "duration": 29,
    "start_time": "2024-09-29T06:38:12.320Z"
   },
   {
    "duration": 857,
    "start_time": "2024-09-29T08:12:10.141Z"
   },
   {
    "duration": 170,
    "start_time": "2024-09-29T08:12:11.001Z"
   },
   {
    "duration": 10,
    "start_time": "2024-09-29T08:12:11.174Z"
   },
   {
    "duration": 9,
    "start_time": "2024-09-29T08:12:11.187Z"
   },
   {
    "duration": 8,
    "start_time": "2024-09-29T08:12:11.198Z"
   },
   {
    "duration": 2,
    "start_time": "2024-09-29T08:12:11.208Z"
   },
   {
    "duration": 8,
    "start_time": "2024-09-29T08:12:11.212Z"
   },
   {
    "duration": 37,
    "start_time": "2024-09-29T08:12:11.221Z"
   },
   {
    "duration": 11,
    "start_time": "2024-09-29T08:12:11.260Z"
   },
   {
    "duration": 14,
    "start_time": "2024-09-29T08:12:11.274Z"
   },
   {
    "duration": 7,
    "start_time": "2024-09-29T08:12:11.290Z"
   },
   {
    "duration": 75,
    "start_time": "2024-09-29T08:12:11.299Z"
   },
   {
    "duration": 36,
    "start_time": "2024-09-29T08:12:11.375Z"
   },
   {
    "duration": 13,
    "start_time": "2024-09-29T08:12:11.413Z"
   },
   {
    "duration": 21,
    "start_time": "2024-09-29T08:12:11.428Z"
   },
   {
    "duration": 22,
    "start_time": "2024-09-29T08:12:11.451Z"
   },
   {
    "duration": 26,
    "start_time": "2024-09-29T08:12:11.475Z"
   },
   {
    "duration": 40,
    "start_time": "2024-09-29T08:12:11.503Z"
   },
   {
    "duration": 10,
    "start_time": "2024-09-29T08:12:11.545Z"
   },
   {
    "duration": 13,
    "start_time": "2024-09-29T08:12:11.557Z"
   },
   {
    "duration": 21,
    "start_time": "2024-09-29T08:12:11.572Z"
   },
   {
    "duration": 8,
    "start_time": "2024-09-29T08:12:11.595Z"
   },
   {
    "duration": 58,
    "start_time": "2024-09-29T08:12:11.604Z"
   },
   {
    "duration": 24,
    "start_time": "2024-09-29T08:12:11.664Z"
   },
   {
    "duration": 15,
    "start_time": "2024-09-29T08:12:11.690Z"
   },
   {
    "duration": 37,
    "start_time": "2024-09-29T08:12:11.707Z"
   },
   {
    "duration": 21,
    "start_time": "2024-09-29T08:12:11.745Z"
   },
   {
    "duration": 23,
    "start_time": "2024-09-29T08:12:11.771Z"
   },
   {
    "duration": 5,
    "start_time": "2024-09-29T08:12:11.796Z"
   },
   {
    "duration": 6,
    "start_time": "2024-09-29T08:12:11.803Z"
   },
   {
    "duration": 96,
    "start_time": "2024-09-29T08:12:11.811Z"
   },
   {
    "duration": 250,
    "start_time": "2024-09-29T08:12:11.908Z"
   },
   {
    "duration": 337,
    "start_time": "2024-09-29T08:12:12.161Z"
   },
   {
    "duration": 9,
    "start_time": "2024-09-29T08:12:12.500Z"
   },
   {
    "duration": 115,
    "start_time": "2024-09-29T08:12:12.511Z"
   },
   {
    "duration": 230,
    "start_time": "2024-09-29T08:12:12.628Z"
   },
   {
    "duration": 291,
    "start_time": "2024-09-29T08:12:12.861Z"
   },
   {
    "duration": 9,
    "start_time": "2024-09-29T08:12:13.154Z"
   },
   {
    "duration": 307,
    "start_time": "2024-09-29T08:12:13.165Z"
   },
   {
    "duration": 9,
    "start_time": "2024-09-29T08:12:13.475Z"
   },
   {
    "duration": 122,
    "start_time": "2024-09-29T08:12:13.486Z"
   },
   {
    "duration": 239,
    "start_time": "2024-09-29T08:12:13.610Z"
   },
   {
    "duration": 294,
    "start_time": "2024-09-29T08:12:13.852Z"
   },
   {
    "duration": 10,
    "start_time": "2024-09-29T08:12:14.148Z"
   },
   {
    "duration": 188,
    "start_time": "2024-09-29T08:12:14.160Z"
   },
   {
    "duration": 9,
    "start_time": "2024-09-29T08:12:14.350Z"
   },
   {
    "duration": 16,
    "start_time": "2024-09-29T08:12:14.360Z"
   },
   {
    "duration": 2544,
    "start_time": "2024-09-29T08:44:46.057Z"
   },
   {
    "duration": 230,
    "start_time": "2024-09-29T08:44:48.603Z"
   },
   {
    "duration": 10,
    "start_time": "2024-09-29T08:44:48.835Z"
   },
   {
    "duration": 9,
    "start_time": "2024-09-29T08:44:48.848Z"
   },
   {
    "duration": 9,
    "start_time": "2024-09-29T08:44:48.859Z"
   },
   {
    "duration": 2,
    "start_time": "2024-09-29T08:44:48.870Z"
   },
   {
    "duration": 8,
    "start_time": "2024-09-29T08:44:48.874Z"
   },
   {
    "duration": 13,
    "start_time": "2024-09-29T08:44:48.883Z"
   },
   {
    "duration": 45,
    "start_time": "2024-09-29T08:44:48.898Z"
   },
   {
    "duration": 14,
    "start_time": "2024-09-29T08:44:48.946Z"
   },
   {
    "duration": 7,
    "start_time": "2024-09-29T08:44:48.961Z"
   },
   {
    "duration": 42,
    "start_time": "2024-09-29T08:44:48.970Z"
   },
   {
    "duration": 60,
    "start_time": "2024-09-29T08:44:49.014Z"
   },
   {
    "duration": 17,
    "start_time": "2024-09-29T08:44:49.075Z"
   },
   {
    "duration": 10,
    "start_time": "2024-09-29T08:44:49.102Z"
   },
   {
    "duration": 19,
    "start_time": "2024-09-29T08:44:49.114Z"
   },
   {
    "duration": 25,
    "start_time": "2024-09-29T08:44:49.143Z"
   },
   {
    "duration": 14,
    "start_time": "2024-09-29T08:44:49.169Z"
   },
   {
    "duration": 8,
    "start_time": "2024-09-29T08:44:49.184Z"
   },
   {
    "duration": 13,
    "start_time": "2024-09-29T08:44:49.193Z"
   },
   {
    "duration": 49,
    "start_time": "2024-09-29T08:44:49.208Z"
   },
   {
    "duration": 8,
    "start_time": "2024-09-29T08:44:49.260Z"
   },
   {
    "duration": 22,
    "start_time": "2024-09-29T08:44:49.269Z"
   },
   {
    "duration": 22,
    "start_time": "2024-09-29T08:44:49.293Z"
   },
   {
    "duration": 39,
    "start_time": "2024-09-29T08:44:49.317Z"
   },
   {
    "duration": 16,
    "start_time": "2024-09-29T08:44:49.358Z"
   },
   {
    "duration": 20,
    "start_time": "2024-09-29T08:44:49.375Z"
   },
   {
    "duration": 44,
    "start_time": "2024-09-29T08:44:49.400Z"
   },
   {
    "duration": 5,
    "start_time": "2024-09-29T08:44:49.445Z"
   },
   {
    "duration": 7,
    "start_time": "2024-09-29T08:44:49.453Z"
   },
   {
    "duration": 81,
    "start_time": "2024-09-29T08:44:49.462Z"
   },
   {
    "duration": 239,
    "start_time": "2024-09-29T08:44:49.544Z"
   },
   {
    "duration": 289,
    "start_time": "2024-09-29T08:44:49.785Z"
   },
   {
    "duration": 9,
    "start_time": "2024-09-29T08:44:50.076Z"
   },
   {
    "duration": 164,
    "start_time": "2024-09-29T08:44:50.087Z"
   },
   {
    "duration": 231,
    "start_time": "2024-09-29T08:44:50.253Z"
   },
   {
    "duration": 292,
    "start_time": "2024-09-29T08:44:50.486Z"
   },
   {
    "duration": 9,
    "start_time": "2024-09-29T08:44:50.780Z"
   },
   {
    "duration": 319,
    "start_time": "2024-09-29T08:44:50.790Z"
   },
   {
    "duration": 10,
    "start_time": "2024-09-29T08:44:51.111Z"
   },
   {
    "duration": 117,
    "start_time": "2024-09-29T08:44:51.123Z"
   },
   {
    "duration": 235,
    "start_time": "2024-09-29T08:44:51.241Z"
   },
   {
    "duration": 284,
    "start_time": "2024-09-29T08:44:51.478Z"
   },
   {
    "duration": 9,
    "start_time": "2024-09-29T08:44:51.764Z"
   },
   {
    "duration": 112,
    "start_time": "2024-09-29T08:44:51.775Z"
   },
   {
    "duration": 12,
    "start_time": "2024-09-29T08:44:51.889Z"
   },
   {
    "duration": 102,
    "start_time": "2024-09-29T08:44:51.903Z"
   }
  ],
  "kernelspec": {
   "display_name": "Python 3 (ipykernel)",
   "language": "python",
   "name": "python3"
  },
  "language_info": {
   "codemirror_mode": {
    "name": "ipython",
    "version": 3
   },
   "file_extension": ".py",
   "mimetype": "text/x-python",
   "name": "python",
   "nbconvert_exporter": "python",
   "pygments_lexer": "ipython3",
   "version": "3.9.19"
  },
  "toc": {
   "base_numbering": 1,
   "nav_menu": {},
   "number_sections": true,
   "sideBar": true,
   "skip_h1_title": false,
   "title_cell": "Table of Contents",
   "title_sidebar": "Contents",
   "toc_cell": false,
   "toc_position": {},
   "toc_section_display": true,
   "toc_window_display": true
  }
 },
 "nbformat": 4,
 "nbformat_minor": 2
}
